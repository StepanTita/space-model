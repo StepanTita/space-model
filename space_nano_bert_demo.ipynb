{
  "cells": [
    {
      "cell_type": "code",
      "source": [
        "! rm -rf nano-BERT\n",
        "! rm -rf space-model\n",
        "! git clone https://github.com/StepanTita/nano-BERT.git\n",
        "! git clone https://github.com/StepanTita/space-model.git"
      ],
      "metadata": {
        "id": "V4vJIZJeclwP",
        "outputId": "fdc87315-cb42-4d1c-d945-5ed08225a8c1",
        "colab": {
          "base_uri": "https://localhost:8080/"
        }
      },
      "execution_count": 5,
      "outputs": [
        {
          "output_type": "stream",
          "name": "stdout",
          "text": [
            "Cloning into 'nano-BERT'...\n",
            "remote: Enumerating objects: 32, done.\u001b[K\n",
            "remote: Counting objects: 100% (32/32), done.\u001b[K\n",
            "remote: Compressing objects: 100% (24/24), done.\u001b[K\n",
            "remote: Total 32 (delta 13), reused 22 (delta 6), pack-reused 0\u001b[K\n",
            "Receiving objects: 100% (32/32), 38.28 MiB | 27.78 MiB/s, done.\n",
            "Resolving deltas: 100% (13/13), done.\n",
            "Cloning into 'space-model'...\n",
            "remote: Enumerating objects: 19, done.\u001b[K\n",
            "remote: Counting objects: 100% (19/19), done.\u001b[K\n",
            "remote: Compressing objects: 100% (13/13), done.\u001b[K\n",
            "remote: Total 19 (delta 4), reused 18 (delta 3), pack-reused 0\u001b[K\n",
            "Receiving objects: 100% (19/19), 2.08 MiB | 13.81 MiB/s, done.\n",
            "Resolving deltas: 100% (4/4), done.\n"
          ]
        }
      ]
    },
    {
      "cell_type": "code",
      "source": [
        "import sys\n",
        "\n",
        "sys.path.append('/content/nano-BERT')\n",
        "sys.path.append('/content/space-model')"
      ],
      "metadata": {
        "id": "LFX6x0OIc6uP"
      },
      "execution_count": 6,
      "outputs": []
    },
    {
      "cell_type": "code",
      "execution_count": 23,
      "metadata": {
        "collapsed": true,
        "ExecuteTime": {
          "start_time": "2023-10-17T21:21:52.683897Z",
          "end_time": "2023-10-17T21:21:56.394657Z"
        },
        "id": "EzQpePJ4cXPG"
      },
      "outputs": [],
      "source": [
        "import math\n",
        "import json\n",
        "from collections import Counter\n",
        "\n",
        "import torch\n",
        "import torch.nn.functional as F\n",
        "\n",
        "from sklearn.metrics import accuracy_score, f1_score\n",
        "from sklearn.model_selection import train_test_split\n",
        "\n",
        "from tqdm import tqdm\n",
        "\n",
        "import matplotlib.pyplot as plt\n",
        "import plotly.graph_objects as go\n",
        "\n",
        "from model import NanoBertForClassification\n",
        "from tokenizer import WordTokenizer\n",
        "\n",
        "from space_model.model import SpaceModelForClassification\n",
        "from space_model.loss import *"
      ]
    },
    {
      "cell_type": "code",
      "execution_count": 11,
      "outputs": [],
      "source": [
        "device = torch.device('cuda' if torch.cuda.is_available() else 'cpu')"
      ],
      "metadata": {
        "ExecuteTime": {
          "start_time": "2023-10-17T21:21:57.485837Z",
          "end_time": "2023-10-17T21:21:57.492835Z"
        },
        "id": "dPxAI9XscXPH"
      }
    },
    {
      "cell_type": "code",
      "execution_count": 12,
      "outputs": [],
      "source": [
        "data = None\n",
        "with open('nano-BERT/data/imdb_train.json') as f:\n",
        "    data = [json.loads(l) for l in f.readlines()]"
      ],
      "metadata": {
        "ExecuteTime": {
          "start_time": "2023-10-17T21:21:58.202759Z",
          "end_time": "2023-10-17T21:21:58.663667Z"
        },
        "id": "KQb635bAcXPH"
      }
    },
    {
      "cell_type": "code",
      "execution_count": 13,
      "outputs": [],
      "source": [
        "vocab = set()\n",
        "for d in data:\n",
        "    vocab |= set([w.lower() for w in d['text']])"
      ],
      "metadata": {
        "ExecuteTime": {
          "start_time": "2023-10-17T21:21:59.290429Z",
          "end_time": "2023-10-17T21:21:59.380681Z"
        },
        "id": "MnzxttcxcXPI"
      }
    },
    {
      "cell_type": "code",
      "execution_count": 14,
      "outputs": [],
      "source": [
        "test_data = None\n",
        "with open('nano-BERT/data/imdb_test.json') as f:\n",
        "   test_data = [json.loads(l) for l in f.readlines()]"
      ],
      "metadata": {
        "ExecuteTime": {
          "start_time": "2023-10-17T21:21:59.785847Z",
          "end_time": "2023-10-17T21:21:59.795588Z"
        },
        "id": "m5CMy4NmcXPI"
      }
    },
    {
      "cell_type": "code",
      "execution_count": 15,
      "outputs": [],
      "source": [
        "def encode_label(label):\n",
        "    if label == 'pos':\n",
        "        return 1\n",
        "    elif label == 'neg':\n",
        "        return 0\n",
        "    raise Exception(f'Unknown Label: {label}!')\n",
        "\n",
        "\n",
        "class IMDBDataloader:\n",
        "    def __init__(self, data, test_data, tokenizer, label_encoder, batch_size, val_frac=0.2):\n",
        "        train_data, val_data = train_test_split(data, shuffle=True, random_state=42, test_size=val_frac)\n",
        "\n",
        "        self.splits = {\n",
        "            'train': [d['text'] for d in train_data],\n",
        "            'test': [d['text'] for d in test_data],\n",
        "            'val': [d['text'] for d in val_data]\n",
        "        }\n",
        "\n",
        "        self.labels = {\n",
        "            'train': [d['label'] for d in train_data],\n",
        "            'test': [d['label'] for d in test_data],\n",
        "            'val': [d['label'] for d in val_data]\n",
        "        }\n",
        "\n",
        "        self.tokenized = {\n",
        "            'train': [tokenizer(record).unsqueeze(0) for record in\n",
        "                      tqdm(self.splits['train'], desc='Train Tokenization')],\n",
        "            'test': [tokenizer(record).unsqueeze(0) for record in tqdm(self.splits['test'], desc='Test Tokenization')],\n",
        "            'val': [tokenizer(record).unsqueeze(0) for record in tqdm(self.splits['val'], desc='Val Tokenization')],\n",
        "        }\n",
        "\n",
        "        self.encoded_labels = {\n",
        "            'train': [label_encoder(label) for label in tqdm(self.labels['train'], desc='Train Label Encoding')],\n",
        "            'test': [label_encoder(label) for label in tqdm(self.labels['test'], desc='Test Label Encoding')],\n",
        "            'val': [label_encoder(label) for label in tqdm(self.labels['val'], desc='Val Label Encoding')],\n",
        "        }\n",
        "\n",
        "        self.curr_batch = 0\n",
        "        self.batch_size = batch_size\n",
        "        self.iterate_split = None\n",
        "\n",
        "    def peek(self, split):\n",
        "        return {\n",
        "            'input_ids': self.splits[split][self.batch_size * self.curr_batch:self.batch_size * (self.curr_batch + 1)],\n",
        "            'label_ids': self.labels[split][self.batch_size * self.curr_batch:self.batch_size * (self.curr_batch + 1)],\n",
        "        }\n",
        "\n",
        "    def take(self, split):\n",
        "        batch = self.splits[split][self.batch_size * self.curr_batch:self.batch_size * (self.curr_batch + 1)]\n",
        "        labels = self.labels[split][self.batch_size * self.curr_batch:self.batch_size * (self.curr_batch + 1)]\n",
        "        self.curr_batch += 1\n",
        "        return {\n",
        "            'input_ids': batch,\n",
        "            'label_ids': labels,\n",
        "        }\n",
        "\n",
        "    def peek_tokenized(self, split):\n",
        "        return {\n",
        "            'input_ids': torch.cat(\n",
        "                self.tokenized[split][self.batch_size * self.curr_batch:self.batch_size * (self.curr_batch + 1)],\n",
        "                dim=0),\n",
        "            'label_ids': torch.tensor(\n",
        "                self.encoded_labels[split][self.batch_size * self.curr_batch:self.batch_size * (self.curr_batch + 1)],\n",
        "                dtype=torch.long),\n",
        "        }\n",
        "\n",
        "    def peek_index_tokenized(self, index, split):\n",
        "        return {\n",
        "            'input_ids': torch.cat(\n",
        "                [self.tokenized[split][index]],\n",
        "                dim=0),\n",
        "            'label_ids': torch.tensor(\n",
        "                [self.encoded_labels[split][index]],\n",
        "                dtype=torch.long),\n",
        "        }\n",
        "\n",
        "    def peek_index(self, index, split):\n",
        "        return {\n",
        "            'input_ids': [self.splits[split][index]],\n",
        "            'label_ids': [self.labels[split][index]],\n",
        "        }\n",
        "\n",
        "    def take_tokenized(self, split):\n",
        "        batch = self.tokenized[split][self.batch_size * self.curr_batch:self.batch_size * (self.curr_batch + 1)]\n",
        "        labels = self.encoded_labels[split][self.batch_size * self.curr_batch:self.batch_size * (self.curr_batch + 1)]\n",
        "        self.curr_batch += 1\n",
        "        return {\n",
        "            'input_ids': torch.cat(batch, dim=0),\n",
        "            'label_ids': torch.tensor(labels, dtype=torch.long),\n",
        "        }\n",
        "\n",
        "    def get_split(self, split):\n",
        "        self.iterate_split = split\n",
        "        return self\n",
        "\n",
        "    def steps(self, split):\n",
        "        return len(self.tokenized[split]) // self.batch_size\n",
        "\n",
        "    def __iter__(self):\n",
        "        self.reset()\n",
        "        return self\n",
        "\n",
        "    def __next__(self):\n",
        "        if self.batch_size * self.curr_batch < len(self.splits[self.iterate_split]):\n",
        "            return self.take_tokenized(self.iterate_split)\n",
        "        else:\n",
        "            raise StopIteration\n",
        "\n",
        "    def reset(self):\n",
        "        self.curr_batch = 0"
      ],
      "metadata": {
        "ExecuteTime": {
          "start_time": "2023-10-17T21:22:01.646787Z",
          "end_time": "2023-10-17T21:22:01.652524Z"
        },
        "id": "V1EiqscxcXPI"
      }
    },
    {
      "cell_type": "code",
      "execution_count": 16,
      "outputs": [],
      "source": [
        "NUM_EPOCHS = 50\n",
        "BATCH_SIZE = 32\n",
        "MAX_SEQ_LEN = 128\n",
        "LEARNING_RATE = 1e-2"
      ],
      "metadata": {
        "ExecuteTime": {
          "start_time": "2023-10-17T21:22:18.368560Z",
          "end_time": "2023-10-17T21:22:18.371680Z"
        },
        "id": "5b6HjLMEcXPJ"
      }
    },
    {
      "cell_type": "code",
      "execution_count": 17,
      "outputs": [
        {
          "output_type": "execute_result",
          "data": {
            "text/plain": [
              "Tokenizer[vocab=101522,self.special_tokens=['[PAD]', '[CLS]', '[SEP]', '[UNK]'],self.sep=' ',self.max_seq_len=128]"
            ]
          },
          "metadata": {},
          "execution_count": 17
        }
      ],
      "source": [
        "tokenizer = WordTokenizer(vocab=vocab, max_seq_len=MAX_SEQ_LEN)\n",
        "tokenizer"
      ],
      "metadata": {
        "ExecuteTime": {
          "start_time": "2023-10-17T21:26:23.403439Z",
          "end_time": "2023-10-17T21:26:23.407128Z"
        },
        "id": "7CdJl4UEcXPJ",
        "outputId": "054a3aaa-ae35-43c9-b60c-129776875d9a",
        "colab": {
          "base_uri": "https://localhost:8080/"
        }
      }
    },
    {
      "cell_type": "code",
      "execution_count": 18,
      "outputs": [
        {
          "output_type": "stream",
          "name": "stderr",
          "text": [
            "Train Tokenization: 100%|██████████| 20000/20000 [00:02<00:00, 8334.15it/s]\n",
            "Test Tokenization: 100%|██████████| 25000/25000 [00:01<00:00, 16258.75it/s]\n",
            "Val Tokenization: 100%|██████████| 5000/5000 [00:00<00:00, 15976.46it/s]\n",
            "Train Label Encoding: 100%|██████████| 20000/20000 [00:00<00:00, 1264010.85it/s]\n",
            "Test Label Encoding: 100%|██████████| 25000/25000 [00:00<00:00, 1543567.10it/s]\n",
            "Val Label Encoding: 100%|██████████| 5000/5000 [00:00<00:00, 1350387.64it/s]\n"
          ]
        }
      ],
      "source": [
        "dataloader = IMDBDataloader(data, test_data, tokenizer, encode_label, batch_size=BATCH_SIZE)"
      ],
      "metadata": {
        "ExecuteTime": {
          "start_time": "2023-10-17T21:26:24.941273Z",
          "end_time": "2023-10-17T21:26:37.278112Z"
        },
        "id": "iQMDcK01cXPK",
        "outputId": "24e34528-c0b9-4159-ae88-8083f5de840b",
        "colab": {
          "base_uri": "https://localhost:8080/"
        }
      }
    },
    {
      "cell_type": "code",
      "execution_count": 19,
      "outputs": [
        {
          "output_type": "execute_result",
          "data": {
            "text/plain": [
              "NanoBertForClassification(\n",
              "  (nano_bert): NanoBERT(\n",
              "    (embedding): BertEmbeddings(\n",
              "      (word_embeddings): Embedding(101522, 3)\n",
              "      (pos_embeddings): Embedding(128, 3)\n",
              "      (layer_norm): LayerNorm((3,), eps=1e-12, elementwise_affine=True)\n",
              "      (dropout): Dropout(p=0.1, inplace=False)\n",
              "    )\n",
              "    (encoder): BertEncoder(\n",
              "      (layers): ModuleList(\n",
              "        (0): BertLayer(\n",
              "          (layer_norm1): LayerNorm((3,), eps=1e-05, elementwise_affine=True)\n",
              "          (self_attention): BertSelfAttention(\n",
              "            (heads): ModuleList(\n",
              "              (0): BertAttentionHead(\n",
              "                (query): Linear(in_features=3, out_features=3, bias=True)\n",
              "                (key): Linear(in_features=3, out_features=3, bias=True)\n",
              "                (values): Linear(in_features=3, out_features=3, bias=True)\n",
              "                (dropout): Dropout(p=0.1, inplace=False)\n",
              "              )\n",
              "            )\n",
              "            (proj): Linear(in_features=3, out_features=3, bias=True)\n",
              "            (dropout): Dropout(p=0.1, inplace=False)\n",
              "          )\n",
              "          (layer_norm2): LayerNorm((3,), eps=1e-05, elementwise_affine=True)\n",
              "          (feed_forward): FeedForward(\n",
              "            (ffwd): Sequential(\n",
              "              (0): Linear(in_features=3, out_features=12, bias=True)\n",
              "              (1): GELU(approximate='none')\n",
              "              (2): Linear(in_features=12, out_features=3, bias=True)\n",
              "              (3): Dropout(p=0.1, inplace=False)\n",
              "            )\n",
              "          )\n",
              "        )\n",
              "      )\n",
              "    )\n",
              "    (pooler): BertPooler(\n",
              "      (dense): Linear(in_features=3, out_features=3, bias=True)\n",
              "      (activation): GELU(approximate='none')\n",
              "    )\n",
              "  )\n",
              "  (classifier): Linear(in_features=3, out_features=2, bias=True)\n",
              ")"
            ]
          },
          "metadata": {},
          "execution_count": 19
        }
      ],
      "source": [
        "bert = NanoBertForClassification(\n",
        "    vocab_size=len(tokenizer.vocab),\n",
        "    n_layers=1,\n",
        "    n_heads=1,\n",
        "    max_seq_len=MAX_SEQ_LEN,\n",
        "    n_classes=2\n",
        ").to(device)\n",
        "bert"
      ],
      "metadata": {
        "ExecuteTime": {
          "start_time": "2023-10-17T21:26:39.490237Z",
          "end_time": "2023-10-17T21:26:39.504430Z"
        },
        "id": "7LtAcsA8cXPK",
        "outputId": "4e888f82-eff1-4c5f-ec01-6c2f7c9315e6",
        "colab": {
          "base_uri": "https://localhost:8080/"
        }
      }
    },
    {
      "cell_type": "code",
      "execution_count": 20,
      "outputs": [],
      "source": [
        "def count_parameters(model):\n",
        "    return sum(p.numel() for p in model.parameters() if p.requires_grad)"
      ],
      "metadata": {
        "ExecuteTime": {
          "start_time": "2023-10-17T21:26:40.211284Z",
          "end_time": "2023-10-17T21:26:40.220320Z"
        },
        "id": "H64pDk8AcXPK"
      }
    },
    {
      "cell_type": "code",
      "execution_count": 21,
      "outputs": [
        {
          "output_type": "execute_result",
          "data": {
            "text/plain": [
              "305123"
            ]
          },
          "metadata": {},
          "execution_count": 21
        }
      ],
      "source": [
        "count_parameters(bert)"
      ],
      "metadata": {
        "ExecuteTime": {
          "start_time": "2023-10-17T21:26:40.956953Z",
          "end_time": "2023-10-17T21:26:40.969226Z"
        },
        "id": "i-Bhh81ScXPK",
        "outputId": "fb8758a4-b8e1-4064-ee71-f3639a7d5122",
        "colab": {
          "base_uri": "https://localhost:8080/"
        }
      }
    },
    {
      "cell_type": "code",
      "execution_count": 22,
      "outputs": [
        {
          "output_type": "stream",
          "name": "stdout",
          "text": [
            "Epoch: 1\n"
          ]
        },
        {
          "output_type": "stream",
          "name": "stderr",
          "text": [
            "100%|██████████| 625/625 [00:05<00:00, 110.48it/s]\n",
            "157it [00:00, 174.67it/s]                         \n"
          ]
        },
        {
          "output_type": "stream",
          "name": "stdout",
          "text": [
            "\n",
            "Train loss: 0.69424509973526 | Val loss: 0.6982253128901507\n",
            "Train acc: 0.5035 | Val acc: 0.5034\n",
            "Train f1: 0.44251066696609026 | Val f1: 0.5033006601320265\n",
            "Epoch: 2\n"
          ]
        },
        {
          "output_type": "stream",
          "name": "stderr",
          "text": [
            "100%|██████████| 625/625 [00:03<00:00, 201.68it/s]\n",
            "157it [00:00, 242.28it/s]                         \n"
          ]
        },
        {
          "output_type": "stream",
          "name": "stdout",
          "text": [
            "\n",
            "Train loss: 0.6143448389053344 | Val loss: 0.5143855911416885\n",
            "Train acc: 0.6317 | Val acc: 0.7508\n",
            "Train f1: 0.6353465346534652 | Val f1: 0.7579642579642579\n",
            "Epoch: 3\n"
          ]
        },
        {
          "output_type": "stream",
          "name": "stderr",
          "text": [
            "100%|██████████| 625/625 [00:03<00:00, 203.81it/s]\n",
            "157it [00:01, 141.68it/s]                         \n"
          ]
        },
        {
          "output_type": "stream",
          "name": "stdout",
          "text": [
            "\n",
            "Train loss: 0.42988802280426025 | Val loss: 0.35617833622755146\n",
            "Train acc: 0.80655 | Val acc: 0.8488\n",
            "Train f1: 0.8079996029973698 | Val f1: 0.850887573964497\n",
            "Epoch: 4\n"
          ]
        },
        {
          "output_type": "stream",
          "name": "stderr",
          "text": [
            "100%|██████████| 625/625 [00:03<00:00, 166.83it/s]\n",
            "157it [00:01, 154.40it/s]                         \n"
          ]
        },
        {
          "output_type": "stream",
          "name": "stdout",
          "text": [
            "\n",
            "Train loss: 0.3420516100406647 | Val loss: 0.24630708877856916\n",
            "Train acc: 0.85795 | Val acc: 0.9056\n",
            "Train f1: 0.8583819350979511 | Val f1: 0.9066824831949387\n",
            "Epoch: 5\n"
          ]
        },
        {
          "output_type": "stream",
          "name": "stderr",
          "text": [
            "100%|██████████| 625/625 [00:04<00:00, 137.67it/s]\n",
            "157it [00:00, 189.07it/s]                         \n"
          ]
        },
        {
          "output_type": "stream",
          "name": "stdout",
          "text": [
            "\n",
            "Train loss: 0.2893947966814041 | Val loss: 0.17396821052982256\n",
            "Train acc: 0.8851 | Val acc: 0.9384\n",
            "Train f1: 0.8854208216992421 | Val f1: 0.9388403494837172\n",
            "Epoch: 6\n"
          ]
        },
        {
          "output_type": "stream",
          "name": "stderr",
          "text": [
            "100%|██████████| 625/625 [00:02<00:00, 226.95it/s]\n",
            "157it [00:00, 245.23it/s]                         \n"
          ]
        },
        {
          "output_type": "stream",
          "name": "stdout",
          "text": [
            "\n",
            "Train loss: 0.24356074215769768 | Val loss: 0.12202644179491565\n",
            "Train acc: 0.9037 | Val acc: 0.962\n",
            "Train f1: 0.9034296028880866 | Val f1: 0.9622266401590457\n",
            "Epoch: 7\n"
          ]
        },
        {
          "output_type": "stream",
          "name": "stderr",
          "text": [
            "100%|██████████| 625/625 [00:03<00:00, 197.43it/s]\n",
            "157it [00:00, 186.45it/s]                         \n"
          ]
        },
        {
          "output_type": "stream",
          "name": "stdout",
          "text": [
            "\n",
            "Train loss: 0.21535038361400366 | Val loss: 0.0923539778077378\n",
            "Train acc: 0.9183 | Val acc: 0.9698\n",
            "Train f1: 0.918185459643501 | Val f1: 0.9700218383958706\n",
            "Epoch: 8\n"
          ]
        },
        {
          "output_type": "stream",
          "name": "stderr",
          "text": [
            "100%|██████████| 625/625 [00:02<00:00, 228.86it/s]\n",
            "157it [00:00, 242.09it/s]                         \n"
          ]
        },
        {
          "output_type": "stream",
          "name": "stdout",
          "text": [
            "\n",
            "Train loss: 0.19683323801085353 | Val loss: 0.06851655008563867\n",
            "Train acc: 0.92585 | Val acc: 0.9812\n",
            "Train f1: 0.9256455251942842 | Val f1: 0.9813195548489666\n",
            "Epoch: 9\n"
          ]
        },
        {
          "output_type": "stream",
          "name": "stderr",
          "text": [
            "100%|██████████| 625/625 [00:02<00:00, 233.00it/s]\n",
            "157it [00:00, 240.45it/s]                         \n"
          ]
        },
        {
          "output_type": "stream",
          "name": "stdout",
          "text": [
            "\n",
            "Train loss: 0.18306916678845883 | Val loss: 0.06520352853933731\n",
            "Train acc: 0.93115 | Val acc: 0.9806\n",
            "Train f1: 0.9311190035515983 | Val f1: 0.9806811392152958\n",
            "Epoch: 10\n"
          ]
        },
        {
          "output_type": "stream",
          "name": "stderr",
          "text": [
            "100%|██████████| 625/625 [00:02<00:00, 233.31it/s]\n",
            "157it [00:00, 189.45it/s]                         \n"
          ]
        },
        {
          "output_type": "stream",
          "name": "stdout",
          "text": [
            "\n",
            "Train loss: 0.16266239131987095 | Val loss: 0.05700734513587891\n",
            "Train acc: 0.93935 | Val acc: 0.9808\n",
            "Train f1: 0.9389808340459782 | Val f1: 0.9809296781883194\n",
            "Epoch: 11\n"
          ]
        },
        {
          "output_type": "stream",
          "name": "stderr",
          "text": [
            "100%|██████████| 625/625 [00:04<00:00, 148.20it/s]\n",
            "157it [00:00, 212.40it/s]                         \n"
          ]
        },
        {
          "output_type": "stream",
          "name": "stdout",
          "text": [
            "\n",
            "Train loss: 0.15268866265565156 | Val loss: 0.04742882347319466\n",
            "Train acc: 0.94265 | Val acc: 0.986\n",
            "Train f1: 0.9425954656924078 | Val f1: 0.9860945570123162\n",
            "Epoch: 12\n"
          ]
        },
        {
          "output_type": "stream",
          "name": "stderr",
          "text": [
            "100%|██████████| 625/625 [00:03<00:00, 170.94it/s]\n",
            "157it [00:01, 134.55it/s]                         \n"
          ]
        },
        {
          "output_type": "stream",
          "name": "stdout",
          "text": [
            "\n",
            "Train loss: 0.14203243795484305 | Val loss: 0.04384835634361176\n",
            "Train acc: 0.949 | Val acc: 0.9866\n",
            "Train f1: 0.9488567990373046 | Val f1: 0.986687860123187\n",
            "Epoch: 13\n"
          ]
        },
        {
          "output_type": "stream",
          "name": "stderr",
          "text": [
            "100%|██████████| 625/625 [00:06<00:00, 89.98it/s] \n",
            "157it [00:01, 81.97it/s]                         \n"
          ]
        },
        {
          "output_type": "stream",
          "name": "stdout",
          "text": [
            "\n",
            "Train loss: 0.13767368436306715 | Val loss: 0.04215710751939183\n",
            "Train acc: 0.9487 | Val acc: 0.988\n",
            "Train f1: 0.9485611150105284 | Val f1: 0.9880999603332011\n",
            "Epoch: 14\n"
          ]
        },
        {
          "output_type": "stream",
          "name": "stderr",
          "text": [
            "100%|██████████| 625/625 [00:04<00:00, 140.13it/s]\n",
            "157it [00:00, 166.54it/s]                         \n"
          ]
        },
        {
          "output_type": "stream",
          "name": "stdout",
          "text": [
            "\n",
            "Train loss: 0.12467939331457019 | Val loss: 0.03255721302188109\n",
            "Train acc: 0.95365 | Val acc: 0.9886\n",
            "Train f1: 0.9536662168241117 | Val f1: 0.9886747466719651\n",
            "Epoch: 15\n"
          ]
        },
        {
          "output_type": "stream",
          "name": "stderr",
          "text": [
            "100%|██████████| 625/625 [00:04<00:00, 135.80it/s]\n",
            "157it [00:00, 221.61it/s]                         \n"
          ]
        },
        {
          "output_type": "stream",
          "name": "stdout",
          "text": [
            "\n",
            "Train loss: 0.12210243988651782 | Val loss: 0.0301575575482648\n",
            "Train acc: 0.9555 | Val acc: 0.9908\n",
            "Train f1: 0.9555088982203559 | Val f1: 0.9908730158730158\n",
            "Epoch: 16\n"
          ]
        },
        {
          "output_type": "stream",
          "name": "stderr",
          "text": [
            "100%|██████████| 625/625 [00:04<00:00, 132.21it/s]\n",
            "157it [00:01, 142.94it/s]                         \n"
          ]
        },
        {
          "output_type": "stream",
          "name": "stdout",
          "text": [
            "\n",
            "Train loss: 0.11276096128225327 | Val loss: 0.027088777085177405\n",
            "Train acc: 0.95825 | Val acc: 0.9934\n",
            "Train f1: 0.9582186639979985 | Val f1: 0.9934458788480635\n",
            "Epoch: 17\n"
          ]
        },
        {
          "output_type": "stream",
          "name": "stderr",
          "text": [
            "100%|██████████| 625/625 [00:04<00:00, 142.57it/s]\n",
            "157it [00:00, 206.83it/s]                         \n"
          ]
        },
        {
          "output_type": "stream",
          "name": "stdout",
          "text": [
            "\n",
            "Train loss: 0.11333809667378664 | Val loss: 0.023306277559477635\n",
            "Train acc: 0.9598 | Val acc: 0.9938\n",
            "Train f1: 0.9596871239470517 | Val f1: 0.993840651698788\n",
            "Epoch: 18\n"
          ]
        },
        {
          "output_type": "stream",
          "name": "stderr",
          "text": [
            "100%|██████████| 625/625 [00:04<00:00, 140.05it/s]\n",
            "157it [00:00, 173.93it/s]                         \n"
          ]
        },
        {
          "output_type": "stream",
          "name": "stdout",
          "text": [
            "\n",
            "Train loss: 0.11091501301638781 | Val loss: 0.027645489815068477\n",
            "Train acc: 0.96 | Val acc: 0.9912\n",
            "Train f1: 0.9600199900049975 | Val f1: 0.9912594358363132\n",
            "Epoch: 19\n"
          ]
        },
        {
          "output_type": "stream",
          "name": "stderr",
          "text": [
            "100%|██████████| 625/625 [00:04<00:00, 140.15it/s]\n",
            "157it [00:01, 98.73it/s]                          \n"
          ]
        },
        {
          "output_type": "stream",
          "name": "stdout",
          "text": [
            "\n",
            "Train loss: 0.10558255863711238 | Val loss: 0.023741665846804\n",
            "Train acc: 0.96285 | Val acc: 0.9924\n",
            "Train f1: 0.9627848735286751 | Val f1: 0.9924513309495432\n",
            "Epoch: 20\n"
          ]
        },
        {
          "output_type": "stream",
          "name": "stderr",
          "text": [
            "100%|██████████| 625/625 [00:04<00:00, 140.60it/s]\n",
            "157it [00:01, 146.02it/s]                         \n"
          ]
        },
        {
          "output_type": "stream",
          "name": "stdout",
          "text": [
            "\n",
            "Train loss: 0.10275407341057435 | Val loss: 0.024094740706529522\n",
            "Train acc: 0.9632 | Val acc: 0.993\n",
            "Train f1: 0.9631705364291434 | Val f1: 0.9930514194957315\n",
            "Epoch: 21\n"
          ]
        },
        {
          "output_type": "stream",
          "name": "stderr",
          "text": [
            "100%|██████████| 625/625 [00:03<00:00, 168.00it/s]\n",
            "157it [00:00, 186.62it/s]                         \n"
          ]
        },
        {
          "output_type": "stream",
          "name": "stdout",
          "text": [
            "\n",
            "Train loss: 0.10227889029048383 | Val loss: 0.01842693757563934\n",
            "Train acc: 0.964 | Val acc: 0.9944\n",
            "Train f1: 0.9640215870477713 | Val f1: 0.9944378228049265\n",
            "Epoch: 22\n"
          ]
        },
        {
          "output_type": "stream",
          "name": "stderr",
          "text": [
            "100%|██████████| 625/625 [00:04<00:00, 147.90it/s]\n",
            "157it [00:00, 200.84it/s]                         \n"
          ]
        },
        {
          "output_type": "stream",
          "name": "stdout",
          "text": [
            "\n",
            "Train loss: 0.09559211812727153 | Val loss: 0.012344700883589282\n",
            "Train acc: 0.9661 | Val acc: 0.9968\n",
            "Train f1: 0.9661440127833815 | Val f1: 0.9968190854870775\n",
            "Epoch: 23\n"
          ]
        },
        {
          "output_type": "stream",
          "name": "stderr",
          "text": [
            "100%|██████████| 625/625 [00:04<00:00, 130.25it/s]\n",
            "157it [00:01, 137.02it/s]                         \n"
          ]
        },
        {
          "output_type": "stream",
          "name": "stdout",
          "text": [
            "\n",
            "Train loss: 0.10053175151385367 | Val loss: 0.019436386892732863\n",
            "Train acc: 0.96505 | Val acc: 0.9954\n",
            "Train f1: 0.9649922371913657 | Val f1: 0.9954301609378103\n",
            "Epoch: 24\n"
          ]
        },
        {
          "output_type": "stream",
          "name": "stderr",
          "text": [
            "100%|██████████| 625/625 [00:06<00:00, 93.05it/s] \n",
            "157it [00:00, 175.18it/s]                         \n"
          ]
        },
        {
          "output_type": "stream",
          "name": "stdout",
          "text": [
            "\n",
            "Train loss: 0.09550555308014154 | Val loss: 0.015518063343197589\n",
            "Train acc: 0.9658 | Val acc: 0.9952\n",
            "Train f1: 0.9658102569229232 | Val f1: 0.9952286282306163\n",
            "Epoch: 25\n"
          ]
        },
        {
          "output_type": "stream",
          "name": "stderr",
          "text": [
            "100%|██████████| 625/625 [00:05<00:00, 123.43it/s]\n",
            "157it [00:00, 198.29it/s]                         \n"
          ]
        },
        {
          "output_type": "stream",
          "name": "stdout",
          "text": [
            "\n",
            "Train loss: 0.08639993268474937 | Val loss: 0.013882212770159897\n",
            "Train acc: 0.969 | Val acc: 0.9966\n",
            "Train f1: 0.9689875950380153 | Val f1: 0.9966209501093222\n",
            "Epoch: 26\n"
          ]
        },
        {
          "output_type": "stream",
          "name": "stderr",
          "text": [
            "100%|██████████| 625/625 [00:04<00:00, 142.71it/s]\n",
            "157it [00:00, 219.79it/s]                         \n"
          ]
        },
        {
          "output_type": "stream",
          "name": "stdout",
          "text": [
            "\n",
            "Train loss: 0.08614280918100849 | Val loss: 0.01865940991042291\n",
            "Train acc: 0.9696 | Val acc: 0.9946\n",
            "Train f1: 0.9695543314972459 | Val f1: 0.9946354063182993\n",
            "Epoch: 27\n"
          ]
        },
        {
          "output_type": "stream",
          "name": "stderr",
          "text": [
            "100%|██████████| 625/625 [00:05<00:00, 122.62it/s]\n",
            "157it [00:01, 142.12it/s]                         \n"
          ]
        },
        {
          "output_type": "stream",
          "name": "stdout",
          "text": [
            "\n",
            "Train loss: 0.08764239957537502 | Val loss: 0.015412338793211324\n",
            "Train acc: 0.96915 | Val acc: 0.9968\n",
            "Train f1: 0.9692499377024669 | Val f1: 0.9968228752978554\n",
            "Epoch: 28\n"
          ]
        },
        {
          "output_type": "stream",
          "name": "stderr",
          "text": [
            "100%|██████████| 625/625 [00:04<00:00, 135.97it/s]\n",
            "157it [00:01, 112.05it/s]                         \n"
          ]
        },
        {
          "output_type": "stream",
          "name": "stdout",
          "text": [
            "\n",
            "Train loss: 0.08465413036113605 | Val loss: 0.01635553674644213\n",
            "Train acc: 0.9696 | Val acc: 0.9966\n",
            "Train f1: 0.9695969596959696 | Val f1: 0.9966222928670774\n",
            "Epoch: 29\n"
          ]
        },
        {
          "output_type": "stream",
          "name": "stderr",
          "text": [
            "100%|██████████| 625/625 [00:02<00:00, 218.76it/s]\n",
            "157it [00:00, 226.46it/s]                         \n"
          ]
        },
        {
          "output_type": "stream",
          "name": "stdout",
          "text": [
            "\n",
            "Train loss: 0.0843944850133732 | Val loss: 0.016169613807039403\n",
            "Train acc: 0.9692 | Val acc: 0.996\n",
            "Train f1: 0.9692184689186488 | Val f1: 0.9960238568588469\n",
            "Epoch: 30\n"
          ]
        },
        {
          "output_type": "stream",
          "name": "stderr",
          "text": [
            "100%|██████████| 625/625 [00:03<00:00, 157.72it/s]\n",
            "157it [00:00, 236.37it/s]                         \n"
          ]
        },
        {
          "output_type": "stream",
          "name": "stdout",
          "text": [
            "\n",
            "Train loss: 0.08383518650257028 | Val loss: 0.017412482612342454\n",
            "Train acc: 0.97115 | Val acc: 0.9956\n",
            "Train f1: 0.9711946482951425 | Val f1: 0.9956245027844074\n",
            "Epoch: 31\n"
          ]
        },
        {
          "output_type": "stream",
          "name": "stderr",
          "text": [
            "100%|██████████| 625/625 [00:03<00:00, 191.32it/s]\n",
            "157it [00:00, 210.59it/s]                         \n"
          ]
        },
        {
          "output_type": "stream",
          "name": "stdout",
          "text": [
            "\n",
            "Train loss: 0.07672271969066932 | Val loss: 0.016117104479293723\n",
            "Train acc: 0.9714 | Val acc: 0.9948\n",
            "Train f1: 0.9714627818798643 | Val f1: 0.994831013916501\n",
            "Epoch: 32\n"
          ]
        },
        {
          "output_type": "stream",
          "name": "stderr",
          "text": [
            "100%|██████████| 625/625 [00:02<00:00, 226.95it/s]\n",
            "157it [00:00, 190.89it/s]                         \n"
          ]
        },
        {
          "output_type": "stream",
          "name": "stdout",
          "text": [
            "\n",
            "Train loss: 0.07949097560010851 | Val loss: 0.014100697010853298\n",
            "Train acc: 0.97115 | Val acc: 0.9976\n",
            "Train f1: 0.9712147667747569 | Val f1: 0.9976143141153081\n",
            "Epoch: 33\n"
          ]
        },
        {
          "output_type": "stream",
          "name": "stderr",
          "text": [
            "100%|██████████| 625/625 [00:02<00:00, 221.39it/s]\n",
            "157it [00:00, 238.46it/s]                         \n"
          ]
        },
        {
          "output_type": "stream",
          "name": "stdout",
          "text": [
            "\n",
            "Train loss: 0.07336161033250392 | Val loss: 0.009892026024877291\n",
            "Train acc: 0.9725 | Val acc: 0.998\n",
            "Train f1: 0.9725 | Val f1: 0.9980142970611596\n",
            "Epoch: 34\n"
          ]
        },
        {
          "output_type": "stream",
          "name": "stderr",
          "text": [
            "100%|██████████| 625/625 [00:02<00:00, 210.28it/s]\n",
            "157it [00:00, 172.00it/s]                         \n"
          ]
        },
        {
          "output_type": "stream",
          "name": "stdout",
          "text": [
            "\n",
            "Train loss: 0.08022094918088987 | Val loss: 0.010980437859521212\n",
            "Train acc: 0.97115 | Val acc: 0.998\n",
            "Train f1: 0.9711312353029469 | Val f1: 0.9980119284294234\n",
            "Epoch: 35\n"
          ]
        },
        {
          "output_type": "stream",
          "name": "stderr",
          "text": [
            "100%|██████████| 625/625 [00:02<00:00, 222.26it/s]\n",
            "157it [00:00, 237.72it/s]                         \n"
          ]
        },
        {
          "output_type": "stream",
          "name": "stdout",
          "text": [
            "\n",
            "Train loss: 0.07320630355572794 | Val loss: 0.009288841460100882\n",
            "Train acc: 0.9743 | Val acc: 0.9984\n",
            "Train f1: 0.974310275889644 | Val f1: 0.9984095427435388\n",
            "Epoch: 36\n"
          ]
        },
        {
          "output_type": "stream",
          "name": "stderr",
          "text": [
            "100%|██████████| 625/625 [00:02<00:00, 231.99it/s]\n",
            "157it [00:00, 238.79it/s]                         \n"
          ]
        },
        {
          "output_type": "stream",
          "name": "stdout",
          "text": [
            "\n",
            "Train loss: 0.07408792081680149 | Val loss: 0.009541675976460958\n",
            "Train acc: 0.97345 | Val acc: 0.9984\n",
            "Train f1: 0.9734380471212044 | Val f1: 0.9984089101034209\n",
            "Epoch: 37\n"
          ]
        },
        {
          "output_type": "stream",
          "name": "stderr",
          "text": [
            "100%|██████████| 625/625 [00:03<00:00, 195.35it/s]\n",
            "157it [00:00, 189.47it/s]\n"
          ]
        },
        {
          "output_type": "stream",
          "name": "stdout",
          "text": [
            "\n",
            "Train loss: 0.07609309555776417 | Val loss: 0.011766991543295146\n",
            "Train acc: 0.97455 | Val acc: 0.9974\n",
            "Train f1: 0.9745944596955328 | Val f1: 0.9974139645912075\n",
            "Epoch: 38\n"
          ]
        },
        {
          "output_type": "stream",
          "name": "stderr",
          "text": [
            "100%|██████████| 625/625 [00:03<00:00, 198.01it/s]\n",
            "157it [00:00, 240.24it/s]                         \n"
          ]
        },
        {
          "output_type": "stream",
          "name": "stdout",
          "text": [
            "\n",
            "Train loss: 0.06929890594524331 | Val loss: 0.009933770963680918\n",
            "Train acc: 0.9768 | Val acc: 0.9978\n",
            "Train f1: 0.9767767767767768 | Val f1: 0.9978135559530908\n",
            "Epoch: 39\n"
          ]
        },
        {
          "output_type": "stream",
          "name": "stderr",
          "text": [
            "100%|██████████| 625/625 [00:02<00:00, 232.29it/s]\n",
            "157it [00:00, 234.60it/s]                         \n"
          ]
        },
        {
          "output_type": "stream",
          "name": "stdout",
          "text": [
            "\n",
            "Train loss: 0.06973353418051265 | Val loss: 0.010148341035323355\n",
            "Train acc: 0.9747 | Val acc: 0.9986\n",
            "Train f1: 0.9746848108865319 | Val f1: 0.9986086265156032\n",
            "Epoch: 40\n"
          ]
        },
        {
          "output_type": "stream",
          "name": "stderr",
          "text": [
            "100%|██████████| 625/625 [00:02<00:00, 227.78it/s]\n",
            "157it [00:00, 243.09it/s]                         \n"
          ]
        },
        {
          "output_type": "stream",
          "name": "stdout",
          "text": [
            "\n",
            "Train loss: 0.0671683953662403 | Val loss: 0.007835414672090571\n",
            "Train acc: 0.9767 | Val acc: 0.9986\n",
            "Train f1: 0.9766953390678136 | Val f1: 0.9986091794158554\n",
            "Epoch: 41\n"
          ]
        },
        {
          "output_type": "stream",
          "name": "stderr",
          "text": [
            "100%|██████████| 625/625 [00:03<00:00, 186.43it/s]\n",
            "157it [00:00, 236.47it/s]                         \n"
          ]
        },
        {
          "output_type": "stream",
          "name": "stdout",
          "text": [
            "\n",
            "Train loss: 0.07134580684474204 | Val loss: 0.012312432253822454\n",
            "Train acc: 0.9739 | Val acc: 0.9976\n",
            "Train f1: 0.9739052189562087 | Val f1: 0.9976143141153081\n",
            "Epoch: 42\n"
          ]
        },
        {
          "output_type": "stream",
          "name": "stderr",
          "text": [
            "100%|██████████| 625/625 [00:02<00:00, 230.28it/s]\n",
            "157it [00:00, 242.18it/s]                         \n"
          ]
        },
        {
          "output_type": "stream",
          "name": "stdout",
          "text": [
            "\n",
            "Train loss: 0.06902823394914158 | Val loss: 0.010113990743134193\n",
            "Train acc: 0.97565 | Val acc: 0.9982\n",
            "Train f1: 0.9756731105449823 | Val f1: 0.9982125124131083\n",
            "Epoch: 43\n"
          ]
        },
        {
          "output_type": "stream",
          "name": "stderr",
          "text": [
            "100%|██████████| 625/625 [00:02<00:00, 230.42it/s]\n",
            "157it [00:00, 237.03it/s]                         \n"
          ]
        },
        {
          "output_type": "stream",
          "name": "stdout",
          "text": [
            "\n",
            "Train loss: 0.0707148328538984 | Val loss: 0.010445693702562354\n",
            "Train acc: 0.97605 | Val acc: 0.9982\n",
            "Train f1: 0.9761132997556474 | Val f1: 0.9982125124131083\n",
            "Epoch: 44\n"
          ]
        },
        {
          "output_type": "stream",
          "name": "stderr",
          "text": [
            "100%|██████████| 625/625 [00:03<00:00, 206.10it/s]\n",
            "157it [00:00, 176.34it/s]                         \n"
          ]
        },
        {
          "output_type": "stream",
          "name": "stdout",
          "text": [
            "\n",
            "Train loss: 0.06817574074543081 | Val loss: 0.009008239233830513\n",
            "Train acc: 0.9753 | Val acc: 0.9982\n",
            "Train f1: 0.9753 | Val f1: 0.9982118021060997\n",
            "Epoch: 45\n"
          ]
        },
        {
          "output_type": "stream",
          "name": "stderr",
          "text": [
            "100%|██████████| 625/625 [00:02<00:00, 226.32it/s]\n",
            "157it [00:00, 236.87it/s]                         \n"
          ]
        },
        {
          "output_type": "stream",
          "name": "stdout",
          "text": [
            "\n",
            "Train loss: 0.06417671635304578 | Val loss: 0.01092439209549831\n",
            "Train acc: 0.9773 | Val acc: 0.9972\n",
            "Train f1: 0.977293187956387 | Val f1: 0.9972189114024632\n",
            "Epoch: 46\n"
          ]
        },
        {
          "output_type": "stream",
          "name": "stderr",
          "text": [
            "100%|██████████| 625/625 [00:03<00:00, 174.22it/s]\n",
            "157it [00:01, 118.30it/s]                         \n"
          ]
        },
        {
          "output_type": "stream",
          "name": "stdout",
          "text": [
            "\n",
            "Train loss: 0.06539606132116169 | Val loss: 0.009963327975548544\n",
            "Train acc: 0.97585 | Val acc: 0.9976\n",
            "Train f1: 0.9758632751986408 | Val f1: 0.9976152623211446\n",
            "Epoch: 47\n"
          ]
        },
        {
          "output_type": "stream",
          "name": "stderr",
          "text": [
            "100%|██████████| 625/625 [00:06<00:00, 95.52it/s] \n",
            "157it [00:01, 126.46it/s]                         \n"
          ]
        },
        {
          "output_type": "stream",
          "name": "stdout",
          "text": [
            "\n",
            "Train loss: 0.06452466400489211 | Val loss: 0.006125287502725722\n",
            "Train acc: 0.97665 | Val acc: 0.9992\n",
            "Train f1: 0.9766791510611735 | Val f1: 0.9992047713717693\n",
            "Epoch: 48\n"
          ]
        },
        {
          "output_type": "stream",
          "name": "stderr",
          "text": [
            "100%|██████████| 625/625 [00:04<00:00, 125.88it/s]\n",
            "157it [00:00, 182.63it/s]\n"
          ]
        },
        {
          "output_type": "stream",
          "name": "stdout",
          "text": [
            "\n",
            "Train loss: 0.06323236619406379 | Val loss: 0.009533259160656225\n",
            "Train acc: 0.9772 | Val acc: 0.9982\n",
            "Train f1: 0.9772227772227773 | Val f1: 0.9982118021060997\n",
            "Epoch: 49\n"
          ]
        },
        {
          "output_type": "stream",
          "name": "stderr",
          "text": [
            "100%|██████████| 625/625 [00:03<00:00, 185.82it/s]\n",
            "157it [00:00, 235.86it/s]                         \n"
          ]
        },
        {
          "output_type": "stream",
          "name": "stdout",
          "text": [
            "\n",
            "Train loss: 0.06699056839924306 | Val loss: 0.009622795951005313\n",
            "Train acc: 0.9772 | Val acc: 0.9986\n",
            "Train f1: 0.9772227772227773 | Val f1: 0.9986080731755816\n",
            "Epoch: 50\n"
          ]
        },
        {
          "output_type": "stream",
          "name": "stderr",
          "text": [
            "100%|██████████| 625/625 [00:02<00:00, 227.72it/s]\n",
            "157it [00:00, 240.14it/s]                         "
          ]
        },
        {
          "output_type": "stream",
          "name": "stdout",
          "text": [
            "\n",
            "Train loss: 0.06226340431179851 | Val loss: 0.007051446901804854\n",
            "Train acc: 0.97735 | Val acc: 0.9994\n",
            "Train f1: 0.9774008480917935 | Val f1: 0.999403459932392\n"
          ]
        },
        {
          "output_type": "stream",
          "name": "stderr",
          "text": [
            "\n"
          ]
        }
      ],
      "source": [
        "optimizer = torch.optim.Adam(bert.parameters(), lr=LEARNING_RATE)\n",
        "\n",
        "for i in range(NUM_EPOCHS):\n",
        "    print(f'Epoch: {i + 1}')\n",
        "    train_loss = 0.0\n",
        "    train_preds = []\n",
        "    train_labels = []\n",
        "\n",
        "    bert.train()\n",
        "    for step, batch in enumerate(tqdm(dataloader.get_split('train'), total=dataloader.steps('train'))):\n",
        "        logits = bert(batch['input_ids'].to(device)) # (B, Seq_Len, 2)\n",
        "\n",
        "        probs = F.softmax(logits[:, 0, :], dim=-1).cpu()\n",
        "        pred = torch.argmax(probs, dim=-1) # (B)\n",
        "        train_preds += pred.detach().tolist()\n",
        "        train_labels += [l.item() for l in batch['label_ids']]\n",
        "\n",
        "        loss = F.cross_entropy(logits[:, 0, :].cpu(), batch['label_ids'])\n",
        "\n",
        "        optimizer.zero_grad()\n",
        "        loss.backward()\n",
        "        optimizer.step()\n",
        "\n",
        "        train_loss += loss.item()\n",
        "\n",
        "    val_loss = 0.0\n",
        "    val_preds = []\n",
        "    val_labels = []\n",
        "\n",
        "    bert.eval()\n",
        "    for step, batch in enumerate(tqdm(dataloader.get_split('val'), total=dataloader.steps('val'))):\n",
        "        logits = bert(batch['input_ids'].to(device))\n",
        "\n",
        "        probs = F.softmax(logits[:, 0, :], dim=-1).cpu()\n",
        "        pred = torch.argmax(probs, dim=-1) # (B)\n",
        "        val_preds += pred.detach().tolist()\n",
        "        val_labels += [l.item() for l in batch['label_ids']]\n",
        "\n",
        "        loss = F.cross_entropy(logits[:, 0, :].cpu(), batch['label_ids'])\n",
        "\n",
        "        val_loss += loss.item()\n",
        "\n",
        "    print()\n",
        "    print(f'Train loss: {train_loss / dataloader.steps(\"train\")} | Val loss: {val_loss / dataloader.steps(\"val\")}')\n",
        "    print(f'Train acc: {accuracy_score(train_labels, train_preds)} | Val acc: {accuracy_score(val_labels, val_preds)}')\n",
        "    print(f'Train f1: {f1_score(train_labels, train_preds)} | Val f1: {f1_score(val_labels, val_preds)}')"
      ],
      "metadata": {
        "id": "dlLiYGbjcXPL",
        "outputId": "22d3a7ca-12e1-4fb5-b191-15ea6cdb01aa",
        "colab": {
          "base_uri": "https://localhost:8080/"
        }
      }
    },
    {
      "cell_type": "code",
      "source": [
        "test_loss = 0.0\n",
        "test_preds = []\n",
        "test_labels = []\n",
        "\n",
        "bert.eval()\n",
        "for step, batch in enumerate(tqdm(dataloader.get_split('test'), total=dataloader.steps('test'))):\n",
        "    logits = bert(batch['input_ids'].to(device))\n",
        "\n",
        "    probs = F.softmax(logits[:, 0, :], dim=-1).cpu()\n",
        "    pred = torch.argmax(probs, dim=-1) # (B)\n",
        "    test_preds += pred.detach().tolist()\n",
        "    test_labels += [l.item() for l in batch['label_ids']]\n",
        "\n",
        "    loss = F.cross_entropy(logits[:, 0, :].cpu(), batch['label_ids'])\n",
        "\n",
        "    test_loss += loss.item()\n",
        "\n",
        "print()\n",
        "print(f'Test loss: {test_loss / dataloader.steps(\"test\")}')\n",
        "print(f'Test acc: {accuracy_score(test_labels, test_preds)}')\n",
        "print(f'Test f1: {f1_score(test_labels, test_preds)}')"
      ],
      "metadata": {
        "colab": {
          "base_uri": "https://localhost:8080/"
        },
        "id": "_FimwkDtWqzD",
        "outputId": "6d99af1c-8d79-48c5-8735-b5c651b031ac"
      },
      "execution_count": 24,
      "outputs": [
        {
          "output_type": "stream",
          "name": "stderr",
          "text": [
            "782it [00:03, 225.12it/s]                         \n"
          ]
        },
        {
          "output_type": "stream",
          "name": "stdout",
          "text": [
            "\n",
            "Test loss: 0.0819332813621452\n",
            "Test acc: 0.98692\n",
            "Test f1: 0.987061290705496\n"
          ]
        }
      ]
    },
    {
      "cell_type": "markdown",
      "source": [
        "# Add Space Model"
      ],
      "metadata": {
        "id": "oo5_5917roF9"
      }
    },
    {
      "cell_type": "code",
      "source": [
        "class SpaceBertForClassification(torch.nn.Module):\n",
        "    def __init__(self, base_model, n_embed=3, n_latent=3, n_concept_spaces=2, fine_tune=True):\n",
        "        super().__init__()\n",
        "\n",
        "        if fine_tune:\n",
        "            for p in base_model.parameters():\n",
        "                p.requires_grad_(False)\n",
        "        self.bert = base_model\n",
        "        self.space_model = SpaceModelForClassification(n_embed, n_latent, n_concept_spaces)\n",
        "\n",
        "    def forward(self, x):\n",
        "        embed = self.bert(x)\n",
        "\n",
        "        out = self.space_model(embed)\n",
        "\n",
        "        return out"
      ],
      "metadata": {
        "id": "fMY-1ahgrngT"
      },
      "execution_count": 96,
      "outputs": []
    },
    {
      "cell_type": "code",
      "source": [
        "space_bert = SpaceBertForClassification(bert.nano_bert).to(device)\n",
        "space_bert"
      ],
      "metadata": {
        "colab": {
          "base_uri": "https://localhost:8080/"
        },
        "id": "JqMCe2z9s29J",
        "outputId": "b456fea5-42df-4d9c-c974-3b9e3bcce823"
      },
      "execution_count": 97,
      "outputs": [
        {
          "output_type": "execute_result",
          "data": {
            "text/plain": [
              "SpaceBertForClassification(\n",
              "  (bert): NanoBERT(\n",
              "    (embedding): BertEmbeddings(\n",
              "      (word_embeddings): Embedding(101522, 3)\n",
              "      (pos_embeddings): Embedding(128, 3)\n",
              "      (layer_norm): LayerNorm((3,), eps=1e-12, elementwise_affine=True)\n",
              "      (dropout): Dropout(p=0.1, inplace=False)\n",
              "    )\n",
              "    (encoder): BertEncoder(\n",
              "      (layers): ModuleList(\n",
              "        (0): BertLayer(\n",
              "          (layer_norm1): LayerNorm((3,), eps=1e-05, elementwise_affine=True)\n",
              "          (self_attention): BertSelfAttention(\n",
              "            (heads): ModuleList(\n",
              "              (0): BertAttentionHead(\n",
              "                (query): Linear(in_features=3, out_features=3, bias=True)\n",
              "                (key): Linear(in_features=3, out_features=3, bias=True)\n",
              "                (values): Linear(in_features=3, out_features=3, bias=True)\n",
              "                (dropout): Dropout(p=0.1, inplace=False)\n",
              "              )\n",
              "            )\n",
              "            (proj): Linear(in_features=3, out_features=3, bias=True)\n",
              "            (dropout): Dropout(p=0.1, inplace=False)\n",
              "          )\n",
              "          (layer_norm2): LayerNorm((3,), eps=1e-05, elementwise_affine=True)\n",
              "          (feed_forward): FeedForward(\n",
              "            (ffwd): Sequential(\n",
              "              (0): Linear(in_features=3, out_features=12, bias=True)\n",
              "              (1): GELU(approximate='none')\n",
              "              (2): Linear(in_features=12, out_features=3, bias=True)\n",
              "              (3): Dropout(p=0.1, inplace=False)\n",
              "            )\n",
              "          )\n",
              "        )\n",
              "      )\n",
              "    )\n",
              "    (pooler): BertPooler(\n",
              "      (dense): Linear(in_features=3, out_features=3, bias=True)\n",
              "      (activation): GELU(approximate='none')\n",
              "    )\n",
              "  )\n",
              "  (space_model): SpaceModelForClassification(\n",
              "    (space_model): SpaceModel(\n",
              "      (concept_spaces): ModuleList(\n",
              "        (0-1): 2 x Sequential(\n",
              "          (0): Linear(in_features=3, out_features=3, bias=False)\n",
              "          (1): Tanh()\n",
              "        )\n",
              "      )\n",
              "    )\n",
              "    (concept_classifier): Linear(in_features=6, out_features=2, bias=True)\n",
              "  )\n",
              ")"
            ]
          },
          "metadata": {},
          "execution_count": 97
        }
      ]
    },
    {
      "cell_type": "code",
      "source": [
        "count_parameters(space_bert)"
      ],
      "metadata": {
        "colab": {
          "base_uri": "https://localhost:8080/"
        },
        "id": "3HlyHbazs8-w",
        "outputId": "035a3f29-56de-4b8b-c41a-94c4640361a2"
      },
      "execution_count": 98,
      "outputs": [
        {
          "output_type": "execute_result",
          "data": {
            "text/plain": [
              "32"
            ]
          },
          "metadata": {},
          "execution_count": 98
        }
      ]
    },
    {
      "cell_type": "code",
      "source": [
        "NUM_OPTIM_EPOCHS = 5\n",
        "LEARNING_RATE = 1e-2\n",
        "\n",
        "l1 = 1e-6\n",
        "l2 = 1e-6"
      ],
      "metadata": {
        "id": "J6b-bkkXtYXb"
      },
      "execution_count": 100,
      "outputs": []
    },
    {
      "cell_type": "code",
      "source": [
        "optimizer = torch.optim.Adam(space_bert.parameters(), lr=LEARNING_RATE)\n",
        "\n",
        "for i in range(NUM_OPTIM_EPOCHS):\n",
        "    print(f'Epoch: {i + 1}')\n",
        "    train_loss = 0.0\n",
        "    train_preds = []\n",
        "    train_labels = []\n",
        "\n",
        "    bert.train()\n",
        "    for step, batch in enumerate(tqdm(dataloader.get_split('train'), total=dataloader.steps('train'))):\n",
        "        out = space_bert(batch['input_ids'].to(device)) # (B, 2)\n",
        "\n",
        "        logits = out.logits.cpu()\n",
        "        concept_spaces = [c.cpu() for c in out.concept_spaces]\n",
        "\n",
        "        probs = F.softmax(logits, dim=-1).cpu()\n",
        "        pred = torch.argmax(probs, dim=-1) # (B)\n",
        "        train_preds += pred.detach().tolist()\n",
        "        train_labels += [l.item() for l in batch['label_ids']]\n",
        "\n",
        "        # CE + l1 * inter_loss + l2 * intra_loss\n",
        "        loss = F.cross_entropy(logits, batch['label_ids']) + l1 * inter_space_loss(concept_spaces) + l2 * intra_space_loss(concept_spaces)\n",
        "\n",
        "        optimizer.zero_grad()\n",
        "        loss.backward()\n",
        "        optimizer.step()\n",
        "\n",
        "        train_loss += loss.item()\n",
        "\n",
        "    val_loss = 0.0\n",
        "    val_preds = []\n",
        "    val_labels = []\n",
        "\n",
        "    bert.eval()\n",
        "    for step, batch in enumerate(tqdm(dataloader.get_split('val'), total=dataloader.steps('val'))):\n",
        "        out = space_bert(batch['input_ids'].to(device)) # (B, 2)\n",
        "\n",
        "        logits = out.logits.cpu()\n",
        "        concept_spaces = [c.cpu() for c in out.concept_spaces]\n",
        "\n",
        "        probs = F.softmax(logits, dim=-1).cpu()\n",
        "        pred = torch.argmax(probs, dim=-1) # (B)\n",
        "        val_preds += pred.detach().tolist()\n",
        "        val_labels += [l.item() for l in batch['label_ids']]\n",
        "\n",
        "        # CE + l1 * inter_loss + l2 * intra_loss\n",
        "        loss = F.cross_entropy(logits, batch['label_ids']) + l1 * inter_space_loss(concept_spaces) + l2 * intra_space_loss(concept_spaces)\n",
        "\n",
        "        val_loss += loss.item()\n",
        "\n",
        "    print()\n",
        "    print(f'Train loss: {train_loss / dataloader.steps(\"train\")} | Val loss: {val_loss / dataloader.steps(\"val\")}')\n",
        "    print(f'Train acc: {accuracy_score(train_labels, train_preds)} | Val acc: {accuracy_score(val_labels, val_preds)}')\n",
        "    print(f'Train f1: {f1_score(train_labels, train_preds)} | Val f1: {f1_score(val_labels, val_preds)}')"
      ],
      "metadata": {
        "colab": {
          "base_uri": "https://localhost:8080/"
        },
        "id": "R3dWi-Frszp1",
        "outputId": "b80159bc-9821-486a-812e-cdffcf47dcf3"
      },
      "execution_count": 101,
      "outputs": [
        {
          "output_type": "stream",
          "name": "stdout",
          "text": [
            "Epoch: 1\n"
          ]
        },
        {
          "output_type": "stream",
          "name": "stderr",
          "text": [
            "100%|██████████| 625/625 [00:05<00:00, 116.00it/s]\n",
            "157it [00:00, 231.95it/s]                         \n"
          ]
        },
        {
          "output_type": "stream",
          "name": "stdout",
          "text": [
            "\n",
            "Train loss: 0.6956174991607667 | Val loss: 5567.979883438502\n",
            "Train acc: 0.5101 | Val acc: 0.5054\n",
            "Train f1: 0.5113216957605985 | Val f1: 0.6703985072637612\n",
            "Epoch: 2\n"
          ]
        },
        {
          "output_type": "stream",
          "name": "stderr",
          "text": [
            "100%|██████████| 625/625 [00:03<00:00, 198.64it/s]\n",
            "157it [00:00, 334.76it/s]                         \n"
          ]
        },
        {
          "output_type": "stream",
          "name": "stdout",
          "text": [
            "\n",
            "Train loss: 0.6931235491752624 | Val loss: 5530.198789938902\n",
            "Train acc: 0.5141 | Val acc: 0.5046\n",
            "Train f1: 0.5145854145854145 | Val f1: 0.6700412947915279\n",
            "Epoch: 3\n"
          ]
        },
        {
          "output_type": "stream",
          "name": "stderr",
          "text": [
            "100%|██████████| 625/625 [00:02<00:00, 214.48it/s]\n",
            "157it [00:00, 416.13it/s]                         \n"
          ]
        },
        {
          "output_type": "stream",
          "name": "stdout",
          "text": [
            "\n",
            "Train loss: 0.6923209614753724 | Val loss: 4875.984616010617\n",
            "Train acc: 0.51565 | Val acc: 0.5046\n",
            "Train f1: 0.5162546816479401 | Val f1: 0.6700412947915279\n",
            "Epoch: 4\n"
          ]
        },
        {
          "output_type": "stream",
          "name": "stderr",
          "text": [
            "100%|██████████| 625/625 [00:02<00:00, 244.16it/s]\n",
            "157it [00:00, 440.08it/s]                         \n"
          ]
        },
        {
          "output_type": "stream",
          "name": "stdout",
          "text": [
            "\n",
            "Train loss: 0.6919279090881347 | Val loss: 5133.811683067908\n",
            "Train acc: 0.5174 | Val acc: 0.504\n",
            "Train f1: 0.5151697809925658 | Val f1: 0.669773635153129\n",
            "Epoch: 5\n"
          ]
        },
        {
          "output_type": "stream",
          "name": "stderr",
          "text": [
            "100%|██████████| 625/625 [00:02<00:00, 244.11it/s]\n",
            "157it [00:00, 441.64it/s]                         "
          ]
        },
        {
          "output_type": "stream",
          "name": "stdout",
          "text": [
            "\n",
            "Train loss: 0.6911894980430603 | Val loss: 5574.917411608573\n",
            "Train acc: 0.5207 | Val acc: 0.504\n",
            "Train f1: 0.5222288676236044 | Val f1: 0.669773635153129\n"
          ]
        },
        {
          "output_type": "stream",
          "name": "stderr",
          "text": [
            "\n"
          ]
        }
      ]
    },
    {
      "cell_type": "markdown",
      "source": [
        "# Interpreting and visualizing the results"
      ],
      "metadata": {
        "id": "IlCBCY4xlUMj"
      }
    },
    {
      "cell_type": "code",
      "source": [
        "test_dataloader = IMDBDataloader(data, test_data, tokenizer, encode_label, batch_size=1)"
      ],
      "metadata": {
        "colab": {
          "base_uri": "https://localhost:8080/"
        },
        "id": "cssoF5oSXC2V",
        "outputId": "aa6cb19c-4cb2-4ee9-eb0e-55624a959b29"
      },
      "execution_count": 103,
      "outputs": [
        {
          "output_type": "stream",
          "name": "stderr",
          "text": [
            "Train Tokenization: 100%|██████████| 20000/20000 [00:01<00:00, 15903.95it/s]\n",
            "Test Tokenization: 100%|██████████| 25000/25000 [00:02<00:00, 12417.93it/s]\n",
            "Val Tokenization: 100%|██████████| 5000/5000 [00:00<00:00, 15466.56it/s]\n",
            "Train Label Encoding: 100%|██████████| 20000/20000 [00:00<00:00, 1375452.22it/s]\n",
            "Test Label Encoding: 100%|██████████| 25000/25000 [00:00<00:00, 1526022.73it/s]\n",
            "Val Label Encoding: 100%|██████████| 5000/5000 [00:00<00:00, 749947.07it/s]\n"
          ]
        }
      ]
    },
    {
      "cell_type": "code",
      "source": [
        "# examples with less than 16 words are easier to visualize, so focus on them\n",
        "examples_ids = []\n",
        "for i, v in enumerate(test_dataloader.splits['test']):\n",
        "    if len(v) <= 16:\n",
        "        examples_ids.append(i)\n",
        "print(examples_ids)"
      ],
      "metadata": {
        "colab": {
          "base_uri": "https://localhost:8080/"
        },
        "id": "eRh1wc2Tf8Go",
        "outputId": "1e6b3191-ba2e-4500-9c0c-6f5a62ee55f3"
      },
      "execution_count": 104,
      "outputs": [
        {
          "output_type": "stream",
          "name": "stdout",
          "text": [
            "[1959, 2939, 6394, 15789, 16349, 21487, 22019, 24588]\n"
          ]
        }
      ]
    },
    {
      "cell_type": "markdown",
      "source": [
        "## Bert Embeddings"
      ],
      "metadata": {
        "id": "XBAlFqSWzo8h"
      }
    },
    {
      "cell_type": "code",
      "source": [
        "scatters = []\n",
        "for sample_index in examples_ids:\n",
        "    # extract example, decode to tokens and get the sequence length (ingoring padding)\n",
        "    test_tokenized_batch = test_dataloader.peek_index_tokenized(index=sample_index, split='test')\n",
        "    tokens = tokenizer.decode([t.item() for t in test_tokenized_batch['input_ids'][0] if t != 0], ignore_special=False).split(' ')[:MAX_SEQ_LEN]\n",
        "    seq_len = len(tokens)\n",
        "\n",
        "    embed = bert.nano_bert.embedding(test_tokenized_batch['input_ids'].to(device))\n",
        "\n",
        "    x, y, z = embed[0, :seq_len, 0].detach().cpu().numpy(), embed[0, :seq_len, 1].detach().cpu().numpy(), embed[0, :seq_len, 2].detach().cpu().numpy()\n",
        "\n",
        "    scatters.append(go.Scatter3d(\n",
        "        x=x, y=y, z=z, mode='markers+text', name=f'Example: {sample_index}',\n",
        "        text=tokens,\n",
        "    ))"
      ],
      "metadata": {
        "id": "mhA-lfKDlpSw"
      },
      "execution_count": 105,
      "outputs": []
    },
    {
      "cell_type": "code",
      "source": [
        "fig = go.Figure(\n",
        "    data=scatters,\n",
        "    layout=go.Layout(\n",
        "        title=go.layout.Title(text='Embeddings')\n",
        "    ))\n",
        "fig.show()"
      ],
      "metadata": {
        "colab": {
          "base_uri": "https://localhost:8080/",
          "height": 542
        },
        "id": "1G9cwASRfw5O",
        "outputId": "7861ba6e-3968-40ad-cc11-66f2d9335080"
      },
      "execution_count": 106,
      "outputs": [
        {
          "output_type": "display_data",
          "data": {
            "text/html": [
              "<html>\n",
              "<head><meta charset=\"utf-8\" /></head>\n",
              "<body>\n",
              "    <div>            <script src=\"https://cdnjs.cloudflare.com/ajax/libs/mathjax/2.7.5/MathJax.js?config=TeX-AMS-MML_SVG\"></script><script type=\"text/javascript\">if (window.MathJax && window.MathJax.Hub && window.MathJax.Hub.Config) {window.MathJax.Hub.Config({SVG: {font: \"STIX-Web\"}});}</script>                <script type=\"text/javascript\">window.PlotlyConfig = {MathJaxConfig: 'local'};</script>\n",
              "        <script charset=\"utf-8\" src=\"https://cdn.plot.ly/plotly-2.24.1.min.js\"></script>                <div id=\"5558b152-c335-49d9-bcaf-8abface5ba66\" class=\"plotly-graph-div\" style=\"height:525px; width:100%;\"></div>            <script type=\"text/javascript\">                                    window.PLOTLYENV=window.PLOTLYENV || {};                                    if (document.getElementById(\"5558b152-c335-49d9-bcaf-8abface5ba66\")) {                    Plotly.newPlot(                        \"5558b152-c335-49d9-bcaf-8abface5ba66\",                        [{\"mode\":\"markers+text\",\"name\":\"Example: 1959\",\"text\":[\"[CLS]\",\"brilliant\",\"and\",\"moving\",\"performances\",\"by\",\"tom\",\"[UNK]\",\"and\",\"peter\",\"finch\",\".\",\"[SEP]\"],\"x\":[-2.5108795166015625,5.262962818145752,0.3370024263858795,2.979309320449829,2.196207046508789,4.357332706451416,6.08625602722168,6.120830059051514,4.033513069152832,0.39071327447891235,3.820455312728882,-1.9957488775253296,-3.402379274368286],\"y\":[10.4448881149292,0.31608888506889343,-9.145292282104492,-10.738447189331055,-10.502585411071777,2.9584038257598877,-4.113861560821533,-4.641788959503174,-10.648261070251465,-9.19897747039795,4.190644264221191,-5.944032192230225,10.109420776367188],\"z\":[-5.156524658203125,-9.467523574829102,8.137868881225586,4.940140247344971,6.10918664932251,-10.335013389587402,-6.7794928550720215,-6.346376419067383,2.984506607055664,8.092819213867188,-10.536267280578613,9.279911994934082,-3.2599377632141113],\"type\":\"scatter3d\"},{\"mode\":\"markers+text\",\"name\":\"Example: 2939\",\"text\":[\"[CLS]\",\"this\",\"is\",\"a\",\"great\",\"movie\",\".\",\"too\",\"bad\",\"it\",\"is\",\"not\",\"available\",\"on\",\"home\",\"video\",\".\",\"[SEP]\"],\"x\":[-2.5108795166015625,-1.7751307487487793,-0.996648907661438,0.19727668166160583,6.057864189147949,2.6801013946533203,-0.021623343229293823,-0.34293633699417114,-4.885955333709717,2.1549885272979736,0.9732610583305359,-2.9685003757476807,-3.629869222640991,2.525348424911499,3.2582767009735107,-0.9627737998962402,1.473719596862793,2.613438606262207],\"y\":[10.4448881149292,-6.327183246612549,10.141610145568848,9.346343994140625,-6.967724800109863,-10.674882888793945,-8.765069007873535,-8.39189624786377,2.7189767360687256,-10.484167098999023,8.601078987121582,10.33457088470459,9.932250022888184,6.561811923980713,-10.765334129333496,-7.582238674163818,-10.10017204284668,6.422183513641357],\"z\":[-5.156524658203125,9.247206687927246,-7.560143947601318,-8.934412956237793,-4.056013584136963,5.411681175231934,8.418274879455566,8.639055252075195,6.29563570022583,6.165096759796143,-9.613692283630371,-4.240940570831299,-2.6902074813842773,-10.458480834960938,4.470170497894287,8.980866432189941,7.014642238616943,-10.484052658081055],\"type\":\"scatter3d\"},{\"mode\":\"markers+text\",\"name\":\"Example: 6394\",\"text\":[\"[CLS]\",\"just\",\"love\",\"the\",\"interplay\",\"between\",\"two\",\"great\",\"characters\",\"of\",\"stage\",\"&\",\"screen\",\"-\",\"veidt\",\"&\",\"barrymore\",\"[SEP]\"],\"x\":[-2.5108795166015625,-2.997817039489746,2.6740007400512695,0.2259712815284729,-1.751159906387329,3.4210007190704346,1.9145712852478027,5.876022815704346,1.921128273010254,0.990704357624054,2.9554903507232666,-2.0386900901794434,-3.4618797302246094,1.748063087463379,2.496582269668579,-0.2361094355583191,-4.6499528884887695,2.613438606262207],\"y\":[10.4448881149292,-3.924043893814087,6.3245463371276855,-9.031628608703613,10.404600143432617,5.001211643218994,7.455990791320801,-8.007083892822266,-10.369050025939941,-9.741151809692383,5.852561950683594,10.448966979980469,10.067492485046387,7.678443431854248,6.606802940368652,9.685354232788086,8.214811325073242,6.422183513641357],\"z\":[-5.156524658203125,9.166502952575684,-10.500097274780273,8.228479385375977,-6.467254638671875,-10.58647632598877,-10.211919784545898,-2.7597334384918213,6.472362041473389,7.535693168640137,-10.55764102935791,-5.998460292816162,-3.1150569915771484,-10.124736785888672,-10.449563980102539,-8.482710838317871,0.7290416955947876,-10.484052658081055],\"type\":\"scatter3d\"},{\"mode\":\"markers+text\",\"name\":\"Example: 15789\",\"text\":[\"[CLS]\",\"what\",\"a\",\"script\",\",\",\"what\",\"a\",\"story\",\",\",\"what\",\"a\",\"mess\",\"!\",\"[SEP]\"],\"x\":[-2.5108795166015625,1.6039892435073853,-0.6270701885223389,-5.037116050720215,0.9920908212661743,4.47265625,0.8693742156028748,3.184725761413574,2.8718276023864746,2.993290662765503,1.203613519668579,-5.058436393737793,-1.9510583877563477,2.587756395339966],\"y\":[10.4448881149292,7.8638763427734375,9.942540168762207,4.312758922576904,8.580796241760254,2.667858600616455,8.711109161376953,-10.761433601379395,5.996037006378174,5.7868266105651855,8.34570598602295,5.322722434997559,10.438981056213379,6.463181018829346],\"z\":[-5.156524658203125,-10.04269790649414,-8.029668807983398,5.0711140632629395,-9.6281156539917,-10.267566680908203,-9.532357215881348,4.597065448760986,-10.543529510498047,-10.56316089630127,-9.783360481262207,4.162969589233398,-6.144647598266602,-10.476868629455566],\"type\":\"scatter3d\"},{\"mode\":\"markers+text\",\"name\":\"Example: 16349\",\"text\":[\"[CLS]\",\"i\",\"hope\",\"this\",\"group\",\"of\",\"film\",\"-\",\"makers\",\"never\",\"re\",\"-\",\"unites\",\".\",\"[SEP]\"],\"x\":[-2.5108795166015625,-2.0625758171081543,-1.4811989068984985,0.11251327395439148,-3.09966778755188,3.629476308822632,0.6648388504981995,1.0843861103057861,3.4289472103118896,1.0561257600784302,-5.04403018951416,-1.6811212301254272,-5.056124210357666,3.3979835510253906,2.7664601802825928],\"y\":[10.4448881149292,-5.82405948638916,10.33382511138916,-8.911730766296387,-3.6879348754882812,-10.747512817382812,8.918451309204102,8.479854583740234,4.9858503341674805,8.511031150817871,5.818972110748291,10.388863563537598,5.464328765869141,-10.766168594360352,6.172858715057373],\"z\":[-5.156524658203125,9.286152839660645,-6.880128860473633,8.317559242248535,9.126128196716309,3.794616222381592,-9.363525390625,-9.6973876953125,-10.586191177368164,-9.676427841186523,3.6725831031799316,-6.576828956604004,4.026228427886963,4.222977638244629,-10.52212905883789],\"type\":\"scatter3d\"},{\"mode\":\"markers+text\",\"name\":\"Example: 21487\",\"text\":[\"[CLS]\",\"read\",\"the\",\"book\",\",\",\"forget\",\"the\",\"movie\",\"!\",\"[SEP]\"],\"x\":[-2.5108795166015625,-1.6242198944091797,-0.9317124485969543,-4.145976543426514,0.9920908212661743,3.6592912673950195,0.6320590972900391,1.6598464250564575,3.2250959873199463,-1.1683529615402222],\"y\":[10.4448881149292,-6.578312397003174,-7.625723361968994,9.318370819091797,8.580796241760254,-10.743199348449707,-9.429766654968262,-10.219627380371094,5.3708600997924805,10.21892261505127],\"z\":[-5.156524658203125,9.214567184448242,8.966464042663574,-1.1991488933563232,-9.6281156539917,3.737654447555542,7.880612373352051,6.79616641998291,-10.584988594055176,-7.327793121337891],\"type\":\"scatter3d\"},{\"mode\":\"markers+text\",\"name\":\"Example: 22019\",\"text\":[\"[CLS]\",\"more\",\"suspenseful\",\",\",\"more\",\"subtle\",\",\",\"much\",\",\",\"much\",\"more\",\"disturbing\",\"....\",\"[SEP]\"],\"x\":[-2.5108795166015625,-0.22828024625778198,5.8809003829956055,0.8584895730018616,2.437990665435791,6.12265157699585,1.2964731454849243,1.3553314208984375,2.8718276023864746,-1.8234935998916626,2.7632341384887695,-3.549701690673828,-4.747488975524902,2.587756395339966],\"y\":[10.4448881149292,-8.528623580932617,-7.986537456512451,8.722451210021973,-10.598980903625488,-6.205288410186768,8.238280296325684,8.168846130371094,5.996037006378174,10.418867111206055,-10.695988655090332,10.000024795532227,1.832951307296753,6.463181018829346],\"z\":[-5.156524658203125,8.563611030578613,-2.787635326385498,-9.523661613464355,5.770321846008301,-4.8851470947265625,-9.84756088256836,-9.886994361877441,-10.543529510498047,-6.35222864151001,5.2838921546936035,-2.895982265472412,6.879764556884766,-10.476868629455566],\"type\":\"scatter3d\"},{\"mode\":\"markers+text\",\"name\":\"Example: 24588\",\"text\":[\"[CLS]\",\"primary\",\"[UNK]\",\"[UNK]\",\"interpretation\",\".\",\"[SEP]\"],\"x\":[-2.5108795166015625,3.3914804458618164,-4.351121425628662,-5.056131362915039,2.482243776321411,2.9870450496673584,-1.7049258947372437],\"y\":[10.4448881149292,-10.766324043273926,8.955883979797363,4.835797309875488,-10.614426612854004,-10.739627838134766,10.39442253112793],\"z\":[-5.156524658203125,4.234665393829346,-0.49550172686576843,4.614954948425293,5.706242561340332,4.927515029907227,-6.539783954620361],\"type\":\"scatter3d\"}],                        {\"title\":{\"text\":\"Embeddings\"},\"template\":{\"data\":{\"histogram2dcontour\":[{\"type\":\"histogram2dcontour\",\"colorbar\":{\"outlinewidth\":0,\"ticks\":\"\"},\"colorscale\":[[0.0,\"#0d0887\"],[0.1111111111111111,\"#46039f\"],[0.2222222222222222,\"#7201a8\"],[0.3333333333333333,\"#9c179e\"],[0.4444444444444444,\"#bd3786\"],[0.5555555555555556,\"#d8576b\"],[0.6666666666666666,\"#ed7953\"],[0.7777777777777778,\"#fb9f3a\"],[0.8888888888888888,\"#fdca26\"],[1.0,\"#f0f921\"]]}],\"choropleth\":[{\"type\":\"choropleth\",\"colorbar\":{\"outlinewidth\":0,\"ticks\":\"\"}}],\"histogram2d\":[{\"type\":\"histogram2d\",\"colorbar\":{\"outlinewidth\":0,\"ticks\":\"\"},\"colorscale\":[[0.0,\"#0d0887\"],[0.1111111111111111,\"#46039f\"],[0.2222222222222222,\"#7201a8\"],[0.3333333333333333,\"#9c179e\"],[0.4444444444444444,\"#bd3786\"],[0.5555555555555556,\"#d8576b\"],[0.6666666666666666,\"#ed7953\"],[0.7777777777777778,\"#fb9f3a\"],[0.8888888888888888,\"#fdca26\"],[1.0,\"#f0f921\"]]}],\"heatmap\":[{\"type\":\"heatmap\",\"colorbar\":{\"outlinewidth\":0,\"ticks\":\"\"},\"colorscale\":[[0.0,\"#0d0887\"],[0.1111111111111111,\"#46039f\"],[0.2222222222222222,\"#7201a8\"],[0.3333333333333333,\"#9c179e\"],[0.4444444444444444,\"#bd3786\"],[0.5555555555555556,\"#d8576b\"],[0.6666666666666666,\"#ed7953\"],[0.7777777777777778,\"#fb9f3a\"],[0.8888888888888888,\"#fdca26\"],[1.0,\"#f0f921\"]]}],\"heatmapgl\":[{\"type\":\"heatmapgl\",\"colorbar\":{\"outlinewidth\":0,\"ticks\":\"\"},\"colorscale\":[[0.0,\"#0d0887\"],[0.1111111111111111,\"#46039f\"],[0.2222222222222222,\"#7201a8\"],[0.3333333333333333,\"#9c179e\"],[0.4444444444444444,\"#bd3786\"],[0.5555555555555556,\"#d8576b\"],[0.6666666666666666,\"#ed7953\"],[0.7777777777777778,\"#fb9f3a\"],[0.8888888888888888,\"#fdca26\"],[1.0,\"#f0f921\"]]}],\"contourcarpet\":[{\"type\":\"contourcarpet\",\"colorbar\":{\"outlinewidth\":0,\"ticks\":\"\"}}],\"contour\":[{\"type\":\"contour\",\"colorbar\":{\"outlinewidth\":0,\"ticks\":\"\"},\"colorscale\":[[0.0,\"#0d0887\"],[0.1111111111111111,\"#46039f\"],[0.2222222222222222,\"#7201a8\"],[0.3333333333333333,\"#9c179e\"],[0.4444444444444444,\"#bd3786\"],[0.5555555555555556,\"#d8576b\"],[0.6666666666666666,\"#ed7953\"],[0.7777777777777778,\"#fb9f3a\"],[0.8888888888888888,\"#fdca26\"],[1.0,\"#f0f921\"]]}],\"surface\":[{\"type\":\"surface\",\"colorbar\":{\"outlinewidth\":0,\"ticks\":\"\"},\"colorscale\":[[0.0,\"#0d0887\"],[0.1111111111111111,\"#46039f\"],[0.2222222222222222,\"#7201a8\"],[0.3333333333333333,\"#9c179e\"],[0.4444444444444444,\"#bd3786\"],[0.5555555555555556,\"#d8576b\"],[0.6666666666666666,\"#ed7953\"],[0.7777777777777778,\"#fb9f3a\"],[0.8888888888888888,\"#fdca26\"],[1.0,\"#f0f921\"]]}],\"mesh3d\":[{\"type\":\"mesh3d\",\"colorbar\":{\"outlinewidth\":0,\"ticks\":\"\"}}],\"scatter\":[{\"fillpattern\":{\"fillmode\":\"overlay\",\"size\":10,\"solidity\":0.2},\"type\":\"scatter\"}],\"parcoords\":[{\"type\":\"parcoords\",\"line\":{\"colorbar\":{\"outlinewidth\":0,\"ticks\":\"\"}}}],\"scatterpolargl\":[{\"type\":\"scatterpolargl\",\"marker\":{\"colorbar\":{\"outlinewidth\":0,\"ticks\":\"\"}}}],\"bar\":[{\"error_x\":{\"color\":\"#2a3f5f\"},\"error_y\":{\"color\":\"#2a3f5f\"},\"marker\":{\"line\":{\"color\":\"#E5ECF6\",\"width\":0.5},\"pattern\":{\"fillmode\":\"overlay\",\"size\":10,\"solidity\":0.2}},\"type\":\"bar\"}],\"scattergeo\":[{\"type\":\"scattergeo\",\"marker\":{\"colorbar\":{\"outlinewidth\":0,\"ticks\":\"\"}}}],\"scatterpolar\":[{\"type\":\"scatterpolar\",\"marker\":{\"colorbar\":{\"outlinewidth\":0,\"ticks\":\"\"}}}],\"histogram\":[{\"marker\":{\"pattern\":{\"fillmode\":\"overlay\",\"size\":10,\"solidity\":0.2}},\"type\":\"histogram\"}],\"scattergl\":[{\"type\":\"scattergl\",\"marker\":{\"colorbar\":{\"outlinewidth\":0,\"ticks\":\"\"}}}],\"scatter3d\":[{\"type\":\"scatter3d\",\"line\":{\"colorbar\":{\"outlinewidth\":0,\"ticks\":\"\"}},\"marker\":{\"colorbar\":{\"outlinewidth\":0,\"ticks\":\"\"}}}],\"scattermapbox\":[{\"type\":\"scattermapbox\",\"marker\":{\"colorbar\":{\"outlinewidth\":0,\"ticks\":\"\"}}}],\"scatterternary\":[{\"type\":\"scatterternary\",\"marker\":{\"colorbar\":{\"outlinewidth\":0,\"ticks\":\"\"}}}],\"scattercarpet\":[{\"type\":\"scattercarpet\",\"marker\":{\"colorbar\":{\"outlinewidth\":0,\"ticks\":\"\"}}}],\"carpet\":[{\"aaxis\":{\"endlinecolor\":\"#2a3f5f\",\"gridcolor\":\"white\",\"linecolor\":\"white\",\"minorgridcolor\":\"white\",\"startlinecolor\":\"#2a3f5f\"},\"baxis\":{\"endlinecolor\":\"#2a3f5f\",\"gridcolor\":\"white\",\"linecolor\":\"white\",\"minorgridcolor\":\"white\",\"startlinecolor\":\"#2a3f5f\"},\"type\":\"carpet\"}],\"table\":[{\"cells\":{\"fill\":{\"color\":\"#EBF0F8\"},\"line\":{\"color\":\"white\"}},\"header\":{\"fill\":{\"color\":\"#C8D4E3\"},\"line\":{\"color\":\"white\"}},\"type\":\"table\"}],\"barpolar\":[{\"marker\":{\"line\":{\"color\":\"#E5ECF6\",\"width\":0.5},\"pattern\":{\"fillmode\":\"overlay\",\"size\":10,\"solidity\":0.2}},\"type\":\"barpolar\"}],\"pie\":[{\"automargin\":true,\"type\":\"pie\"}]},\"layout\":{\"autotypenumbers\":\"strict\",\"colorway\":[\"#636efa\",\"#EF553B\",\"#00cc96\",\"#ab63fa\",\"#FFA15A\",\"#19d3f3\",\"#FF6692\",\"#B6E880\",\"#FF97FF\",\"#FECB52\"],\"font\":{\"color\":\"#2a3f5f\"},\"hovermode\":\"closest\",\"hoverlabel\":{\"align\":\"left\"},\"paper_bgcolor\":\"white\",\"plot_bgcolor\":\"#E5ECF6\",\"polar\":{\"bgcolor\":\"#E5ECF6\",\"angularaxis\":{\"gridcolor\":\"white\",\"linecolor\":\"white\",\"ticks\":\"\"},\"radialaxis\":{\"gridcolor\":\"white\",\"linecolor\":\"white\",\"ticks\":\"\"}},\"ternary\":{\"bgcolor\":\"#E5ECF6\",\"aaxis\":{\"gridcolor\":\"white\",\"linecolor\":\"white\",\"ticks\":\"\"},\"baxis\":{\"gridcolor\":\"white\",\"linecolor\":\"white\",\"ticks\":\"\"},\"caxis\":{\"gridcolor\":\"white\",\"linecolor\":\"white\",\"ticks\":\"\"}},\"coloraxis\":{\"colorbar\":{\"outlinewidth\":0,\"ticks\":\"\"}},\"colorscale\":{\"sequential\":[[0.0,\"#0d0887\"],[0.1111111111111111,\"#46039f\"],[0.2222222222222222,\"#7201a8\"],[0.3333333333333333,\"#9c179e\"],[0.4444444444444444,\"#bd3786\"],[0.5555555555555556,\"#d8576b\"],[0.6666666666666666,\"#ed7953\"],[0.7777777777777778,\"#fb9f3a\"],[0.8888888888888888,\"#fdca26\"],[1.0,\"#f0f921\"]],\"sequentialminus\":[[0.0,\"#0d0887\"],[0.1111111111111111,\"#46039f\"],[0.2222222222222222,\"#7201a8\"],[0.3333333333333333,\"#9c179e\"],[0.4444444444444444,\"#bd3786\"],[0.5555555555555556,\"#d8576b\"],[0.6666666666666666,\"#ed7953\"],[0.7777777777777778,\"#fb9f3a\"],[0.8888888888888888,\"#fdca26\"],[1.0,\"#f0f921\"]],\"diverging\":[[0,\"#8e0152\"],[0.1,\"#c51b7d\"],[0.2,\"#de77ae\"],[0.3,\"#f1b6da\"],[0.4,\"#fde0ef\"],[0.5,\"#f7f7f7\"],[0.6,\"#e6f5d0\"],[0.7,\"#b8e186\"],[0.8,\"#7fbc41\"],[0.9,\"#4d9221\"],[1,\"#276419\"]]},\"xaxis\":{\"gridcolor\":\"white\",\"linecolor\":\"white\",\"ticks\":\"\",\"title\":{\"standoff\":15},\"zerolinecolor\":\"white\",\"automargin\":true,\"zerolinewidth\":2},\"yaxis\":{\"gridcolor\":\"white\",\"linecolor\":\"white\",\"ticks\":\"\",\"title\":{\"standoff\":15},\"zerolinecolor\":\"white\",\"automargin\":true,\"zerolinewidth\":2},\"scene\":{\"xaxis\":{\"backgroundcolor\":\"#E5ECF6\",\"gridcolor\":\"white\",\"linecolor\":\"white\",\"showbackground\":true,\"ticks\":\"\",\"zerolinecolor\":\"white\",\"gridwidth\":2},\"yaxis\":{\"backgroundcolor\":\"#E5ECF6\",\"gridcolor\":\"white\",\"linecolor\":\"white\",\"showbackground\":true,\"ticks\":\"\",\"zerolinecolor\":\"white\",\"gridwidth\":2},\"zaxis\":{\"backgroundcolor\":\"#E5ECF6\",\"gridcolor\":\"white\",\"linecolor\":\"white\",\"showbackground\":true,\"ticks\":\"\",\"zerolinecolor\":\"white\",\"gridwidth\":2}},\"shapedefaults\":{\"line\":{\"color\":\"#2a3f5f\"}},\"annotationdefaults\":{\"arrowcolor\":\"#2a3f5f\",\"arrowhead\":0,\"arrowwidth\":1},\"geo\":{\"bgcolor\":\"white\",\"landcolor\":\"#E5ECF6\",\"subunitcolor\":\"white\",\"showland\":true,\"showlakes\":true,\"lakecolor\":\"white\"},\"title\":{\"x\":0.05},\"mapbox\":{\"style\":\"light\"}}}},                        {\"responsive\": true}                    ).then(function(){\n",
              "                            \n",
              "var gd = document.getElementById('5558b152-c335-49d9-bcaf-8abface5ba66');\n",
              "var x = new MutationObserver(function (mutations, observer) {{\n",
              "        var display = window.getComputedStyle(gd).display;\n",
              "        if (!display || display === 'none') {{\n",
              "            console.log([gd, 'removed!']);\n",
              "            Plotly.purge(gd);\n",
              "            observer.disconnect();\n",
              "        }}\n",
              "}});\n",
              "\n",
              "// Listen for the removal of the full notebook cells\n",
              "var notebookContainer = gd.closest('#notebook-container');\n",
              "if (notebookContainer) {{\n",
              "    x.observe(notebookContainer, {childList: true});\n",
              "}}\n",
              "\n",
              "// Listen for the clearing of the current output cell\n",
              "var outputEl = gd.closest('.output');\n",
              "if (outputEl) {{\n",
              "    x.observe(outputEl, {childList: true});\n",
              "}}\n",
              "\n",
              "                        })                };                            </script>        </div>\n",
              "</body>\n",
              "</html>"
            ]
          },
          "metadata": {}
        }
      ]
    },
    {
      "cell_type": "code",
      "source": [
        "scatters = []\n",
        "for sample_index in examples_ids:\n",
        "    # extract example, decode to tokens and get the sequence length (ingoring padding)\n",
        "    test_tokenized_batch = test_dataloader.peek_index_tokenized(index=sample_index, split='test')\n",
        "    tokens = tokenizer.decode([t.item() for t in test_tokenized_batch['input_ids'][0] if t != 0], ignore_special=False).split(' ')[:MAX_SEQ_LEN]\n",
        "    seq_len = len(tokens)\n",
        "\n",
        "    embed = bert.nano_bert(test_tokenized_batch['input_ids'].to(device))\n",
        "\n",
        "    x, y, z = embed[0, :seq_len, 0].detach().cpu().numpy(), embed[0, :seq_len, 1].detach().cpu().numpy(), embed[0, :seq_len, 2].detach().cpu().numpy()\n",
        "\n",
        "    scatters.append(go.Scatter3d(\n",
        "        x=x, y=y, z=z, mode='markers+text', name=f'Example: {sample_index}',\n",
        "        text=tokens,\n",
        "    ))"
      ],
      "metadata": {
        "id": "ZrBYZVIhkixE"
      },
      "execution_count": 107,
      "outputs": []
    },
    {
      "cell_type": "code",
      "source": [
        "fig = go.Figure(\n",
        "    data=scatters,\n",
        "    layout=go.Layout(\n",
        "        title=go.layout.Title(text='Raw Embeddings')\n",
        "    ))\n",
        "fig.show()"
      ],
      "metadata": {
        "colab": {
          "base_uri": "https://localhost:8080/",
          "height": 542
        },
        "id": "fFbFqNyhnZPv",
        "outputId": "b1c0bbbf-bc95-4f4e-8c1e-42b1c9d1af1d"
      },
      "execution_count": 108,
      "outputs": [
        {
          "output_type": "display_data",
          "data": {
            "text/html": [
              "<html>\n",
              "<head><meta charset=\"utf-8\" /></head>\n",
              "<body>\n",
              "    <div>            <script src=\"https://cdnjs.cloudflare.com/ajax/libs/mathjax/2.7.5/MathJax.js?config=TeX-AMS-MML_SVG\"></script><script type=\"text/javascript\">if (window.MathJax && window.MathJax.Hub && window.MathJax.Hub.Config) {window.MathJax.Hub.Config({SVG: {font: \"STIX-Web\"}});}</script>                <script type=\"text/javascript\">window.PlotlyConfig = {MathJaxConfig: 'local'};</script>\n",
              "        <script charset=\"utf-8\" src=\"https://cdn.plot.ly/plotly-2.24.1.min.js\"></script>                <div id=\"6ed2f147-ad66-4827-bd88-4c8a3f096a15\" class=\"plotly-graph-div\" style=\"height:525px; width:100%;\"></div>            <script type=\"text/javascript\">                                    window.PLOTLYENV=window.PLOTLYENV || {};                                    if (document.getElementById(\"6ed2f147-ad66-4827-bd88-4c8a3f096a15\")) {                    Plotly.newPlot(                        \"6ed2f147-ad66-4827-bd88-4c8a3f096a15\",                        [{\"mode\":\"markers+text\",\"name\":\"Example: 1959\",\"text\":[\"[CLS]\",\"brilliant\",\"and\",\"moving\",\"performances\",\"by\",\"tom\",\"[UNK]\",\"and\",\"peter\",\"finch\",\".\",\"[SEP]\"],\"x\":[-0.0,-0.0,-0.0,-0.0,-0.0,-0.0,-0.0,-0.0,-0.0,-0.0,-0.0,-0.0,-0.0],\"y\":[-0.0,-0.0,-0.0,-0.0,-0.0,-0.0,-0.0,-0.0,-0.0,-0.0,-0.0,-0.0,-0.0],\"z\":[94.55770111083984,94.21983337402344,93.94950103759766,93.85481262207031,93.88094329833984,94.3207015991211,94.00230407714844,93.97472381591797,93.8230209350586,93.94733428955078,94.36062622070312,94.06029510498047,94.56917572021484],\"type\":\"scatter3d\"},{\"mode\":\"markers+text\",\"name\":\"Example: 2939\",\"text\":[\"[CLS]\",\"this\",\"is\",\"a\",\"great\",\"movie\",\".\",\"too\",\"bad\",\"it\",\"is\",\"not\",\"available\",\"on\",\"home\",\"video\",\".\",\"[SEP]\"],\"x\":[-0.0,-0.0,-0.0,-0.0,-0.0,-0.0,-0.0,-0.0,-0.0,-0.0,-0.0,-0.0,-0.0,-0.0,-0.0,-0.0,-0.0,-0.0],\"y\":[-0.0,-0.0,-0.0,-0.0,-0.0,-0.0,-0.0,-0.0,-0.0,-0.0,-0.0,-0.0,-0.0,-0.0,-0.0,-0.0,-0.0,-0.0],\"z\":[96.01358795166016,94.32106018066406,96.00215148925781,95.97627258300781,92.86225128173828,93.2200927734375,93.89805603027344,93.97393035888672,95.46914672851562,93.36248779296875,95.95050811767578,96.0110855102539,95.9988784790039,95.86517333984375,93.05403137207031,94.12130737304688,93.53743743896484,95.8582763671875],\"type\":\"scatter3d\"},{\"mode\":\"markers+text\",\"name\":\"Example: 6394\",\"text\":[\"[CLS]\",\"just\",\"love\",\"the\",\"interplay\",\"between\",\"two\",\"great\",\"characters\",\"of\",\"stage\",\"&\",\"screen\",\"-\",\"veidt\",\"&\",\"barrymore\",\"[SEP]\"],\"x\":[-0.0,-0.0,-0.0,-0.0,-0.0,-0.0,-0.0,-0.0,-0.0,-0.0,-0.0,-0.0,-0.0,-0.0,-0.0,-0.0,-0.0,-0.0],\"y\":[-0.0,-0.0,-0.0,-0.0,-0.0,-0.0,-0.0,-0.0,-0.0,-0.0,-0.0,-0.0,-0.0,-0.0,-0.0,-0.0,-0.0,-0.0],\"z\":[94.94392395019531,93.58064270019531,94.48696899414062,92.76152801513672,94.90349578857422,94.34799194335938,94.59479522705078,91.62860107421875,92.38694763183594,92.5932388305664,94.4393081665039,94.91956329345703,94.98285675048828,94.61521911621094,94.51461791992188,94.80323791503906,94.97325897216797,94.49657440185547],\"type\":\"scatter3d\"},{\"mode\":\"markers+text\",\"name\":\"Example: 15789\",\"text\":[\"[CLS]\",\"what\",\"a\",\"script\",\",\",\"what\",\"a\",\"story\",\",\",\"what\",\"a\",\"mess\",\"!\",\"[SEP]\"],\"x\":[-0.0,-0.0,-0.0,-0.0,-0.0,-0.0,-0.0,-0.0,-0.0,-0.0,-0.0,-0.0,-0.0,-0.0],\"y\":[-0.0,-0.0,-0.0,-0.0,-0.0,-0.0,-0.0,-0.0,-0.0,-0.0,-0.0,-0.0,-0.0,-0.0],\"z\":[94.79833221435547,94.3126220703125,94.65138244628906,94.40924835205078,94.43474578857422,92.36294555664062,94.455810546875,83.4265365600586,93.90702056884766,93.84976959228516,94.39601135253906,94.54915618896484,94.7633056640625,94.02457427978516],\"type\":\"scatter3d\"},{\"mode\":\"markers+text\",\"name\":\"Example: 16349\",\"text\":[\"[CLS]\",\"i\",\"hope\",\"this\",\"group\",\"of\",\"film\",\"-\",\"makers\",\"never\",\"re\",\"-\",\"unites\",\".\",\"[SEP]\"],\"x\":[-0.16147437691688538,2.086693286895752,0.2710549533367157,2.153081178665161,1.9066162109375,2.153413772583008,1.240270972251892,1.3416056632995605,1.715418815612793,1.3352842330932617,-0.0,0.13396774232387543,-0.0,2.1550652980804443,1.6309716701507568],\"y\":[-0.0212646946310997,0.34467747807502747,-0.15193551778793335,0.39401596784591675,0.22169940173625946,0.39426833391189575,-0.08289863169193268,-0.051823221147060394,0.10973179340362549,-0.053915053606033325,-0.0,-0.13269835710525513,-0.0,0.39552178978919983,0.0666096955537796],\"z\":[-0.0,-0.0,-0.0,-0.0,-0.0,-0.0,-0.0,-0.0,-0.0,-0.0,94.37410736083984,-0.0,94.64932250976562,-0.0,-0.0],\"type\":\"scatter3d\"},{\"mode\":\"markers+text\",\"name\":\"Example: 21487\",\"text\":[\"[CLS]\",\"read\",\"the\",\"book\",\",\",\"forget\",\"the\",\"movie\",\"!\",\"[SEP]\"],\"x\":[-0.0,-0.0,-0.0,-0.0,-0.0,-0.0,-0.0,-0.0,-0.0,-0.0],\"y\":[-0.0,-0.0,-0.0,-0.0,-0.0,-0.0,-0.0,-0.0,-0.0,-0.0],\"z\":[96.69354248046875,94.4622573852539,94.16114807128906,96.70268249511719,96.59239196777344,92.24369049072266,93.51311492919922,93.09075927734375,96.38786315917969,96.66920471191406],\"type\":\"scatter3d\"},{\"mode\":\"markers+text\",\"name\":\"Example: 22019\",\"text\":[\"[CLS]\",\"more\",\"suspenseful\",\",\",\"more\",\"subtle\",\",\",\"much\",\",\",\"much\",\"more\",\"disturbing\",\"....\",\"[SEP]\"],\"x\":[-0.0,-0.0,-0.0,-0.0,-0.0,-0.0,-0.0,-0.0,-0.0,-0.0,-0.0,-0.0,-0.0,-0.0],\"y\":[-0.0,-0.0,-0.0,-0.0,-0.0,-0.0,-0.0,-0.0,-0.0,-0.0,-0.0,-0.0,-0.0,-0.0],\"z\":[94.74413299560547,93.51728057861328,92.85662841796875,94.60841369628906,93.19698333740234,93.03666687011719,94.58263397216797,94.57891845703125,94.45862579345703,94.72347259521484,93.15645599365234,94.7665023803711,94.38035583496094,94.48582458496094],\"type\":\"scatter3d\"},{\"mode\":\"markers+text\",\"name\":\"Example: 24588\",\"text\":[\"[CLS]\",\"primary\",\"[UNK]\",\"[UNK]\",\"interpretation\",\".\",\"[SEP]\"],\"x\":[1.4845303297042847,2.0116100311279297,1.231942057609558,1.1610676050186157,2.003173589706421,2.008136510848999,1.5487309694290161],\"y\":[0.0010606059804558754,0.2914178967475891,-0.08522255718708038,-0.10361583530902863,0.2856079041957855,0.28902140259742737,0.028363365679979324],\"z\":[-0.0,-0.0,-0.0,-0.0,-0.0,-0.0,-0.0],\"type\":\"scatter3d\"}],                        {\"title\":{\"text\":\"Raw Embeddings\"},\"template\":{\"data\":{\"histogram2dcontour\":[{\"type\":\"histogram2dcontour\",\"colorbar\":{\"outlinewidth\":0,\"ticks\":\"\"},\"colorscale\":[[0.0,\"#0d0887\"],[0.1111111111111111,\"#46039f\"],[0.2222222222222222,\"#7201a8\"],[0.3333333333333333,\"#9c179e\"],[0.4444444444444444,\"#bd3786\"],[0.5555555555555556,\"#d8576b\"],[0.6666666666666666,\"#ed7953\"],[0.7777777777777778,\"#fb9f3a\"],[0.8888888888888888,\"#fdca26\"],[1.0,\"#f0f921\"]]}],\"choropleth\":[{\"type\":\"choropleth\",\"colorbar\":{\"outlinewidth\":0,\"ticks\":\"\"}}],\"histogram2d\":[{\"type\":\"histogram2d\",\"colorbar\":{\"outlinewidth\":0,\"ticks\":\"\"},\"colorscale\":[[0.0,\"#0d0887\"],[0.1111111111111111,\"#46039f\"],[0.2222222222222222,\"#7201a8\"],[0.3333333333333333,\"#9c179e\"],[0.4444444444444444,\"#bd3786\"],[0.5555555555555556,\"#d8576b\"],[0.6666666666666666,\"#ed7953\"],[0.7777777777777778,\"#fb9f3a\"],[0.8888888888888888,\"#fdca26\"],[1.0,\"#f0f921\"]]}],\"heatmap\":[{\"type\":\"heatmap\",\"colorbar\":{\"outlinewidth\":0,\"ticks\":\"\"},\"colorscale\":[[0.0,\"#0d0887\"],[0.1111111111111111,\"#46039f\"],[0.2222222222222222,\"#7201a8\"],[0.3333333333333333,\"#9c179e\"],[0.4444444444444444,\"#bd3786\"],[0.5555555555555556,\"#d8576b\"],[0.6666666666666666,\"#ed7953\"],[0.7777777777777778,\"#fb9f3a\"],[0.8888888888888888,\"#fdca26\"],[1.0,\"#f0f921\"]]}],\"heatmapgl\":[{\"type\":\"heatmapgl\",\"colorbar\":{\"outlinewidth\":0,\"ticks\":\"\"},\"colorscale\":[[0.0,\"#0d0887\"],[0.1111111111111111,\"#46039f\"],[0.2222222222222222,\"#7201a8\"],[0.3333333333333333,\"#9c179e\"],[0.4444444444444444,\"#bd3786\"],[0.5555555555555556,\"#d8576b\"],[0.6666666666666666,\"#ed7953\"],[0.7777777777777778,\"#fb9f3a\"],[0.8888888888888888,\"#fdca26\"],[1.0,\"#f0f921\"]]}],\"contourcarpet\":[{\"type\":\"contourcarpet\",\"colorbar\":{\"outlinewidth\":0,\"ticks\":\"\"}}],\"contour\":[{\"type\":\"contour\",\"colorbar\":{\"outlinewidth\":0,\"ticks\":\"\"},\"colorscale\":[[0.0,\"#0d0887\"],[0.1111111111111111,\"#46039f\"],[0.2222222222222222,\"#7201a8\"],[0.3333333333333333,\"#9c179e\"],[0.4444444444444444,\"#bd3786\"],[0.5555555555555556,\"#d8576b\"],[0.6666666666666666,\"#ed7953\"],[0.7777777777777778,\"#fb9f3a\"],[0.8888888888888888,\"#fdca26\"],[1.0,\"#f0f921\"]]}],\"surface\":[{\"type\":\"surface\",\"colorbar\":{\"outlinewidth\":0,\"ticks\":\"\"},\"colorscale\":[[0.0,\"#0d0887\"],[0.1111111111111111,\"#46039f\"],[0.2222222222222222,\"#7201a8\"],[0.3333333333333333,\"#9c179e\"],[0.4444444444444444,\"#bd3786\"],[0.5555555555555556,\"#d8576b\"],[0.6666666666666666,\"#ed7953\"],[0.7777777777777778,\"#fb9f3a\"],[0.8888888888888888,\"#fdca26\"],[1.0,\"#f0f921\"]]}],\"mesh3d\":[{\"type\":\"mesh3d\",\"colorbar\":{\"outlinewidth\":0,\"ticks\":\"\"}}],\"scatter\":[{\"fillpattern\":{\"fillmode\":\"overlay\",\"size\":10,\"solidity\":0.2},\"type\":\"scatter\"}],\"parcoords\":[{\"type\":\"parcoords\",\"line\":{\"colorbar\":{\"outlinewidth\":0,\"ticks\":\"\"}}}],\"scatterpolargl\":[{\"type\":\"scatterpolargl\",\"marker\":{\"colorbar\":{\"outlinewidth\":0,\"ticks\":\"\"}}}],\"bar\":[{\"error_x\":{\"color\":\"#2a3f5f\"},\"error_y\":{\"color\":\"#2a3f5f\"},\"marker\":{\"line\":{\"color\":\"#E5ECF6\",\"width\":0.5},\"pattern\":{\"fillmode\":\"overlay\",\"size\":10,\"solidity\":0.2}},\"type\":\"bar\"}],\"scattergeo\":[{\"type\":\"scattergeo\",\"marker\":{\"colorbar\":{\"outlinewidth\":0,\"ticks\":\"\"}}}],\"scatterpolar\":[{\"type\":\"scatterpolar\",\"marker\":{\"colorbar\":{\"outlinewidth\":0,\"ticks\":\"\"}}}],\"histogram\":[{\"marker\":{\"pattern\":{\"fillmode\":\"overlay\",\"size\":10,\"solidity\":0.2}},\"type\":\"histogram\"}],\"scattergl\":[{\"type\":\"scattergl\",\"marker\":{\"colorbar\":{\"outlinewidth\":0,\"ticks\":\"\"}}}],\"scatter3d\":[{\"type\":\"scatter3d\",\"line\":{\"colorbar\":{\"outlinewidth\":0,\"ticks\":\"\"}},\"marker\":{\"colorbar\":{\"outlinewidth\":0,\"ticks\":\"\"}}}],\"scattermapbox\":[{\"type\":\"scattermapbox\",\"marker\":{\"colorbar\":{\"outlinewidth\":0,\"ticks\":\"\"}}}],\"scatterternary\":[{\"type\":\"scatterternary\",\"marker\":{\"colorbar\":{\"outlinewidth\":0,\"ticks\":\"\"}}}],\"scattercarpet\":[{\"type\":\"scattercarpet\",\"marker\":{\"colorbar\":{\"outlinewidth\":0,\"ticks\":\"\"}}}],\"carpet\":[{\"aaxis\":{\"endlinecolor\":\"#2a3f5f\",\"gridcolor\":\"white\",\"linecolor\":\"white\",\"minorgridcolor\":\"white\",\"startlinecolor\":\"#2a3f5f\"},\"baxis\":{\"endlinecolor\":\"#2a3f5f\",\"gridcolor\":\"white\",\"linecolor\":\"white\",\"minorgridcolor\":\"white\",\"startlinecolor\":\"#2a3f5f\"},\"type\":\"carpet\"}],\"table\":[{\"cells\":{\"fill\":{\"color\":\"#EBF0F8\"},\"line\":{\"color\":\"white\"}},\"header\":{\"fill\":{\"color\":\"#C8D4E3\"},\"line\":{\"color\":\"white\"}},\"type\":\"table\"}],\"barpolar\":[{\"marker\":{\"line\":{\"color\":\"#E5ECF6\",\"width\":0.5},\"pattern\":{\"fillmode\":\"overlay\",\"size\":10,\"solidity\":0.2}},\"type\":\"barpolar\"}],\"pie\":[{\"automargin\":true,\"type\":\"pie\"}]},\"layout\":{\"autotypenumbers\":\"strict\",\"colorway\":[\"#636efa\",\"#EF553B\",\"#00cc96\",\"#ab63fa\",\"#FFA15A\",\"#19d3f3\",\"#FF6692\",\"#B6E880\",\"#FF97FF\",\"#FECB52\"],\"font\":{\"color\":\"#2a3f5f\"},\"hovermode\":\"closest\",\"hoverlabel\":{\"align\":\"left\"},\"paper_bgcolor\":\"white\",\"plot_bgcolor\":\"#E5ECF6\",\"polar\":{\"bgcolor\":\"#E5ECF6\",\"angularaxis\":{\"gridcolor\":\"white\",\"linecolor\":\"white\",\"ticks\":\"\"},\"radialaxis\":{\"gridcolor\":\"white\",\"linecolor\":\"white\",\"ticks\":\"\"}},\"ternary\":{\"bgcolor\":\"#E5ECF6\",\"aaxis\":{\"gridcolor\":\"white\",\"linecolor\":\"white\",\"ticks\":\"\"},\"baxis\":{\"gridcolor\":\"white\",\"linecolor\":\"white\",\"ticks\":\"\"},\"caxis\":{\"gridcolor\":\"white\",\"linecolor\":\"white\",\"ticks\":\"\"}},\"coloraxis\":{\"colorbar\":{\"outlinewidth\":0,\"ticks\":\"\"}},\"colorscale\":{\"sequential\":[[0.0,\"#0d0887\"],[0.1111111111111111,\"#46039f\"],[0.2222222222222222,\"#7201a8\"],[0.3333333333333333,\"#9c179e\"],[0.4444444444444444,\"#bd3786\"],[0.5555555555555556,\"#d8576b\"],[0.6666666666666666,\"#ed7953\"],[0.7777777777777778,\"#fb9f3a\"],[0.8888888888888888,\"#fdca26\"],[1.0,\"#f0f921\"]],\"sequentialminus\":[[0.0,\"#0d0887\"],[0.1111111111111111,\"#46039f\"],[0.2222222222222222,\"#7201a8\"],[0.3333333333333333,\"#9c179e\"],[0.4444444444444444,\"#bd3786\"],[0.5555555555555556,\"#d8576b\"],[0.6666666666666666,\"#ed7953\"],[0.7777777777777778,\"#fb9f3a\"],[0.8888888888888888,\"#fdca26\"],[1.0,\"#f0f921\"]],\"diverging\":[[0,\"#8e0152\"],[0.1,\"#c51b7d\"],[0.2,\"#de77ae\"],[0.3,\"#f1b6da\"],[0.4,\"#fde0ef\"],[0.5,\"#f7f7f7\"],[0.6,\"#e6f5d0\"],[0.7,\"#b8e186\"],[0.8,\"#7fbc41\"],[0.9,\"#4d9221\"],[1,\"#276419\"]]},\"xaxis\":{\"gridcolor\":\"white\",\"linecolor\":\"white\",\"ticks\":\"\",\"title\":{\"standoff\":15},\"zerolinecolor\":\"white\",\"automargin\":true,\"zerolinewidth\":2},\"yaxis\":{\"gridcolor\":\"white\",\"linecolor\":\"white\",\"ticks\":\"\",\"title\":{\"standoff\":15},\"zerolinecolor\":\"white\",\"automargin\":true,\"zerolinewidth\":2},\"scene\":{\"xaxis\":{\"backgroundcolor\":\"#E5ECF6\",\"gridcolor\":\"white\",\"linecolor\":\"white\",\"showbackground\":true,\"ticks\":\"\",\"zerolinecolor\":\"white\",\"gridwidth\":2},\"yaxis\":{\"backgroundcolor\":\"#E5ECF6\",\"gridcolor\":\"white\",\"linecolor\":\"white\",\"showbackground\":true,\"ticks\":\"\",\"zerolinecolor\":\"white\",\"gridwidth\":2},\"zaxis\":{\"backgroundcolor\":\"#E5ECF6\",\"gridcolor\":\"white\",\"linecolor\":\"white\",\"showbackground\":true,\"ticks\":\"\",\"zerolinecolor\":\"white\",\"gridwidth\":2}},\"shapedefaults\":{\"line\":{\"color\":\"#2a3f5f\"}},\"annotationdefaults\":{\"arrowcolor\":\"#2a3f5f\",\"arrowhead\":0,\"arrowwidth\":1},\"geo\":{\"bgcolor\":\"white\",\"landcolor\":\"#E5ECF6\",\"subunitcolor\":\"white\",\"showland\":true,\"showlakes\":true,\"lakecolor\":\"white\"},\"title\":{\"x\":0.05},\"mapbox\":{\"style\":\"light\"}}}},                        {\"responsive\": true}                    ).then(function(){\n",
              "                            \n",
              "var gd = document.getElementById('6ed2f147-ad66-4827-bd88-4c8a3f096a15');\n",
              "var x = new MutationObserver(function (mutations, observer) {{\n",
              "        var display = window.getComputedStyle(gd).display;\n",
              "        if (!display || display === 'none') {{\n",
              "            console.log([gd, 'removed!']);\n",
              "            Plotly.purge(gd);\n",
              "            observer.disconnect();\n",
              "        }}\n",
              "}});\n",
              "\n",
              "// Listen for the removal of the full notebook cells\n",
              "var notebookContainer = gd.closest('#notebook-container');\n",
              "if (notebookContainer) {{\n",
              "    x.observe(notebookContainer, {childList: true});\n",
              "}}\n",
              "\n",
              "// Listen for the clearing of the current output cell\n",
              "var outputEl = gd.closest('.output');\n",
              "if (outputEl) {{\n",
              "    x.observe(outputEl, {childList: true});\n",
              "}}\n",
              "\n",
              "                        })                };                            </script>        </div>\n",
              "</body>\n",
              "</html>"
            ]
          },
          "metadata": {}
        }
      ]
    },
    {
      "cell_type": "markdown",
      "source": [
        "## Space Embeddings"
      ],
      "metadata": {
        "id": "E_GLqljEzrqQ"
      }
    },
    {
      "cell_type": "code",
      "source": [
        "scatters = []\n",
        "colors = ['blue', 'red']\n",
        "for sample_index in examples_ids:\n",
        "    # extract example, decode to tokens and get the sequence length (ingoring padding)\n",
        "    test_tokenized_batch = test_dataloader.peek_index_tokenized(index=sample_index, split='test')\n",
        "    tokens = tokenizer.decode([t.item() for t in test_tokenized_batch['input_ids'][0] if t != 0], ignore_special=False).split(' ')[:MAX_SEQ_LEN]\n",
        "    seq_len = len(tokens)\n",
        "\n",
        "    bert_embed = space_bert.bert(test_tokenized_batch['input_ids'].to(device))\n",
        "\n",
        "    concept_spaces = space_bert.space_model.space_model(bert_embed).concept_spaces\n",
        "\n",
        "    for c, embed in enumerate(concept_spaces):\n",
        "        x, y, z = embed[0, :seq_len, 0].detach().cpu().numpy(), embed[0, :seq_len, 1].detach().cpu().numpy(), embed[0, :seq_len, 2].detach().cpu().numpy()\n",
        "\n",
        "        scatters.append(go.Scatter3d(\n",
        "            x=x, y=y, z=z, mode='markers+text',\n",
        "            name=f'Example: {sample_index} ({c})',\n",
        "            text=tokens,\n",
        "            marker=dict(color=colors[c]),\n",
        "            # hovertext=[]\n",
        "        ))"
      ],
      "metadata": {
        "id": "qBqm7w5Rncx6"
      },
      "execution_count": 122,
      "outputs": []
    },
    {
      "cell_type": "code",
      "source": [
        "fig = go.Figure(\n",
        "    data=scatters,\n",
        "    layout=go.Layout(\n",
        "        title=go.layout.Title(text='Space Embeddings')\n",
        "    ))\n",
        "fig.show()"
      ],
      "metadata": {
        "colab": {
          "base_uri": "https://localhost:8080/",
          "height": 542
        },
        "id": "6aDUDjh30Cti",
        "outputId": "453ebdf0-a831-449b-9775-9a4b08e4010b"
      },
      "execution_count": 123,
      "outputs": [
        {
          "output_type": "display_data",
          "data": {
            "text/html": [
              "<html>\n",
              "<head><meta charset=\"utf-8\" /></head>\n",
              "<body>\n",
              "    <div>            <script src=\"https://cdnjs.cloudflare.com/ajax/libs/mathjax/2.7.5/MathJax.js?config=TeX-AMS-MML_SVG\"></script><script type=\"text/javascript\">if (window.MathJax && window.MathJax.Hub && window.MathJax.Hub.Config) {window.MathJax.Hub.Config({SVG: {font: \"STIX-Web\"}});}</script>                <script type=\"text/javascript\">window.PlotlyConfig = {MathJaxConfig: 'local'};</script>\n",
              "        <script charset=\"utf-8\" src=\"https://cdn.plot.ly/plotly-2.24.1.min.js\"></script>                <div id=\"85f33d6c-fef0-4162-900c-93e84f4656c3\" class=\"plotly-graph-div\" style=\"height:525px; width:100%;\"></div>            <script type=\"text/javascript\">                                    window.PLOTLYENV=window.PLOTLYENV || {};                                    if (document.getElementById(\"85f33d6c-fef0-4162-900c-93e84f4656c3\")) {                    Plotly.newPlot(                        \"85f33d6c-fef0-4162-900c-93e84f4656c3\",                        [{\"marker\":{\"color\":\"blue\"},\"mode\":\"markers+text\",\"name\":\"Example: 1959 (0)\",\"text\":[\"[CLS]\",\"brilliant\",\"and\",\"moving\",\"performances\",\"by\",\"tom\",\"[UNK]\",\"and\",\"peter\",\"finch\",\".\",\"[SEP]\"],\"x\":[0.9996464848518372,0.9996353983879089,0.9996262788772583,0.9996230602264404,0.9996239542961121,0.9996387362480164,0.9996280670166016,0.9996271133422852,0.9996219277381897,0.9996262192726135,0.9996400475502014,0.9996300339698792,0.9996468424797058],\"y\":[-0.9996271133422852,-0.999615490436554,-0.9996059536933899,-0.9996024966239929,-0.9996034502983093,-0.9996190071105957,-0.9996078014373779,-0.9996068477630615,-0.9996013641357422,-0.9996058344841003,-0.9996203780174255,-0.9996098875999451,-0.9996274709701538],\"z\":[-0.9998911023139954,-0.999887228012085,-0.9998840093612671,-0.9998828768730164,-0.9998831748962402,-0.9998884201049805,-0.9998846650123596,-0.999884307384491,-0.9998824596405029,-0.9998840093612671,-0.9998888373374939,-0.9998853206634521,-0.9998912215232849],\"type\":\"scatter3d\"},{\"marker\":{\"color\":\"red\"},\"mode\":\"markers+text\",\"name\":\"Example: 1959 (1)\",\"text\":[\"[CLS]\",\"brilliant\",\"and\",\"moving\",\"performances\",\"by\",\"tom\",\"[UNK]\",\"and\",\"peter\",\"finch\",\".\",\"[SEP]\"],\"x\":[-1.0,-1.0,-1.0,-1.0,-1.0,-1.0,-1.0,-1.0,-1.0,-1.0,-1.0,-1.0,-1.0],\"y\":[-1.0,-1.0,-1.0,-1.0,-1.0,-1.0,-1.0,-1.0,-1.0,-1.0,-1.0,-1.0,-1.0],\"z\":[1.0,1.0,1.0,1.0,1.0,1.0,1.0,1.0,1.0,1.0,1.0,1.0,1.0],\"type\":\"scatter3d\"},{\"marker\":{\"color\":\"blue\"},\"mode\":\"markers+text\",\"name\":\"Example: 2939 (0)\",\"text\":[\"[CLS]\",\"this\",\"is\",\"a\",\"great\",\"movie\",\".\",\"too\",\"bad\",\"it\",\"is\",\"not\",\"available\",\"on\",\"home\",\"video\",\".\",\"[SEP]\"],\"x\":[0.9996905326843262,0.9996387362480164,0.9996901750564575,0.9996894598007202,0.9995872378349304,0.9996005296707153,0.999624490737915,0.9996271133422852,0.9996747374534607,0.9996057152748108,0.9996887445449829,0.9996904134750366,0.9996901154518127,0.9996863007545471,0.9995943903923035,0.9996321201324463,0.9996119141578674,0.999686062335968],\"y\":[-0.9996732473373413,-0.9996190071105957,-0.9996729493141174,-0.9996721744537354,-0.999565064907074,-0.9995789527893066,-0.9996041059494019,-0.9996067881584167,-0.9996567368507385,-0.9995843768119812,-0.9996713995933533,-0.9996731877326965,-0.9996728301048279,-0.9996688365936279,-0.9995725750923157,-0.999612033367157,-0.9995909333229065,-0.9996686577796936],\"z\":[-0.9999063611030579,-0.9998884201049805,-0.9999063014984131,-0.9999060034751892,-0.9998701214790344,-0.9998748898506165,-0.9998834133148193,-0.999884307384491,-0.9999009370803833,-0.9998767375946045,-0.9999057650566101,-0.9999063611030579,-0.9999062418937683,-0.9999049305915833,-0.9998726844787598,-0.9998860359191895,-0.9998789429664612,-0.9999048709869385],\"type\":\"scatter3d\"},{\"marker\":{\"color\":\"red\"},\"mode\":\"markers+text\",\"name\":\"Example: 2939 (1)\",\"text\":[\"[CLS]\",\"this\",\"is\",\"a\",\"great\",\"movie\",\".\",\"too\",\"bad\",\"it\",\"is\",\"not\",\"available\",\"on\",\"home\",\"video\",\".\",\"[SEP]\"],\"x\":[-1.0,-1.0,-1.0,-1.0,-1.0,-1.0,-1.0,-1.0,-1.0,-1.0,-1.0,-1.0,-1.0,-1.0,-1.0,-1.0,-1.0,-1.0],\"y\":[-1.0,-1.0,-1.0,-1.0,-1.0,-1.0,-1.0,-1.0,-1.0,-1.0,-1.0,-1.0,-1.0,-1.0,-1.0,-1.0,-1.0,-1.0],\"z\":[1.0,1.0,1.0,1.0,1.0,1.0,1.0,1.0,1.0,1.0,1.0,1.0,1.0,1.0,1.0,1.0,1.0,1.0],\"type\":\"scatter3d\"},{\"marker\":{\"color\":\"blue\"},\"mode\":\"markers+text\",\"name\":\"Example: 6394 (0)\",\"text\":[\"[CLS]\",\"just\",\"love\",\"the\",\"interplay\",\"between\",\"two\",\"great\",\"characters\",\"of\",\"stage\",\"&\",\"screen\",\"-\",\"veidt\",\"&\",\"barrymore\",\"[SEP]\"],\"x\":[0.9996587634086609,0.9996134638786316,0.9996441602706909,0.9995834231376648,0.9996574521064758,0.999639630317688,0.9996476769447327,0.999538004398346,0.9995689392089844,0.999576985836029,0.9996426105499268,0.9996579885482788,0.9996599555015564,0.9996483325958252,0.9996450543403625,0.9996542930603027,0.9996596574783325,0.9996445178985596],\"y\":[-0.9996399283409119,-0.9995924830436707,-0.9996246695518494,-0.999561071395874,-0.9996386170387268,-0.9996199607849121,-0.9996283650398254,-0.9995135068893433,-0.9995458722114563,-0.9995542764663696,-0.9996230602264404,-0.9996391534805298,-0.9996412396430969,-0.999629020690918,-0.9996256232261658,-0.9996353387832642,-0.9996408820152283,-0.999625027179718],\"z\":[-0.9998953938484192,-0.9998794794082642,-0.9998903274536133,-0.9998688101768494,-0.999894917011261,-0.9998887181282043,-0.9998915195465088,-0.9998524188995361,-0.9998635649681091,-0.9998664855957031,-0.9998897314071655,-0.9998950958251953,-0.9998958110809326,-0.9998917579650879,-0.9998906254768372,-0.999893844127655,-0.9998956918716431,-0.9998903870582581],\"type\":\"scatter3d\"},{\"marker\":{\"color\":\"red\"},\"mode\":\"markers+text\",\"name\":\"Example: 6394 (1)\",\"text\":[\"[CLS]\",\"just\",\"love\",\"the\",\"interplay\",\"between\",\"two\",\"great\",\"characters\",\"of\",\"stage\",\"&\",\"screen\",\"-\",\"veidt\",\"&\",\"barrymore\",\"[SEP]\"],\"x\":[-1.0,-1.0,-1.0,-1.0,-1.0,-1.0,-1.0,-1.0,-1.0,-1.0,-1.0,-1.0,-1.0,-1.0,-1.0,-1.0,-1.0,-1.0],\"y\":[-1.0,-1.0,-1.0,-1.0,-1.0,-1.0,-1.0,-1.0,-1.0,-1.0,-1.0,-1.0,-1.0,-1.0,-1.0,-1.0,-1.0,-1.0],\"z\":[1.0,1.0,1.0,1.0,1.0,1.0,1.0,1.0,1.0,1.0,1.0,1.0,1.0,1.0,1.0,1.0,1.0,1.0],\"type\":\"scatter3d\"},{\"marker\":{\"color\":\"blue\"},\"mode\":\"markers+text\",\"name\":\"Example: 15789 (0)\",\"text\":[\"[CLS]\",\"what\",\"a\",\"script\",\",\",\"what\",\"a\",\"story\",\",\",\"what\",\"a\",\"mess\",\"!\",\"[SEP]\"],\"x\":[0.9996541738510132,0.9996384978294373,0.9996494650840759,0.9996416568756104,0.9996424913406372,0.999567985534668,0.9996431469917297,0.9990227222442627,0.9996248483657837,0.9996228814125061,0.9996412396430969,0.9996461868286133,0.9996530413627625,0.9996288418769836],\"y\":[-0.9996351599693298,-0.9996187090873718,-0.9996302723884583,-0.9996220469474792,-0.9996229410171509,-0.9995448589324951,-0.9996236562728882,-0.9989756345748901,-0.9996044039726257,-0.9996023178100586,-0.999621570110321,-0.9996268153190613,-0.9996339678764343,-0.99960857629776],\"z\":[-0.9998937845230103,-0.9998883008956909,-0.9998921751976013,-0.9998894333839417,-0.9998897314071655,-0.9998632669448853,-0.9998899698257446,-0.9996541142463684,-0.9998834729194641,-0.9998828172683716,-0.9998892545700073,-0.9998909831047058,-0.9998934268951416,-0.9998849034309387],\"type\":\"scatter3d\"},{\"marker\":{\"color\":\"red\"},\"mode\":\"markers+text\",\"name\":\"Example: 15789 (1)\",\"text\":[\"[CLS]\",\"what\",\"a\",\"script\",\",\",\"what\",\"a\",\"story\",\",\",\"what\",\"a\",\"mess\",\"!\",\"[SEP]\"],\"x\":[-1.0,-1.0,-1.0,-1.0,-1.0,-1.0,-1.0,-1.0,-1.0,-1.0,-1.0,-1.0,-1.0,-1.0],\"y\":[-1.0,-1.0,-1.0,-1.0,-1.0,-1.0,-1.0,-1.0,-1.0,-1.0,-1.0,-1.0,-1.0,-1.0],\"z\":[1.0,1.0,1.0,1.0,1.0,1.0,1.0,1.0,1.0,1.0,1.0,1.0,1.0,1.0],\"type\":\"scatter3d\"},{\"marker\":{\"color\":\"blue\"},\"mode\":\"markers+text\",\"name\":\"Example: 16349 (0)\",\"text\":[\"[CLS]\",\"i\",\"hope\",\"this\",\"group\",\"of\",\"film\",\"-\",\"makers\",\"never\",\"re\",\"-\",\"unites\",\".\",\"[SEP]\"],\"x\":[0.17097127437591553,-0.9818811416625977,0.02186684124171734,-0.9862328767776489,-0.9633111357688904,-0.9862520694732666,-0.7245578765869141,-0.7837384343147278,-0.9276573657989502,-0.7803000211715698,0.9996405243873596,0.10610804706811905,0.9996494054794312,-0.986346960067749,-0.9047606587409973],\"y\":[-0.14709292352199554,0.9545939564704895,0.3265015780925751,0.9581269025802612,0.9429061412811279,0.9581436514854431,0.850074291229248,0.8718839287757874,0.9260470271110535,0.8706324100494385,-0.9996208548545837,0.19275090098381042,-0.9996302127838135,0.9582270383834839,0.9166737794876099],\"z\":[-0.1447523981332779,0.9508696794509888,0.3454839289188385,0.9541079998016357,0.9401529431343079,0.9541233777999878,0.8541773557662964,0.8745155334472656,0.9246571660041809,0.8733506202697754,-0.9998890161514282,0.21038226783275604,-0.9998921155929565,0.9541997909545898,0.9160188436508179],\"type\":\"scatter3d\"},{\"marker\":{\"color\":\"red\"},\"mode\":\"markers+text\",\"name\":\"Example: 16349 (1)\",\"text\":[\"[CLS]\",\"i\",\"hope\",\"this\",\"group\",\"of\",\"film\",\"-\",\"makers\",\"never\",\"re\",\"-\",\"unites\",\".\",\"[SEP]\"],\"x\":[0.18593843281269073,-0.9810370802879333,-0.5386221408843994,-0.981606125831604,-0.9787179827690125,-0.9816086292266846,-0.9489238262176514,-0.9572407007217407,-0.9745604991912842,-0.9567828178405762,-1.0,-0.3675388991832733,-1.0,-0.9816211462020874,-0.9719482064247131],\"y\":[0.19981105625629425,-0.9855397343635559,-0.640714168548584,-0.9853236079216003,-0.9854247570037842,-0.9853221774101257,-0.9708020091056824,-0.9754305481910706,-0.9840370416641235,-0.9751811027526855,-1.0,-0.46532291173934937,-1.0,-0.9853150844573975,-0.98291015625],\"z\":[-0.19315418601036072,0.9834257364273071,0.5993403196334839,0.9834821820259094,0.9825589656829834,0.9834821820259094,0.9625753164291382,0.9685437083244324,0.9802259206771851,0.9682190418243408,1.0,0.42497992515563965,1.0,0.9834818840026855,0.9785856604576111],\"type\":\"scatter3d\"},{\"marker\":{\"color\":\"blue\"},\"mode\":\"markers+text\",\"name\":\"Example: 21487 (0)\",\"text\":[\"[CLS]\",\"read\",\"the\",\"book\",\",\",\"forget\",\"the\",\"movie\",\"!\",\"[SEP]\"],\"x\":[0.9997091293334961,0.9996433854103088,0.9996334314346313,0.9997093677520752,0.9997064471244812,0.9995632767677307,0.9996110796928406,0.9995957612991333,0.9997009038925171,0.9997084736824036],\"y\":[-0.9996928572654724,-0.9996238350868225,-0.9996134042739868,-0.9996930956840515,-0.9996899962425232,-0.9995399117469788,-0.9995899796485901,-0.9995739459991455,-0.99968421459198,-0.9996921420097351],\"z\":[-0.9999127388000488,-0.9998900294303894,-0.9998865127563477,-0.9999128580093384,-0.9999118447303772,-0.9998615384101868,-0.9998786449432373,-0.9998732209205627,-0.9999099373817444,-0.9999125599861145],\"type\":\"scatter3d\"},{\"marker\":{\"color\":\"red\"},\"mode\":\"markers+text\",\"name\":\"Example: 21487 (1)\",\"text\":[\"[CLS]\",\"read\",\"the\",\"book\",\",\",\"forget\",\"the\",\"movie\",\"!\",\"[SEP]\"],\"x\":[-1.0,-1.0,-1.0,-1.0,-1.0,-1.0,-1.0,-1.0,-1.0,-1.0],\"y\":[-1.0,-1.0,-1.0,-1.0,-1.0,-1.0,-1.0,-1.0,-1.0,-1.0],\"z\":[1.0,1.0,1.0,1.0,1.0,1.0,1.0,1.0,1.0,1.0],\"type\":\"scatter3d\"},{\"marker\":{\"color\":\"blue\"},\"mode\":\"markers+text\",\"name\":\"Example: 22019 (0)\",\"text\":[\"[CLS]\",\"more\",\"suspenseful\",\",\",\"more\",\"subtle\",\",\",\"much\",\",\",\"much\",\"more\",\"disturbing\",\"....\",\"[SEP]\"],\"x\":[0.9996524453163147,0.9996111989021301,0.9995870590209961,0.9996480941772461,0.9995996952056885,0.9995937943458557,0.9996472597122192,0.9996471405029297,0.9996432662010193,0.9996517896652222,0.9995982050895691,0.999653160572052,0.999640703201294,0.9996441602706909],\"y\":[-0.9996333718299866,-0.9995901584625244,-0.9995648264884949,-0.9996288418769836,-0.999578058719635,-0.9995718598365784,-0.999627947807312,-0.9996278285980225,-0.999623715877533,-0.9996326565742493,-0.9995765089988708,-0.9996340870857239,-0.9996210336685181,-0.9996246695518494],\"z\":[-0.9998931884765625,-0.9998787045478821,-0.9998700618743896,-0.9998916983604431,-0.9998745918273926,-0.9998725056648254,-0.9998914003372192,-0.9998913407325745,-0.9998899698257446,-0.9998929500579834,-0.9998740553855896,-0.9998934268951416,-0.999889075756073,-0.9998902678489685],\"type\":\"scatter3d\"},{\"marker\":{\"color\":\"red\"},\"mode\":\"markers+text\",\"name\":\"Example: 22019 (1)\",\"text\":[\"[CLS]\",\"more\",\"suspenseful\",\",\",\"more\",\"subtle\",\",\",\"much\",\",\",\"much\",\"more\",\"disturbing\",\"....\",\"[SEP]\"],\"x\":[-1.0,-1.0,-1.0,-1.0,-1.0,-1.0,-1.0,-1.0,-1.0,-1.0,-1.0,-1.0,-1.0,-1.0],\"y\":[-1.0,-1.0,-1.0,-1.0,-1.0,-1.0,-1.0,-1.0,-1.0,-1.0,-1.0,-1.0,-1.0,-1.0],\"z\":[1.0,1.0,1.0,1.0,1.0,1.0,1.0,1.0,1.0,1.0,1.0,1.0,1.0,1.0],\"type\":\"scatter3d\"},{\"marker\":{\"color\":\"blue\"},\"mode\":\"markers+text\",\"name\":\"Example: 24588 (0)\",\"text\":[\"[CLS]\",\"primary\",\"[UNK]\",\"[UNK]\",\"interpretation\",\".\",\"[SEP]\"],\"x\":[-0.8522748351097107,-0.9755063056945801,-0.7193175554275513,-0.672553539276123,-0.9746785163879395,-0.9751684069633484,-0.8774030208587646],\"y\":[0.8968056440353394,0.9501282572746277,0.848106324672699,0.8301718235015869,0.9495922327041626,0.949908435344696,0.9061383605003357],\"z\":[0.8976536393165588,0.9467765092849731,0.8523380756378174,0.835547149181366,0.9462851881980896,0.9465750455856323,0.9062895178794861],\"type\":\"scatter3d\"},{\"marker\":{\"color\":\"red\"},\"mode\":\"markers+text\",\"name\":\"Example: 24588 (1)\",\"text\":[\"[CLS]\",\"primary\",\"[UNK]\",\"[UNK]\",\"interpretation\",\".\",\"[SEP]\"],\"x\":[-0.9658441543579102,-0.9802212119102478,-0.9481385350227356,-0.9407213926315308,-0.9801169037818909,-0.9801785945892334,-0.9688010215759277],\"y\":[-0.9799639582633972,-0.985619068145752,-0.9703553915023804,-0.9660667777061462,-0.9856168627738953,-0.9856184720993042,-0.981431245803833],\"z\":[0.974531888961792,0.9831982851028442,0.9620047807693481,0.956564724445343,0.9831612706184387,0.9831833243370056,0.9765241742134094],\"type\":\"scatter3d\"}],                        {\"title\":{\"text\":\"Space Embeddings\"},\"template\":{\"data\":{\"histogram2dcontour\":[{\"type\":\"histogram2dcontour\",\"colorbar\":{\"outlinewidth\":0,\"ticks\":\"\"},\"colorscale\":[[0.0,\"#0d0887\"],[0.1111111111111111,\"#46039f\"],[0.2222222222222222,\"#7201a8\"],[0.3333333333333333,\"#9c179e\"],[0.4444444444444444,\"#bd3786\"],[0.5555555555555556,\"#d8576b\"],[0.6666666666666666,\"#ed7953\"],[0.7777777777777778,\"#fb9f3a\"],[0.8888888888888888,\"#fdca26\"],[1.0,\"#f0f921\"]]}],\"choropleth\":[{\"type\":\"choropleth\",\"colorbar\":{\"outlinewidth\":0,\"ticks\":\"\"}}],\"histogram2d\":[{\"type\":\"histogram2d\",\"colorbar\":{\"outlinewidth\":0,\"ticks\":\"\"},\"colorscale\":[[0.0,\"#0d0887\"],[0.1111111111111111,\"#46039f\"],[0.2222222222222222,\"#7201a8\"],[0.3333333333333333,\"#9c179e\"],[0.4444444444444444,\"#bd3786\"],[0.5555555555555556,\"#d8576b\"],[0.6666666666666666,\"#ed7953\"],[0.7777777777777778,\"#fb9f3a\"],[0.8888888888888888,\"#fdca26\"],[1.0,\"#f0f921\"]]}],\"heatmap\":[{\"type\":\"heatmap\",\"colorbar\":{\"outlinewidth\":0,\"ticks\":\"\"},\"colorscale\":[[0.0,\"#0d0887\"],[0.1111111111111111,\"#46039f\"],[0.2222222222222222,\"#7201a8\"],[0.3333333333333333,\"#9c179e\"],[0.4444444444444444,\"#bd3786\"],[0.5555555555555556,\"#d8576b\"],[0.6666666666666666,\"#ed7953\"],[0.7777777777777778,\"#fb9f3a\"],[0.8888888888888888,\"#fdca26\"],[1.0,\"#f0f921\"]]}],\"heatmapgl\":[{\"type\":\"heatmapgl\",\"colorbar\":{\"outlinewidth\":0,\"ticks\":\"\"},\"colorscale\":[[0.0,\"#0d0887\"],[0.1111111111111111,\"#46039f\"],[0.2222222222222222,\"#7201a8\"],[0.3333333333333333,\"#9c179e\"],[0.4444444444444444,\"#bd3786\"],[0.5555555555555556,\"#d8576b\"],[0.6666666666666666,\"#ed7953\"],[0.7777777777777778,\"#fb9f3a\"],[0.8888888888888888,\"#fdca26\"],[1.0,\"#f0f921\"]]}],\"contourcarpet\":[{\"type\":\"contourcarpet\",\"colorbar\":{\"outlinewidth\":0,\"ticks\":\"\"}}],\"contour\":[{\"type\":\"contour\",\"colorbar\":{\"outlinewidth\":0,\"ticks\":\"\"},\"colorscale\":[[0.0,\"#0d0887\"],[0.1111111111111111,\"#46039f\"],[0.2222222222222222,\"#7201a8\"],[0.3333333333333333,\"#9c179e\"],[0.4444444444444444,\"#bd3786\"],[0.5555555555555556,\"#d8576b\"],[0.6666666666666666,\"#ed7953\"],[0.7777777777777778,\"#fb9f3a\"],[0.8888888888888888,\"#fdca26\"],[1.0,\"#f0f921\"]]}],\"surface\":[{\"type\":\"surface\",\"colorbar\":{\"outlinewidth\":0,\"ticks\":\"\"},\"colorscale\":[[0.0,\"#0d0887\"],[0.1111111111111111,\"#46039f\"],[0.2222222222222222,\"#7201a8\"],[0.3333333333333333,\"#9c179e\"],[0.4444444444444444,\"#bd3786\"],[0.5555555555555556,\"#d8576b\"],[0.6666666666666666,\"#ed7953\"],[0.7777777777777778,\"#fb9f3a\"],[0.8888888888888888,\"#fdca26\"],[1.0,\"#f0f921\"]]}],\"mesh3d\":[{\"type\":\"mesh3d\",\"colorbar\":{\"outlinewidth\":0,\"ticks\":\"\"}}],\"scatter\":[{\"fillpattern\":{\"fillmode\":\"overlay\",\"size\":10,\"solidity\":0.2},\"type\":\"scatter\"}],\"parcoords\":[{\"type\":\"parcoords\",\"line\":{\"colorbar\":{\"outlinewidth\":0,\"ticks\":\"\"}}}],\"scatterpolargl\":[{\"type\":\"scatterpolargl\",\"marker\":{\"colorbar\":{\"outlinewidth\":0,\"ticks\":\"\"}}}],\"bar\":[{\"error_x\":{\"color\":\"#2a3f5f\"},\"error_y\":{\"color\":\"#2a3f5f\"},\"marker\":{\"line\":{\"color\":\"#E5ECF6\",\"width\":0.5},\"pattern\":{\"fillmode\":\"overlay\",\"size\":10,\"solidity\":0.2}},\"type\":\"bar\"}],\"scattergeo\":[{\"type\":\"scattergeo\",\"marker\":{\"colorbar\":{\"outlinewidth\":0,\"ticks\":\"\"}}}],\"scatterpolar\":[{\"type\":\"scatterpolar\",\"marker\":{\"colorbar\":{\"outlinewidth\":0,\"ticks\":\"\"}}}],\"histogram\":[{\"marker\":{\"pattern\":{\"fillmode\":\"overlay\",\"size\":10,\"solidity\":0.2}},\"type\":\"histogram\"}],\"scattergl\":[{\"type\":\"scattergl\",\"marker\":{\"colorbar\":{\"outlinewidth\":0,\"ticks\":\"\"}}}],\"scatter3d\":[{\"type\":\"scatter3d\",\"line\":{\"colorbar\":{\"outlinewidth\":0,\"ticks\":\"\"}},\"marker\":{\"colorbar\":{\"outlinewidth\":0,\"ticks\":\"\"}}}],\"scattermapbox\":[{\"type\":\"scattermapbox\",\"marker\":{\"colorbar\":{\"outlinewidth\":0,\"ticks\":\"\"}}}],\"scatterternary\":[{\"type\":\"scatterternary\",\"marker\":{\"colorbar\":{\"outlinewidth\":0,\"ticks\":\"\"}}}],\"scattercarpet\":[{\"type\":\"scattercarpet\",\"marker\":{\"colorbar\":{\"outlinewidth\":0,\"ticks\":\"\"}}}],\"carpet\":[{\"aaxis\":{\"endlinecolor\":\"#2a3f5f\",\"gridcolor\":\"white\",\"linecolor\":\"white\",\"minorgridcolor\":\"white\",\"startlinecolor\":\"#2a3f5f\"},\"baxis\":{\"endlinecolor\":\"#2a3f5f\",\"gridcolor\":\"white\",\"linecolor\":\"white\",\"minorgridcolor\":\"white\",\"startlinecolor\":\"#2a3f5f\"},\"type\":\"carpet\"}],\"table\":[{\"cells\":{\"fill\":{\"color\":\"#EBF0F8\"},\"line\":{\"color\":\"white\"}},\"header\":{\"fill\":{\"color\":\"#C8D4E3\"},\"line\":{\"color\":\"white\"}},\"type\":\"table\"}],\"barpolar\":[{\"marker\":{\"line\":{\"color\":\"#E5ECF6\",\"width\":0.5},\"pattern\":{\"fillmode\":\"overlay\",\"size\":10,\"solidity\":0.2}},\"type\":\"barpolar\"}],\"pie\":[{\"automargin\":true,\"type\":\"pie\"}]},\"layout\":{\"autotypenumbers\":\"strict\",\"colorway\":[\"#636efa\",\"#EF553B\",\"#00cc96\",\"#ab63fa\",\"#FFA15A\",\"#19d3f3\",\"#FF6692\",\"#B6E880\",\"#FF97FF\",\"#FECB52\"],\"font\":{\"color\":\"#2a3f5f\"},\"hovermode\":\"closest\",\"hoverlabel\":{\"align\":\"left\"},\"paper_bgcolor\":\"white\",\"plot_bgcolor\":\"#E5ECF6\",\"polar\":{\"bgcolor\":\"#E5ECF6\",\"angularaxis\":{\"gridcolor\":\"white\",\"linecolor\":\"white\",\"ticks\":\"\"},\"radialaxis\":{\"gridcolor\":\"white\",\"linecolor\":\"white\",\"ticks\":\"\"}},\"ternary\":{\"bgcolor\":\"#E5ECF6\",\"aaxis\":{\"gridcolor\":\"white\",\"linecolor\":\"white\",\"ticks\":\"\"},\"baxis\":{\"gridcolor\":\"white\",\"linecolor\":\"white\",\"ticks\":\"\"},\"caxis\":{\"gridcolor\":\"white\",\"linecolor\":\"white\",\"ticks\":\"\"}},\"coloraxis\":{\"colorbar\":{\"outlinewidth\":0,\"ticks\":\"\"}},\"colorscale\":{\"sequential\":[[0.0,\"#0d0887\"],[0.1111111111111111,\"#46039f\"],[0.2222222222222222,\"#7201a8\"],[0.3333333333333333,\"#9c179e\"],[0.4444444444444444,\"#bd3786\"],[0.5555555555555556,\"#d8576b\"],[0.6666666666666666,\"#ed7953\"],[0.7777777777777778,\"#fb9f3a\"],[0.8888888888888888,\"#fdca26\"],[1.0,\"#f0f921\"]],\"sequentialminus\":[[0.0,\"#0d0887\"],[0.1111111111111111,\"#46039f\"],[0.2222222222222222,\"#7201a8\"],[0.3333333333333333,\"#9c179e\"],[0.4444444444444444,\"#bd3786\"],[0.5555555555555556,\"#d8576b\"],[0.6666666666666666,\"#ed7953\"],[0.7777777777777778,\"#fb9f3a\"],[0.8888888888888888,\"#fdca26\"],[1.0,\"#f0f921\"]],\"diverging\":[[0,\"#8e0152\"],[0.1,\"#c51b7d\"],[0.2,\"#de77ae\"],[0.3,\"#f1b6da\"],[0.4,\"#fde0ef\"],[0.5,\"#f7f7f7\"],[0.6,\"#e6f5d0\"],[0.7,\"#b8e186\"],[0.8,\"#7fbc41\"],[0.9,\"#4d9221\"],[1,\"#276419\"]]},\"xaxis\":{\"gridcolor\":\"white\",\"linecolor\":\"white\",\"ticks\":\"\",\"title\":{\"standoff\":15},\"zerolinecolor\":\"white\",\"automargin\":true,\"zerolinewidth\":2},\"yaxis\":{\"gridcolor\":\"white\",\"linecolor\":\"white\",\"ticks\":\"\",\"title\":{\"standoff\":15},\"zerolinecolor\":\"white\",\"automargin\":true,\"zerolinewidth\":2},\"scene\":{\"xaxis\":{\"backgroundcolor\":\"#E5ECF6\",\"gridcolor\":\"white\",\"linecolor\":\"white\",\"showbackground\":true,\"ticks\":\"\",\"zerolinecolor\":\"white\",\"gridwidth\":2},\"yaxis\":{\"backgroundcolor\":\"#E5ECF6\",\"gridcolor\":\"white\",\"linecolor\":\"white\",\"showbackground\":true,\"ticks\":\"\",\"zerolinecolor\":\"white\",\"gridwidth\":2},\"zaxis\":{\"backgroundcolor\":\"#E5ECF6\",\"gridcolor\":\"white\",\"linecolor\":\"white\",\"showbackground\":true,\"ticks\":\"\",\"zerolinecolor\":\"white\",\"gridwidth\":2}},\"shapedefaults\":{\"line\":{\"color\":\"#2a3f5f\"}},\"annotationdefaults\":{\"arrowcolor\":\"#2a3f5f\",\"arrowhead\":0,\"arrowwidth\":1},\"geo\":{\"bgcolor\":\"white\",\"landcolor\":\"#E5ECF6\",\"subunitcolor\":\"white\",\"showland\":true,\"showlakes\":true,\"lakecolor\":\"white\"},\"title\":{\"x\":0.05},\"mapbox\":{\"style\":\"light\"}}}},                        {\"responsive\": true}                    ).then(function(){\n",
              "                            \n",
              "var gd = document.getElementById('85f33d6c-fef0-4162-900c-93e84f4656c3');\n",
              "var x = new MutationObserver(function (mutations, observer) {{\n",
              "        var display = window.getComputedStyle(gd).display;\n",
              "        if (!display || display === 'none') {{\n",
              "            console.log([gd, 'removed!']);\n",
              "            Plotly.purge(gd);\n",
              "            observer.disconnect();\n",
              "        }}\n",
              "}});\n",
              "\n",
              "// Listen for the removal of the full notebook cells\n",
              "var notebookContainer = gd.closest('#notebook-container');\n",
              "if (notebookContainer) {{\n",
              "    x.observe(notebookContainer, {childList: true});\n",
              "}}\n",
              "\n",
              "// Listen for the clearing of the current output cell\n",
              "var outputEl = gd.closest('.output');\n",
              "if (outputEl) {{\n",
              "    x.observe(outputEl, {childList: true});\n",
              "}}\n",
              "\n",
              "                        })                };                            </script>        </div>\n",
              "</body>\n",
              "</html>"
            ]
          },
          "metadata": {}
        }
      ]
    },
    {
      "cell_type": "code",
      "source": [],
      "metadata": {
        "id": "3CfRqtTW0KyF"
      },
      "execution_count": null,
      "outputs": []
    }
  ],
  "metadata": {
    "kernelspec": {
      "display_name": "Python 3",
      "name": "python3"
    },
    "language_info": {
      "codemirror_mode": {
        "name": "ipython",
        "version": 2
      },
      "file_extension": ".py",
      "mimetype": "text/x-python",
      "name": "python",
      "nbconvert_exporter": "python",
      "pygments_lexer": "ipython2",
      "version": "2.7.6"
    },
    "colab": {
      "provenance": [],
      "gpuType": "T4"
    },
    "accelerator": "GPU"
  },
  "nbformat": 4,
  "nbformat_minor": 0
}