{
 "cells": [
  {
   "cell_type": "code",
   "execution_count": null,
   "metadata": {},
   "source": [
    "! pip install transformers"
   ],
   "outputs": []
  },
  {
   "cell_type": "code",
   "execution_count": 1,
   "metadata": {
    "colab": {
     "base_uri": "https://localhost:8080/"
    },
    "id": "V4vJIZJeclwP",
    "outputId": "b20006dd-8811-4d0c-b81e-faad120f1a29",
    "tags": []
   },
   "source": [
    "! rm -rf space-model\n",
    "! git clone https://github.com/StepanTita/space-model.git"
   ],
   "outputs": []
  },
  {
   "cell_type": "code",
   "execution_count": 3,
   "metadata": {
    "id": "LFX6x0OIc6uP",
    "tags": []
   },
   "source": [
    "import sys\n",
    "\n",
    "sys.path.append('space-model')"
   ],
   "outputs": []
  },
  {
   "cell_type": "code",
   "execution_count": 4,
   "metadata": {
    "ExecuteTime": {
     "end_time": "2023-10-17T21:21:56.394657Z",
     "start_time": "2023-10-17T21:21:52.683897Z"
    },
    "id": "EzQpePJ4cXPG",
    "tags": []
   },
   "source": [
    "import math\n",
    "import json\n",
    "from collections import Counter\n",
    "import random\n",
    "import os\n",
    "\n",
    "import pandas as pd\n",
    "import numpy as np\n",
    "\n",
    "import torch\n",
    "import torch.nn.functional as F\n",
    "\n",
    "from sklearn.metrics import accuracy_score, f1_score, precision_score, recall_score\n",
    "from sklearn.model_selection import train_test_split\n",
    "\n",
    "from tqdm import tqdm\n",
    "\n",
    "import matplotlib.pyplot as plt\n",
    "import plotly.graph_objects as go\n",
    "\n",
    "from transformers import AutoModel, AutoTokenizer, AutoModelForSequenceClassification\n",
    "from transformers import DataCollatorWithPadding\n",
    "\n",
    "from datasets import load_dataset, Dataset, DatasetDict\n",
    "\n",
    "from space_model.model import *\n",
    "from space_model.loss import *"
   ],
   "outputs": []
  },
  {
   "cell_type": "code",
   "execution_count": 5,
   "metadata": {
    "tags": []
   },
   "source": [
    "device_id = 1"
   ],
   "outputs": []
  },
  {
   "cell_type": "code",
   "execution_count": 6,
   "metadata": {
    "ExecuteTime": {
     "end_time": "2023-10-17T21:21:57.492835Z",
     "start_time": "2023-10-17T21:21:57.485837Z"
    },
    "id": "dPxAI9XscXPH",
    "tags": []
   },
   "source": [
    "device = torch.device(f'cuda:{device_id}' if torch.cuda.is_available() else 'cpu')\n",
    "device"
   ],
   "outputs": []
  },
  {
   "cell_type": "code",
   "execution_count": 7,
   "metadata": {
    "tags": []
   },
   "source": [
    "torch.cuda.set_device(device)"
   ],
   "outputs": []
  },
  {
   "cell_type": "code",
   "execution_count": 8,
   "metadata": {
    "ExecuteTime": {
     "end_time": "2023-10-17T21:21:58.663667Z",
     "start_time": "2023-10-17T21:21:58.202759Z"
    },
    "id": "KQb635bAcXPH",
    "tags": []
   },
   "source": [
    "data = None\n",
    "with open('space-model/data/hate_dataset.json') as f:\n",
    "    data = json.loads(f.read())"
   ],
   "outputs": []
  },
  {
   "cell_type": "code",
   "execution_count": 9,
   "metadata": {
    "ExecuteTime": {
     "end_time": "2023-10-17T21:21:59.380681Z",
     "start_time": "2023-10-17T21:21:59.290429Z"
    },
    "id": "MnzxttcxcXPI",
    "tags": []
   },
   "source": [
    "vocab = set()\n",
    "for id in data:\n",
    "    vocab |= set(data[id]['post_tokens'])"
   ],
   "outputs": []
  },
  {
   "cell_type": "code",
   "execution_count": 10,
   "metadata": {
    "ExecuteTime": {
     "end_time": "2023-10-17T21:21:59.795588Z",
     "start_time": "2023-10-17T21:21:59.785847Z"
    },
    "id": "m5CMy4NmcXPI",
    "tags": []
   },
   "source": [
    "ids_split = None\n",
    "with open('space-model/data/hate_post_id_divisions.json') as f:\n",
    "    ids_split = json.loads(f.read())"
   ],
   "outputs": []
  },
  {
   "cell_type": "code",
   "execution_count": 11,
   "metadata": {
    "tags": []
   },
   "source": [
    "def encode_label(label):\n",
    "    if label == 'hatespeech':\n",
    "        return 0\n",
    "    elif label == 'normal':\n",
    "        return 1\n",
    "    elif label == 'offensive':\n",
    "        return 0  # 2\n",
    "    raise Exception(f'Unknown Label: {label}!')"
   ],
   "outputs": []
  },
  {
   "cell_type": "code",
   "execution_count": 12,
   "metadata": {
    "ExecuteTime": {
     "end_time": "2023-10-17T21:22:18.371680Z",
     "start_time": "2023-10-17T21:22:18.368560Z"
    },
    "id": "5b6HjLMEcXPJ",
    "tags": []
   },
   "source": [
    "MODEL_NAME = 'distilbert-base-cased'\n",
    "MODELS_PATH = 'models'\n",
    "DATASET_NAME = 'imdb'\n",
    "\n",
    "NUM_EPOCHS = 15\n",
    "BATCH_SIZE = 256\n",
    "MAX_SEQ_LEN = 256"
   ],
   "outputs": []
  },
  {
   "cell_type": "code",
   "execution_count": 13,
   "metadata": {
    "ExecuteTime": {
     "end_time": "2023-10-17T21:26:23.407128Z",
     "start_time": "2023-10-17T21:26:23.403439Z"
    },
    "colab": {
     "base_uri": "https://localhost:8080/"
    },
    "id": "7CdJl4UEcXPJ",
    "outputId": "ee737554-14a9-4e2c-86c9-35c190b1ec64",
    "tags": []
   },
   "source": [
    "tokenizer = AutoTokenizer.from_pretrained(MODEL_NAME)\n",
    "tokenizer"
   ],
   "outputs": []
  },
  {
   "cell_type": "code",
   "execution_count": 14,
   "metadata": {
    "tags": []
   },
   "source": [
    "def get_label(annotators):\n",
    "    return Counter([anno['label'] for anno in annotators]).most_common(1)[0][0]"
   ],
   "outputs": []
  },
  {
   "cell_type": "code",
   "execution_count": 15,
   "metadata": {
    "tags": []
   },
   "source": [
    "val_dataset = DatasetDict({\n",
    "    'train': Dataset.from_list([{\n",
    "        'text': ' '.join(data[post_id]['post_tokens']),\n",
    "        'label': encode_label(get_label(data[post_id]['annotators']))\n",
    "    } for post_id in tqdm(data, desc='Train') if post_id in ids_split['train']]),\n",
    "    'test': Dataset.from_list([{\n",
    "        'text': ' '.join(data[post_id]['post_tokens']),\n",
    "        'label': encode_label(get_label(data[post_id]['annotators']))\n",
    "    } for post_id in tqdm(data, desc='Test') if post_id in ids_split['test']]),\n",
    "    'val': Dataset.from_list([{\n",
    "        'text': ' '.join(data[post_id]['post_tokens']),\n",
    "        'label': encode_label(get_label(data[post_id]['annotators']))\n",
    "    } for post_id in tqdm(data, desc='Val') if post_id in ids_split['val']])\n",
    "})"
   ],
   "outputs": []
  },
  {
   "cell_type": "code",
   "execution_count": 16,
   "metadata": {
    "tags": []
   },
   "source": [
    "val_dataset"
   ],
   "outputs": []
  },
  {
   "cell_type": "code",
   "execution_count": 17,
   "metadata": {
    "tags": []
   },
   "source": [
    "val_dataset = val_dataset.map(lambda x: tokenizer(x['text'], truncation=True, padding='max_length', max_length=MAX_SEQ_LEN, return_tensors='pt'), batched=True)\n",
    "val_dataset.set_format('torch', device=device)\n",
    "val_dataset"
   ],
   "outputs": []
  },
  {
   "cell_type": "markdown",
   "metadata": {},
   "source": [
    "## Base Model"
   ]
  },
  {
   "cell_type": "code",
   "execution_count": 18,
   "metadata": {
    "tags": []
   },
   "source": [
    "state_dict = torch.load(f'{MODELS_PATH}/{DATASET_NAME}_{MODEL_NAME}_{NUM_EPOCHS}.bin')"
   ],
   "outputs": []
  },
  {
   "cell_type": "code",
   "execution_count": 19,
   "metadata": {
    "ExecuteTime": {
     "end_time": "2023-10-17T21:26:39.504430Z",
     "start_time": "2023-10-17T21:26:39.490237Z"
    },
    "colab": {
     "base_uri": "https://localhost:8080/"
    },
    "id": "7LtAcsA8cXPK",
    "outputId": "363eca6c-f4a9-42fa-d817-05d9d2362878",
    "tags": []
   },
   "source": [
    "base_model = AutoModelForSequenceClassification.from_pretrained(MODEL_NAME, state_dict=state_dict).to(device)\n",
    "base_model"
   ],
   "outputs": []
  },
  {
   "cell_type": "code",
   "execution_count": 20,
   "metadata": {
    "id": "cgyRO91Ng17v"
   },
   "source": [
    "def eval(f):\n",
    "    def wrapper(model, *args, **kwargs):\n",
    "        model.eval()\n",
    "        return f(model, *args, **kwargs)\n",
    "    return wrapper"
   ],
   "outputs": []
  },
  {
   "cell_type": "code",
   "execution_count": 21,
   "metadata": {},
   "source": [
    "@eval\n",
    "def eval_epoch(model, val_dataloader):\n",
    "    val_loss = 0.0\n",
    "    val_preds = []\n",
    "    val_labels = []\n",
    "\n",
    "    with torch.no_grad():\n",
    "\n",
    "        for step, batch in enumerate(tqdm(val_dataloader, total=len(val_dataloader))):\n",
    "            ids = batch['input_ids'].to(device, dtype = torch.long)\n",
    "            mask = batch['attention_mask'].to(device, dtype = torch.long)\n",
    "            targets = batch['label'].to(device, dtype = torch.long)\n",
    "\n",
    "            outputs = model(input_ids=ids, attention_mask=mask, labels=targets)\n",
    "\n",
    "            loss, logits = outputs.loss, outputs.logits\n",
    "\n",
    "            probs = F.softmax(logits, dim=-1).cpu()\n",
    "            pred = torch.argmax(probs, dim=-1) # (B)\n",
    "            val_preds += pred.detach().tolist()\n",
    "            val_labels += [l.item() for l in targets.cpu()]\n",
    "\n",
    "            val_loss += loss.item()\n",
    "    return val_loss, val_preds, val_labels"
   ],
   "outputs": []
  },
  {
   "cell_type": "code",
   "execution_count": 22,
   "metadata": {},
   "source": [
    "val_dataloader = torch.utils.data.DataLoader(val_dataset['test'], batch_size=2 * BATCH_SIZE)"
   ],
   "outputs": []
  },
  {
   "cell_type": "code",
   "execution_count": 23,
   "metadata": {},
   "source": [
    "val_loss, val_preds, val_labels = eval_epoch(base_model, val_dataloader)"
   ],
   "outputs": []
  },
  {
   "cell_type": "code",
   "execution_count": 24,
   "metadata": {},
   "source": [
    "val_acc = accuracy_score(val_labels, val_preds)\n",
    "val_f1 = f1_score(val_labels, val_preds, average='macro')\n",
    "val_precision = precision_score(val_labels, val_preds)\n",
    "val_recall = recall_score(val_labels, val_preds)"
   ],
   "outputs": []
  },
  {
   "cell_type": "code",
   "execution_count": 25,
   "metadata": {},
   "source": [
    "print(f'Val loss: {val_loss / len(val_dataloader)}')\n",
    "print(f'Val acc: {val_acc}')\n",
    "print(f'Val f1: {val_f1}')\n",
    "print(f'Val precision: {val_precision}')\n",
    "print(f'Val recall: {val_recall}')"
   ],
   "outputs": []
  },
  {
   "cell_type": "markdown",
   "metadata": {},
   "source": [
    "## Space Model"
   ]
  },
  {
   "cell_type": "code",
   "execution_count": 36,
   "metadata": {
    "tags": []
   },
   "source": [
    "base_model = AutoModel.from_pretrained(MODEL_NAME)\n",
    "base_model"
   ],
   "outputs": []
  },
  {
   "cell_type": "code",
   "execution_count": 37,
   "metadata": {
    "tags": []
   },
   "source": [
    "space_model = SpaceModelForSequenceClassification(base_model, n_embed=768, n_latent=3, n_concept_spaces=2, l1=0, l2=0).to(device) \n",
    "space_model.load_state_dict(torch.load(f'{MODELS_PATH}/{DATASET_NAME}_space-{MODEL_NAME}_{NUM_EPOCHS}.bin'))\n",
    "space_model"
   ],
   "outputs": []
  },
  {
   "cell_type": "code",
   "execution_count": 38,
   "metadata": {
    "tags": []
   },
   "source": [
    "val_loss, val_preds, val_labels = eval_epoch(space_model, val_dataloader)"
   ],
   "outputs": []
  },
  {
   "cell_type": "code",
   "execution_count": 39,
   "metadata": {
    "tags": []
   },
   "source": [
    "val_acc = accuracy_score(val_labels, val_preds)\n",
    "val_f1 = f1_score(val_labels, val_preds, average='macro')\n",
    "val_precision = precision_score(val_labels, val_preds)\n",
    "val_recall = recall_score(val_labels, val_preds)"
   ],
   "outputs": []
  },
  {
   "cell_type": "code",
   "execution_count": 40,
   "metadata": {
    "tags": []
   },
   "source": [
    "print(f'Val loss: {val_loss / len(val_dataloader)}')\n",
    "print(f'Val acc: {val_acc}')\n",
    "print(f'Val f1: {val_f1}')\n",
    "print(f'Val precision: {val_precision}')\n",
    "print(f'Val recall: {val_recall}')"
   ],
   "outputs": []
  },
  {
   "cell_type": "code",
   "execution_count": null,
   "metadata": {},
   "source": [],
   "outputs": []
  }
 ],
 "metadata": {
  "accelerator": "GPU",
  "colab": {
   "gpuType": "T4",
   "provenance": []
  },
  "kernelspec": {
   "display_name": "Python 3",
   "language": "python",
   "name": "python3"
  },
  "language_info": {
   "codemirror_mode": {
    "name": "ipython",
    "version": 3
   },
   "file_extension": ".py",
   "mimetype": "text/x-python",
   "name": "python",
   "nbconvert_exporter": "python",
   "pygments_lexer": "ipython3",
   "version": "3.8.10"
  }
 },
 "nbformat": 4,
 "nbformat_minor": 4
}
