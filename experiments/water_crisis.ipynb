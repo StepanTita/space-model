{
 "cells": [
  {
   "cell_type": "code",
   "execution_count": 1,
   "metadata": {
    "ExecuteTime": {
     "end_time": "2023-10-22T20:56:30.349927Z",
     "start_time": "2023-10-22T20:56:28.451433Z"
    },
    "colab": {
     "base_uri": "https://localhost:8080/"
    },
    "id": "ebevoe42UgLK",
    "outputId": "adae0989-be6a-417d-9bc4-f8ad15102d49",
    "tags": [],
    "executionInfo": {
     "status": "ok",
     "timestamp": 1700521258698,
     "user_tz": 300,
     "elapsed": 12599,
     "user": {
      "displayName": "Stepan Tytarenko · s",
      "userId": "05452541728631834731"
     }
    }
   },
   "source": [
    "! pip install transformers plotly datasets"
   ],
   "outputs": []
  },
  {
   "cell_type": "code",
   "execution_count": 2,
   "metadata": {
    "colab": {
     "base_uri": "https://localhost:8080/"
    },
    "id": "5Ud9mPBrMnep",
    "outputId": "2048edcc-e88e-4f83-8f65-8fd925263c4c",
    "tags": [],
    "executionInfo": {
     "status": "ok",
     "timestamp": 1700521273648,
     "user_tz": 300,
     "elapsed": 14956,
     "user": {
      "displayName": "Stepan Tytarenko · s",
      "userId": "05452541728631834731"
     }
    }
   },
   "source": [
    "! rm -rf space-model\n",
    "! rm -rf nano-BERT\n",
    "! git clone https://github.com/StepanTita/space-model.git\n",
    "! git clone https://github.com/StepanTita/nano-BERT.git"
   ],
   "outputs": []
  },
  {
   "cell_type": "code",
   "execution_count": 1,
   "metadata": {
    "id": "ppjscAk9Mwxc",
    "tags": [],
    "executionInfo": {
     "status": "ok",
     "timestamp": 1700521741128,
     "user_tz": 300,
     "elapsed": 2,
     "user": {
      "displayName": "Stepan Tytarenko · s",
      "userId": "05452541728631834731"
     }
    }
   },
   "source": [
    "import sys\n",
    "\n",
    "sys.path.append('space-model')"
   ],
   "outputs": []
  },
  {
   "cell_type": "code",
   "execution_count": 2,
   "metadata": {
    "id": "E-jG_7erM1jL",
    "tags": [],
    "executionInfo": {
     "status": "ok",
     "timestamp": 1700521749422,
     "user_tz": 300,
     "elapsed": 8296,
     "user": {
      "displayName": "Stepan Tytarenko · s",
      "userId": "05452541728631834731"
     }
    }
   },
   "source": [
    "import math\n",
    "import json\n",
    "from collections import Counter\n",
    "import random\n",
    "import os\n",
    "\n",
    "import pandas as pd\n",
    "import numpy as np\n",
    "\n",
    "import torch\n",
    "import torch.nn.functional as F\n",
    "\n",
    "from sklearn.metrics import accuracy_score, f1_score, precision_score, recall_score\n",
    "from sklearn.model_selection import train_test_split\n",
    "\n",
    "from tqdm import tqdm\n",
    "\n",
    "import matplotlib.pyplot as plt\n",
    "import plotly.graph_objects as go\n",
    "\n",
    "from transformers import AutoModel, AutoTokenizer, AutoModelForSequenceClassification\n",
    "from transformers import DataCollatorWithPadding\n",
    "\n",
    "from datasets import load_dataset, Dataset, DatasetDict\n",
    "\n",
    "from space_model.model import *\n",
    "from space_model.loss import *"
   ],
   "outputs": []
  },
  {
   "cell_type": "code",
   "execution_count": 3,
   "metadata": {
    "id": "DgD4mX6CPqAx",
    "tags": [],
    "executionInfo": {
     "status": "ok",
     "timestamp": 1700521749954,
     "user_tz": 300,
     "elapsed": 7,
     "user": {
      "displayName": "Stepan Tytarenko · s",
      "userId": "05452541728631834731"
     }
    }
   },
   "source": [
    "SEED = 42"
   ],
   "outputs": []
  },
  {
   "cell_type": "code",
   "execution_count": 4,
   "metadata": {
    "id": "287PDnJQPm4K",
    "tags": [],
    "executionInfo": {
     "status": "ok",
     "timestamp": 1700521749954,
     "user_tz": 300,
     "elapsed": 5,
     "user": {
      "displayName": "Stepan Tytarenko · s",
      "userId": "05452541728631834731"
     }
    }
   },
   "source": [
    "def seed_everything(seed=42):\n",
    "    random.seed(seed)\n",
    "    os.environ['PYTHONHASHSEED'] = str(seed)\n",
    "    np.random.seed(seed)\n",
    "    torch.manual_seed(seed)\n",
    "    torch.cuda.manual_seed(seed)\n",
    "    torch.backends.cudnn.deterministic = True\n",
    "\n",
    "seed_everything(seed=SEED)"
   ],
   "outputs": []
  },
  {
   "cell_type": "code",
   "execution_count": 5,
   "metadata": {
    "id": "gdyFsHsxPtFR",
    "tags": [],
    "executionInfo": {
     "status": "ok",
     "timestamp": 1700521749954,
     "user_tz": 300,
     "elapsed": 4,
     "user": {
      "displayName": "Stepan Tytarenko · s",
      "userId": "05452541728631834731"
     }
    }
   },
   "source": [
    "def on_gpu(f):\n",
    "    def wrapper(*args):\n",
    "        if torch.cuda.is_available():\n",
    "            return f(*args)\n",
    "        else:\n",
    "            print('cuda unavailable')\n",
    "    return wrapper"
   ],
   "outputs": []
  },
  {
   "cell_type": "code",
   "execution_count": 6,
   "metadata": {
    "colab": {
     "base_uri": "https://localhost:8080/"
    },
    "id": "QdNbXp-oPw7W",
    "outputId": "8ad6cf06-a8b1-4154-a94c-7dcd7fd0bf58",
    "tags": [],
    "executionInfo": {
     "status": "ok",
     "timestamp": 1700521760691,
     "user_tz": 300,
     "elapsed": 10740,
     "user": {
      "displayName": "Stepan Tytarenko · s",
      "userId": "05452541728631834731"
     }
    }
   },
   "source": [
    "if torch.cuda.is_available():\n",
    "    ! pip install pynvml\n",
    "    from pynvml import *\n",
    "    from numba import cuda\n",
    "\n",
    "@on_gpu\n",
    "def print_gpu_utilization(dev_id):\n",
    "    try:\n",
    "        nvmlInit()\n",
    "        handle = nvmlDeviceGetHandleByIndex(dev_id)\n",
    "        info = nvmlDeviceGetMemoryInfo(handle)\n",
    "        print(f\"GPU memory occupied: {info.used//1024**2} MB.\")\n",
    "    except Exception as e:\n",
    "        print(e)\n",
    "\n",
    "@on_gpu\n",
    "def free_gpu_cache(dev_id=0):\n",
    "    print(\"Initial GPU Usage\")\n",
    "    print_gpu_utilization(dev_id)\n",
    "\n",
    "    torch.cuda.empty_cache()\n",
    "\n",
    "    print(\"GPU Usage after emptying the cache\")\n",
    "    print_gpu_utilization(dev_id)\n",
    "\n",
    "def print_summary(result):\n",
    "    print(f\"Time: {result.metrics['train_runtime']:.2f}\")\n",
    "    print(f\"Samples/second: {result.metrics['train_samples_per_second']:.2f}\")\n",
    "    print_gpu_utilization()"
   ],
   "outputs": []
  },
  {
   "cell_type": "code",
   "execution_count": 7,
   "metadata": {
    "id": "1cHTPAppKacl",
    "tags": [],
    "executionInfo": {
     "status": "ok",
     "timestamp": 1700521760691,
     "user_tz": 300,
     "elapsed": 10,
     "user": {
      "displayName": "Stepan Tytarenko · s",
      "userId": "05452541728631834731"
     }
    }
   },
   "source": [
    "device_id = 0"
   ],
   "outputs": []
  },
  {
   "cell_type": "code",
   "execution_count": 8,
   "metadata": {
    "colab": {
     "base_uri": "https://localhost:8080/"
    },
    "id": "VxNX0IVTNAM5",
    "outputId": "94aae4c7-b134-4f40-c6f2-659b506319a8",
    "tags": [],
    "executionInfo": {
     "status": "ok",
     "timestamp": 1700521760691,
     "user_tz": 300,
     "elapsed": 8,
     "user": {
      "displayName": "Stepan Tytarenko · s",
      "userId": "05452541728631834731"
     }
    }
   },
   "source": [
    "device = torch.device(f'cuda:{device_id}' if torch.cuda.is_available() else 'cpu')\n",
    "device"
   ],
   "outputs": []
  },
  {
   "cell_type": "code",
   "execution_count": 9,
   "metadata": {
    "id": "KYakW_Q_JQut",
    "tags": [],
    "executionInfo": {
     "status": "ok",
     "timestamp": 1700521760692,
     "user_tz": 300,
     "elapsed": 7,
     "user": {
      "displayName": "Stepan Tytarenko · s",
      "userId": "05452541728631834731"
     }
    }
   },
   "source": [
    "torch.cuda.set_device(device)"
   ],
   "outputs": []
  },
  {
   "cell_type": "code",
   "execution_count": 10,
   "metadata": {
    "id": "XH_wO_V2O0dh",
    "tags": [],
    "executionInfo": {
     "status": "ok",
     "timestamp": 1700521760692,
     "user_tz": 300,
     "elapsed": 7,
     "user": {
      "displayName": "Stepan Tytarenko · s",
      "userId": "05452541728631834731"
     }
    }
   },
   "source": [
    "MODEL_NAME = 'bert-base-uncased'\n",
    "MODELS_PATH = 'models'\n",
    "DATASET_NAME = 'water_crisis'\n",
    "\n",
    "NUM_LABELS = 2\n",
    "\n",
    "NUM_EPOCHS = 1\n",
    "BATCH_SIZE = 32\n",
    "MAX_SEQ_LEN = 256\n",
    "LEARNING_RATE = 2e-4\n",
    "MAX_GRAD_NORM = 1000"
   ],
   "outputs": []
  },
  {
   "cell_type": "code",
   "source": [
    "data = pd.read_csv('./space-model/data/final_dataset.csv')\n",
    "data"
   ],
   "metadata": {
    "colab": {
     "base_uri": "https://localhost:8080/",
     "height": 419
    },
    "id": "1Pudi3BT4qNU",
    "executionInfo": {
     "status": "ok",
     "timestamp": 1700521760872,
     "user_tz": 300,
     "elapsed": 186,
     "user": {
      "displayName": "Stepan Tytarenko · s",
      "userId": "05452541728631834731"
     }
    },
    "outputId": "db5fd2df-82f1-49ad-b3c3-b84a2ae0d5f0"
   },
   "execution_count": 11,
   "outputs": []
  },
  {
   "cell_type": "code",
   "source": [
    "data = data.rename({'sentences': 'text', 'attribution': 'label'}, axis=1)\n",
    "data"
   ],
   "metadata": {
    "colab": {
     "base_uri": "https://localhost:8080/",
     "height": 419
    },
    "id": "EXFzN_VB41mQ",
    "executionInfo": {
     "status": "ok",
     "timestamp": 1700521760873,
     "user_tz": 300,
     "elapsed": 10,
     "user": {
      "displayName": "Stepan Tytarenko · s",
      "userId": "05452541728631834731"
     }
    },
    "outputId": "036c835b-2dfe-4595-f958-86ebe25d9425"
   },
   "execution_count": 12,
   "outputs": []
  },
  {
   "cell_type": "code",
   "execution_count": 13,
   "metadata": {
    "colab": {
     "base_uri": "https://localhost:8080/"
    },
    "id": "ExLCdYtWN7Np",
    "outputId": "e4be52aa-751a-4f00-d853-917490c33d85",
    "tags": [],
    "executionInfo": {
     "status": "ok",
     "timestamp": 1700521760873,
     "user_tz": 300,
     "elapsed": 8,
     "user": {
      "displayName": "Stepan Tytarenko · s",
      "userId": "05452541728631834731"
     }
    }
   },
   "source": [
    "dataset = DatasetDict({\n",
    "    'train': Dataset.from_list(data.to_dict('records'))\n",
    "})\n",
    "dataset"
   ],
   "outputs": []
  },
  {
   "cell_type": "code",
   "execution_count": 14,
   "metadata": {
    "colab": {
     "base_uri": "https://localhost:8080/"
    },
    "id": "ku5ofLQBO0Ib",
    "outputId": "fc7cafb8-a14f-49bc-f95e-64271263cef5",
    "tags": [],
    "executionInfo": {
     "status": "ok",
     "timestamp": 1700521761207,
     "user_tz": 300,
     "elapsed": 337,
     "user": {
      "displayName": "Stepan Tytarenko · s",
      "userId": "05452541728631834731"
     }
    }
   },
   "source": [
    "tokenizer = AutoTokenizer.from_pretrained(MODEL_NAME)\n",
    "tokenizer"
   ],
   "outputs": []
  },
  {
   "cell_type": "code",
   "execution_count": 15,
   "metadata": {
    "tags": [],
    "id": "0M11tEeK4j5E",
    "executionInfo": {
     "status": "ok",
     "timestamp": 1700521761399,
     "user_tz": 300,
     "elapsed": 195,
     "user": {
      "displayName": "Stepan Tytarenko · s",
      "userId": "05452541728631834731"
     }
    }
   },
   "source": [
    "train_split, test_split = train_test_split(dataset['train'], test_size=0.2, random_state=SEED)"
   ],
   "outputs": []
  },
  {
   "cell_type": "code",
   "source": [
    "dataset['test'] = Dataset.from_dict(test_split)\n",
    "\n",
    "test_split, val_split = train_test_split(dataset['test'], test_size=0.5, random_state=SEED)"
   ],
   "metadata": {
    "id": "bTDiRyWd6Kgv",
    "executionInfo": {
     "status": "ok",
     "timestamp": 1700521761400,
     "user_tz": 300,
     "elapsed": 9,
     "user": {
      "displayName": "Stepan Tytarenko · s",
      "userId": "05452541728631834731"
     }
    }
   },
   "execution_count": 16,
   "outputs": []
  },
  {
   "cell_type": "code",
   "execution_count": 17,
   "metadata": {
    "tags": [],
    "colab": {
     "base_uri": "https://localhost:8080/"
    },
    "id": "bO1qcSYi4j5E",
    "executionInfo": {
     "status": "ok",
     "timestamp": 1700521761400,
     "user_tz": 300,
     "elapsed": 8,
     "user": {
      "displayName": "Stepan Tytarenko · s",
      "userId": "05452541728631834731"
     }
    },
    "outputId": "375ce401-f697-447c-932d-2be4a4c078a8"
   },
   "source": [
    "dataset['train'] = Dataset.from_dict(train_split)\n",
    "dataset['test'] = Dataset.from_dict(test_split)\n",
    "dataset['val'] = Dataset.from_dict(val_split)\n",
    "dataset"
   ],
   "outputs": []
  },
  {
   "cell_type": "code",
   "execution_count": 18,
   "metadata": {
    "colab": {
     "base_uri": "https://localhost:8080/",
     "height": 351,
     "referenced_widgets": [
      "f50a2a0b28994bceb51ce178102a99cd",
      "0d86a0e3874643599ddc51b59fab40e7",
      "1c15cae001f041e0ad445118065d8e7e",
      "e679ed7fd2104b89862c768c7eaec3f5",
      "e67e3566140b4c58b0eacbf90efc03bd",
      "dae0f963c8aa43b69a88f95c3a884aaf",
      "46aec27040a94bc6b5e0f15d47391c93",
      "dab3164e81194881958f2fe138be96bf",
      "351b18f093c94edea7c0a580b3c7283e",
      "e2635c4b1e4943c4b4a26dee3f8ad825",
      "7ef543a5527b40e1a9decf9813bece22",
      "848c090ab7d84fcdb47eb22f4d63c605",
      "b2a751f7b2d64cf58be2080647882d82",
      "223c9721b2f34c139b37f5078a7f2723",
      "def653e66d744588b88e5c575ec9790e",
      "709b1c5cf72c458db3efded778ef2227",
      "afa10c1880ea4a4da3f52a5337ef8ce0",
      "60ce7fedf84447ffa9c1b458f1bc80ba",
      "173d7c79cb0542c8945002aca7ae91b7",
      "7e15bb2729284bf7a741a5ecbb13144a",
      "317ada2f86cf4705ad3d37a2e69885f9",
      "c9fd0c78f4c046ff9c4f0f34c7877d75",
      "a9e2513fc6844a28a17614dc5f5322fb",
      "3e2c38764ee149949bf1d1a9e5a5dfea",
      "efc4b04bf35b4b37850b321e4439e207",
      "efceaf96bc9246cfae7ecb9491b7b679",
      "2af3324e63a541d89356b8097e9be35a",
      "c5a9c67c946b41a98e0709bbe94fa807",
      "b5f1225053cc45e393cf85ac722058bd",
      "927fc5ac47f24a8eaadb210ddaf79617",
      "d45443e649a54d92bc974c2be2ece592",
      "594a2b9b550d4111912c9e6a7306af12",
      "16dbce5e65f346dbb3fca5036d236b2b"
     ]
    },
    "id": "bXCIC4EvJQuv",
    "outputId": "bc7de233-aebe-4502-a0cb-f90bd2970684",
    "tags": [],
    "executionInfo": {
     "status": "ok",
     "timestamp": 1700521763270,
     "user_tz": 300,
     "elapsed": 1876,
     "user": {
      "displayName": "Stepan Tytarenko · s",
      "userId": "05452541728631834731"
     }
    }
   },
   "source": [
    "tokenized_dataset = dataset.map(lambda x: tokenizer(x['text'], truncation=True, padding='max_length', max_length=MAX_SEQ_LEN, return_tensors='pt'), batched=True)\n",
    "tokenized_dataset.set_format('torch', device=device)\n",
    "tokenized_dataset"
   ],
   "outputs": []
  },
  {
   "cell_type": "code",
   "execution_count": 19,
   "metadata": {
    "colab": {
     "base_uri": "https://localhost:8080/"
    },
    "id": "QU3O5O2FJQuv",
    "outputId": "4fd191bb-165d-4c0e-b8ec-8ba187863670",
    "tags": [],
    "executionInfo": {
     "status": "ok",
     "timestamp": 1700521769593,
     "user_tz": 300,
     "elapsed": 6325,
     "user": {
      "displayName": "Stepan Tytarenko · s",
      "userId": "05452541728631834731"
     }
    }
   },
   "source": [
    "base_model = AutoModelForSequenceClassification.from_pretrained(MODEL_NAME).to(device)\n",
    "base_model"
   ],
   "outputs": []
  },
  {
   "cell_type": "code",
   "execution_count": 20,
   "metadata": {
    "id": "1NzT1ZxdQiQj",
    "tags": [],
    "executionInfo": {
     "status": "ok",
     "timestamp": 1700521769594,
     "user_tz": 300,
     "elapsed": 8,
     "user": {
      "displayName": "Stepan Tytarenko · s",
      "userId": "05452541728631834731"
     }
    }
   },
   "source": [
    "def count_parameters(model):\n",
    "    return sum(p.numel() for p in model.parameters() if p.requires_grad)"
   ],
   "outputs": []
  },
  {
   "cell_type": "code",
   "execution_count": 21,
   "metadata": {
    "id": "Q5VVJldIJQuw",
    "tags": [],
    "executionInfo": {
     "status": "ok",
     "timestamp": 1700521769594,
     "user_tz": 300,
     "elapsed": 7,
     "user": {
      "displayName": "Stepan Tytarenko · s",
      "userId": "05452541728631834731"
     }
    }
   },
   "source": [
    "# for p in base_model.bert.parameters():\n",
    "    # p.requires_grad = False\n",
    "# for p in base_model.pre_classifier.parameters():\n",
    "#     p.requires_grad = True"
   ],
   "outputs": []
  },
  {
   "cell_type": "code",
   "execution_count": 22,
   "metadata": {
    "colab": {
     "base_uri": "https://localhost:8080/"
    },
    "id": "4pz3HY6kJQuw",
    "outputId": "62fa0759-bac6-4e65-e9f6-19cb71278ce4",
    "tags": [],
    "executionInfo": {
     "status": "ok",
     "timestamp": 1700521769594,
     "user_tz": 300,
     "elapsed": 7,
     "user": {
      "displayName": "Stepan Tytarenko · s",
      "userId": "05452541728631834731"
     }
    }
   },
   "source": [
    "count_parameters(base_model)"
   ],
   "outputs": []
  },
  {
   "cell_type": "code",
   "execution_count": 23,
   "metadata": {
    "id": "Tru9Ev77QseN",
    "tags": [],
    "executionInfo": {
     "status": "ok",
     "timestamp": 1700521769594,
     "user_tz": 300,
     "elapsed": 5,
     "user": {
      "displayName": "Stepan Tytarenko · s",
      "userId": "05452541728631834731"
     }
    }
   },
   "source": [
    "def eval(f):\n",
    "    def wrapper(model, *args, **kwargs):\n",
    "        model.eval()\n",
    "        return f(model, *args, **kwargs)\n",
    "    return wrapper\n",
    "\n",
    "def train(f):\n",
    "    def wrapper(model, *args, **kwargs):\n",
    "        model.train()\n",
    "        return f(model, *args, **kwargs)\n",
    "    return wrapper"
   ],
   "outputs": []
  },
  {
   "cell_type": "code",
   "execution_count": 24,
   "metadata": {
    "id": "OF6FIFmxTFy4",
    "tags": [],
    "executionInfo": {
     "status": "ok",
     "timestamp": 1700521769594,
     "user_tz": 300,
     "elapsed": 4,
     "user": {
      "displayName": "Stepan Tytarenko · s",
      "userId": "05452541728631834731"
     }
    }
   },
   "source": [
    "@train\n",
    "def train_epoch(model, train_dataloader, optimizer):\n",
    "    train_loss = 0.0\n",
    "    train_preds = []\n",
    "    train_labels = []\n",
    "\n",
    "    for step, batch in enumerate(tqdm(train_dataloader, total=len(train_dataloader))):\n",
    "        ids = batch['input_ids'].to(device, dtype = torch.long)\n",
    "        mask = batch['attention_mask'].to(device, dtype = torch.long)\n",
    "        targets = batch['label'].to(device, dtype = torch.long)\n",
    "\n",
    "        outputs = model(input_ids=ids, attention_mask=mask, labels=targets) # (B, Seq_Len, 2)\n",
    "\n",
    "        loss, logits = outputs.loss, outputs.logits\n",
    "\n",
    "        probs = F.softmax(logits, dim=-1).cpu()\n",
    "        pred = torch.argmax(probs, dim=-1) # (B)\n",
    "        train_preds += pred.detach().tolist()\n",
    "        train_labels += [l.item() for l in targets.cpu()]\n",
    "\n",
    "        optimizer.zero_grad()\n",
    "        loss.backward()\n",
    "        optimizer.step()\n",
    "\n",
    "        train_loss += loss.item()\n",
    "    return train_loss, train_preds, train_labels\n",
    "\n",
    "@eval\n",
    "def eval_epoch(model, val_dataloader):\n",
    "    val_loss = 0.0\n",
    "    val_preds = []\n",
    "    val_labels = []\n",
    "\n",
    "    with torch.no_grad():\n",
    "\n",
    "        for step, batch in enumerate(tqdm(val_dataloader, total=len(val_dataloader))):\n",
    "            ids = batch['input_ids'].to(device, dtype = torch.long)\n",
    "            mask = batch['attention_mask'].to(device, dtype = torch.long)\n",
    "            targets = batch['label'].to(device, dtype = torch.long)\n",
    "\n",
    "            outputs = model(input_ids=ids, attention_mask=mask, labels=targets)\n",
    "\n",
    "            loss, logits = outputs.loss, outputs.logits\n",
    "\n",
    "            probs = F.softmax(logits, dim=-1).cpu()\n",
    "            pred = torch.argmax(probs, dim=-1) # (B)\n",
    "            val_preds += pred.detach().tolist()\n",
    "            val_labels += [l.item() for l in targets.cpu()]\n",
    "\n",
    "            val_loss += loss.item()\n",
    "    return val_loss, val_preds, val_labels"
   ],
   "outputs": []
  },
  {
   "cell_type": "code",
   "execution_count": 25,
   "metadata": {
    "id": "COJTR-VlQzGz",
    "tags": [],
    "executionInfo": {
     "status": "ok",
     "timestamp": 1700521769594,
     "user_tz": 300,
     "elapsed": 4,
     "user": {
      "displayName": "Stepan Tytarenko · s",
      "userId": "05452541728631834731"
     }
    }
   },
   "source": [
    "def training(model, train_data, val_data, config):\n",
    "    model = model.to(device)\n",
    "\n",
    "    optimizer = torch.optim.Adam(\n",
    "        params=model.parameters(),\n",
    "        lr=config['lr'],\n",
    "        weight_decay=config['weight_decay']\n",
    "    )\n",
    "\n",
    "    num_train_steps = int(len(train_data) / config['batch_size'] * config['epochs'])\n",
    "\n",
    "    print(f'Train steps: {num_train_steps}')\n",
    "\n",
    "    train_dataloader = torch.utils.data.DataLoader(train_data, batch_size=config['batch_size'], shuffle=True)\n",
    "    val_dataloader = torch.utils.data.DataLoader(val_data, batch_size=2 * config['batch_size'])\n",
    "\n",
    "    history = {\n",
    "        'train_losses': [],\n",
    "        'val_losses': [],\n",
    "        'train_acc': [],\n",
    "        'val_acc': [],\n",
    "        'train_f1': [],\n",
    "        'val_f1': [],\n",
    "        'train_precision': [],\n",
    "        'val_precision': [],\n",
    "        'train_recall': [],\n",
    "        'val_recall': [],\n",
    "    }\n",
    "\n",
    "    for epoch_num in range(config['epochs']):\n",
    "        print(f'Epoch: {epoch_num + 1}')\n",
    "\n",
    "        # train stage\n",
    "        train_loss, train_preds, train_labels = train_epoch(model, train_dataloader, optimizer)\n",
    "\n",
    "        # eval stage\n",
    "        val_loss, val_preds, val_labels = eval_epoch(model, val_dataloader)\n",
    "\n",
    "        # metrics\n",
    "        train_acc = accuracy_score(train_labels, train_preds)\n",
    "        val_acc = accuracy_score(val_labels, val_preds)\n",
    "        train_f1 = f1_score(train_labels, train_preds, average='macro')\n",
    "        val_f1 = f1_score(val_labels, val_preds, average='macro')\n",
    "        train_precision = precision_score(train_labels, train_preds)\n",
    "        val_precision = precision_score(val_labels, val_preds)\n",
    "        train_recall = recall_score(train_labels, train_preds)\n",
    "        val_recall = recall_score(val_labels, val_preds)\n",
    "\n",
    "        history['train_losses'].append(train_loss / len(train_dataloader))\n",
    "        history['val_losses'].append(val_loss / len(val_dataloader))\n",
    "        history['train_acc'].append(train_acc)\n",
    "        history['val_acc'].append(val_acc)\n",
    "        history['train_f1'].append(train_f1)\n",
    "        history['val_f1'].append(val_f1)\n",
    "        history['train_precision'].append(train_precision)\n",
    "        history['val_precision'].append(val_precision)\n",
    "        history['train_recall'].append(train_recall)\n",
    "        history['val_recall'].append(val_recall)\n",
    "\n",
    "        print()\n",
    "        print(f'Train loss: {train_loss / len(train_dataloader)} | Val loss: {val_loss / len(val_dataloader)}')\n",
    "        print(f'Train acc: {train_acc} | Val acc: {val_acc}')\n",
    "        print(f'Train f1: {train_f1} | Val f1: {val_f1}')\n",
    "        print(f'Train precision: {train_precision} | Val precision: {val_precision}')\n",
    "        print(f'Train recall: {train_recall} | Val recall: {val_recall}')\n",
    "\n",
    "    free_gpu_cache(device_id)\n",
    "    return history"
   ],
   "outputs": []
  },
  {
   "cell_type": "code",
   "execution_count": 26,
   "metadata": {
    "colab": {
     "base_uri": "https://localhost:8080/"
    },
    "id": "JXJRyZ4ZJQux",
    "outputId": "c1b52f21-05a0-4158-ad35-614ac8feeaad",
    "tags": [],
    "executionInfo": {
     "status": "ok",
     "timestamp": 1700521772499,
     "user_tz": 300,
     "elapsed": 2909,
     "user": {
      "displayName": "Stepan Tytarenko · s",
      "userId": "05452541728631834731"
     }
    }
   },
   "source": [
    "ids = tokenized_dataset['test'][0]['input_ids'].unsqueeze(0)\n",
    "mask = tokenized_dataset['test'][0]['attention_mask'].unsqueeze(0)\n",
    "targets = tokenized_dataset['test'][0]['label'].unsqueeze(0)\n",
    "\n",
    "ids = ids.to(device)\n",
    "mask = mask.to(device)\n",
    "targets = targets.to(device)\n",
    "\n",
    "out = base_model(ids, mask, labels=targets)\n",
    "out.loss"
   ],
   "outputs": []
  },
  {
   "cell_type": "code",
   "execution_count": 27,
   "metadata": {
    "id": "j4NnMuDdJQuy",
    "tags": [],
    "executionInfo": {
     "status": "ok",
     "timestamp": 1700521772499,
     "user_tz": 300,
     "elapsed": 6,
     "user": {
      "displayName": "Stepan Tytarenko · s",
      "userId": "05452541728631834731"
     }
    }
   },
   "source": [
    "config = {\n",
    "    'epochs': NUM_EPOCHS,\n",
    "    'batch_size': BATCH_SIZE,\n",
    "    'gradient_accumulation_steps': 1,\n",
    "    'fp16': False,\n",
    "    'lr': LEARNING_RATE,\n",
    "    'max_grad_norm': MAX_GRAD_NORM,\n",
    "    'weight_decay': 0.01,\n",
    "}"
   ],
   "outputs": []
  },
  {
   "cell_type": "code",
   "execution_count": 28,
   "metadata": {
    "colab": {
     "base_uri": "https://localhost:8080/"
    },
    "id": "EQNqpZRGJQuy",
    "outputId": "825057b3-87c0-4413-fbf2-e439221adfbb",
    "tags": [],
    "executionInfo": {
     "status": "ok",
     "timestamp": 1700521969475,
     "user_tz": 300,
     "elapsed": 194883,
     "user": {
      "displayName": "Stepan Tytarenko · s",
      "userId": "05452541728631834731"
     }
    }
   },
   "source": [
    "history = training(base_model, tokenized_dataset['train'], tokenized_dataset['test'], config)"
   ],
   "outputs": []
  },
  {
   "cell_type": "code",
   "execution_count": 30,
   "metadata": {
    "id": "3Z1HxIVHI1Ox",
    "tags": [],
    "executionInfo": {
     "status": "ok",
     "timestamp": 1700521973740,
     "user_tz": 300,
     "elapsed": 183,
     "user": {
      "displayName": "Stepan Tytarenko · s",
      "userId": "05452541728631834731"
     }
    }
   },
   "source": [
    "def plot_results(history, do_val=True):\n",
    "    fig, ax = plt.subplots(figsize=(8, 8))\n",
    "\n",
    "    x = list(range(0, len(history['train_losses'])))\n",
    "\n",
    "    # loss\n",
    "\n",
    "    ax.plot(x, history['train_losses'], label='train_loss')\n",
    "\n",
    "    if do_val:\n",
    "        ax.plot(x, history['val_losses'], label='val_loss')\n",
    "\n",
    "    plt.title('Train / Validation Loss')\n",
    "    plt.legend(loc='upper right')\n",
    "\n",
    "    # accuracy\n",
    "\n",
    "    if 'train_acc' in history:\n",
    "        fig, ax = plt.subplots(figsize=(8, 8))\n",
    "\n",
    "        ax.plot(x, history['train_acc'], label='train_acc')\n",
    "\n",
    "        if do_val:\n",
    "            ax.plot(x, history['val_acc'], label='val_acc')\n",
    "\n",
    "    plt.title('Train / Validation Accuracy')\n",
    "    plt.legend(loc='upper right')\n",
    "\n",
    "    # f1-score\n",
    "\n",
    "    if 'train_f1' in history:\n",
    "        fig, ax = plt.subplots(figsize=(8, 8))\n",
    "\n",
    "        ax.plot(x, history['train_f1'], label='train_f1')\n",
    "\n",
    "        if do_val:\n",
    "            ax.plot(x, history['val_f1'], label='val_f1')\n",
    "\n",
    "        plt.title('Train / Validation F1')\n",
    "        plt.legend(loc='upper right')\n",
    "\n",
    "    # precision\n",
    "\n",
    "    if 'train_precision' in history:\n",
    "        fig, ax = plt.subplots(figsize=(8, 8))\n",
    "\n",
    "        ax.plot(x, history['train_precision'], label='train_precision')\n",
    "\n",
    "        if do_val:\n",
    "            ax.plot(x, history['val_precision'], label='val_precision')\n",
    "\n",
    "        plt.title('Train / Validation Precision')\n",
    "        plt.legend(loc='upper right')\n",
    "\n",
    "    # recall\n",
    "\n",
    "    if 'train_recall' in history:\n",
    "        fig, ax = plt.subplots(figsize=(8, 8))\n",
    "\n",
    "        ax.plot(x, history['train_recall'], label='train_recall')\n",
    "\n",
    "        if do_val:\n",
    "            ax.plot(x, history['val_recall'], label='val_recall')\n",
    "\n",
    "        plt.title('Train / Validation Recall')\n",
    "        plt.legend(loc='upper right')\n",
    "\n",
    "    fig.show()"
   ],
   "outputs": []
  },
  {
   "cell_type": "code",
   "execution_count": 31,
   "metadata": {
    "id": "bG7e7khvJQuz",
    "outputId": "94ef5ab5-0091-4754-e7f0-6be435578c10",
    "tags": [],
    "colab": {
     "base_uri": "https://localhost:8080/",
     "height": 1000
    },
    "executionInfo": {
     "status": "ok",
     "timestamp": 1700521975298,
     "user_tz": 300,
     "elapsed": 1174,
     "user": {
      "displayName": "Stepan Tytarenko · s",
      "userId": "05452541728631834731"
     }
    }
   },
   "source": [
    "plot_results(history)"
   ],
   "outputs": []
  },
  {
   "cell_type": "code",
   "execution_count": null,
   "metadata": {
    "id": "tXbl4gEnJQuz",
    "tags": []
   },
   "source": [
    "torch.save(base_model.state_dict(), f'{MODELS_PATH}/{DATASET_NAME}_{MODEL_NAME.replace(\"/\", \"_\")}_{NUM_EPOCHS}.bin')"
   ],
   "outputs": []
  },
  {
   "cell_type": "code",
   "execution_count": 32,
   "metadata": {
    "id": "FfReHdHLJQuz",
    "tags": [],
    "executionInfo": {
     "status": "ok",
     "timestamp": 1700521979395,
     "user_tz": 300,
     "elapsed": 525,
     "user": {
      "displayName": "Stepan Tytarenko · s",
      "userId": "05452541728631834731"
     }
    }
   },
   "source": [
    "val_dataset = tokenized_dataset['test']"
   ],
   "outputs": []
  },
  {
   "cell_type": "code",
   "execution_count": 33,
   "metadata": {
    "id": "dQXkQPscJQu0",
    "tags": [],
    "executionInfo": {
     "status": "ok",
     "timestamp": 1700521981060,
     "user_tz": 300,
     "elapsed": 492,
     "user": {
      "displayName": "Stepan Tytarenko · s",
      "userId": "05452541728631834731"
     }
    }
   },
   "source": [
    "val_dataloader = torch.utils.data.DataLoader(val_dataset, batch_size=2 * config['batch_size'])"
   ],
   "outputs": []
  },
  {
   "cell_type": "code",
   "execution_count": 34,
   "metadata": {
    "id": "KjpdE0mdJQu0",
    "outputId": "ff968826-543d-454a-ab1e-faad3523dd27",
    "tags": [],
    "colab": {
     "base_uri": "https://localhost:8080/"
    },
    "executionInfo": {
     "status": "ok",
     "timestamp": 1700521989908,
     "user_tz": 300,
     "elapsed": 8416,
     "user": {
      "displayName": "Stepan Tytarenko · s",
      "userId": "05452541728631834731"
     }
    }
   },
   "source": [
    "val_loss, val_preds, val_labels = eval_epoch(base_model, val_dataloader)\n",
    "val_acc = accuracy_score(val_labels, val_preds)\n",
    "val_f1 = f1_score(val_labels, val_preds, average='macro')\n",
    "val_precision = precision_score(val_labels, val_preds)\n",
    "val_recall = recall_score(val_labels, val_preds)"
   ],
   "outputs": []
  },
  {
   "cell_type": "code",
   "execution_count": 35,
   "metadata": {
    "id": "y7RgOP_9JQu0",
    "outputId": "f87c7ff4-decd-451a-effc-7d9f1012808e",
    "tags": [],
    "colab": {
     "base_uri": "https://localhost:8080/"
    },
    "executionInfo": {
     "status": "ok",
     "timestamp": 1700521991986,
     "user_tz": 300,
     "elapsed": 176,
     "user": {
      "displayName": "Stepan Tytarenko · s",
      "userId": "05452541728631834731"
     }
    }
   },
   "source": [
    "print(f'Val loss: {val_loss / len(val_dataloader)}')\n",
    "print(f'Val acc: {val_acc}')\n",
    "print(f'Val f1: {val_f1}')\n",
    "print(f'Val precision: {val_precision}')\n",
    "print(f'Val recall: {val_recall}')"
   ],
   "outputs": []
  },
  {
   "cell_type": "markdown",
   "metadata": {
    "id": "LamqccYFJQu0"
   },
   "source": [
    "## Space Model"
   ]
  },
  {
   "cell_type": "code",
   "execution_count": 37,
   "metadata": {
    "colab": {
     "base_uri": "https://localhost:8080/"
    },
    "id": "WS9YV-Hljbbf",
    "outputId": "1fffdf18-0bb9-4008-cd29-6f24b8ceab8d",
    "tags": [],
    "executionInfo": {
     "status": "ok",
     "timestamp": 1700522014064,
     "user_tz": 300,
     "elapsed": 5375,
     "user": {
      "displayName": "Stepan Tytarenko · s",
      "userId": "05452541728631834731"
     }
    }
   },
   "source": [
    "base_model = AutoModel.from_pretrained(MODEL_NAME)\n",
    "base_model"
   ],
   "outputs": []
  },
  {
   "cell_type": "code",
   "execution_count": 38,
   "metadata": {
    "colab": {
     "base_uri": "https://localhost:8080/"
    },
    "id": "_gSGah9kbqmg",
    "outputId": "43d10b87-3b82-4220-96b8-301887d25c51",
    "tags": [],
    "executionInfo": {
     "status": "ok",
     "timestamp": 1700522017300,
     "user_tz": 300,
     "elapsed": 669,
     "user": {
      "displayName": "Stepan Tytarenko · s",
      "userId": "05452541728631834731"
     }
    }
   },
   "source": [
    "space_model = SpaceModelForSequenceClassification(base_model, n_embed=768, n_latent=64, n_concept_spaces=2, l1=0, l2=0, fine_tune=False).to(device)\n",
    "space_model"
   ],
   "outputs": []
  },
  {
   "cell_type": "code",
   "execution_count": 39,
   "metadata": {
    "colab": {
     "base_uri": "https://localhost:8080/"
    },
    "id": "zoqfK9Y-jphw",
    "outputId": "bf2374c1-f764-4c0e-e286-d1273f86e122",
    "tags": [],
    "executionInfo": {
     "status": "ok",
     "timestamp": 1700522018707,
     "user_tz": 300,
     "elapsed": 174,
     "user": {
      "displayName": "Stepan Tytarenko · s",
      "userId": "05452541728631834731"
     }
    }
   },
   "source": [
    "count_parameters(space_model)"
   ],
   "outputs": []
  },
  {
   "cell_type": "code",
   "execution_count": 40,
   "metadata": {
    "id": "iPB1GJojZ9gH",
    "tags": [],
    "executionInfo": {
     "status": "ok",
     "timestamp": 1700522020444,
     "user_tz": 300,
     "elapsed": 153,
     "user": {
      "displayName": "Stepan Tytarenko · s",
      "userId": "05452541728631834731"
     }
    }
   },
   "source": [
    "ids = val_dataset[0]['input_ids'].unsqueeze(0)\n",
    "mask = val_dataset[0]['attention_mask'].unsqueeze(0)\n",
    "targets = val_dataset[0]['label'].unsqueeze(0)\n",
    "\n",
    "ids = ids.to(device)\n",
    "mask = mask.to(device)\n",
    "targets = targets.to(device)\n",
    "\n",
    "base_embed = space_model.base_model(ids, mask).last_hidden_state\n",
    "\n",
    "concept_spaces = space_model.space_model(base_embed).concept_spaces"
   ],
   "outputs": []
  },
  {
   "cell_type": "code",
   "execution_count": 41,
   "metadata": {
    "colab": {
     "base_uri": "https://localhost:8080/"
    },
    "id": "pOR6VKYsZaon",
    "outputId": "f414e4db-2ba7-4aa6-9df3-6191f9afc721",
    "tags": [],
    "executionInfo": {
     "status": "ok",
     "timestamp": 1700522021023,
     "user_tz": 300,
     "elapsed": 2,
     "user": {
      "displayName": "Stepan Tytarenko · s",
      "userId": "05452541728631834731"
     }
    }
   },
   "source": [
    "print(f'Inter-space loss: {space_model.l1 * inter_space_loss(concept_spaces) * BATCH_SIZE}')"
   ],
   "outputs": []
  },
  {
   "cell_type": "code",
   "execution_count": 42,
   "metadata": {
    "colab": {
     "base_uri": "https://localhost:8080/"
    },
    "id": "quk-ppIjZcK2",
    "outputId": "0096d069-554f-42d8-b162-fbc9e9c449d2",
    "tags": [],
    "executionInfo": {
     "status": "ok",
     "timestamp": 1700522021213,
     "user_tz": 300,
     "elapsed": 3,
     "user": {
      "displayName": "Stepan Tytarenko · s",
      "userId": "05452541728631834731"
     }
    }
   },
   "source": [
    "print(f'Intra-space loss: {space_model.l2 * intra_space_loss(concept_spaces) * BATCH_SIZE}')"
   ],
   "outputs": []
  },
  {
   "cell_type": "code",
   "source": [
    "for p in space_model.base_model.parameters():\n",
    "    p.requires_grad = False"
   ],
   "metadata": {
    "id": "SQtL6g-dBo8-",
    "executionInfo": {
     "status": "ok",
     "timestamp": 1700522315181,
     "user_tz": 300,
     "elapsed": 167,
     "user": {
      "displayName": "Stepan Tytarenko · s",
      "userId": "05452541728631834731"
     }
    }
   },
   "execution_count": 44,
   "outputs": []
  },
  {
   "cell_type": "code",
   "execution_count": 49,
   "metadata": {
    "colab": {
     "base_uri": "https://localhost:8080/"
    },
    "id": "z_lJuPF4mAGF",
    "outputId": "c9574249-a1f0-442b-dbc2-55d8014411da",
    "tags": [],
    "executionInfo": {
     "status": "ok",
     "timestamp": 1700522530925,
     "user_tz": 300,
     "elapsed": 83688,
     "user": {
      "displayName": "Stepan Tytarenko · s",
      "userId": "05452541728631834731"
     }
    }
   },
   "source": [
    "space_history = training(space_model, tokenized_dataset['train'], tokenized_dataset['val'], config)"
   ],
   "outputs": []
  },
  {
   "cell_type": "code",
   "execution_count": null,
   "metadata": {
    "id": "Or5z6ZymJQu2",
    "tags": []
   },
   "source": [
    "plot_results(space_history)"
   ],
   "outputs": []
  },
  {
   "cell_type": "code",
   "execution_count": 50,
   "metadata": {
    "colab": {
     "base_uri": "https://localhost:8080/"
    },
    "id": "PCVDqQz9I1O2",
    "outputId": "16588378-eb07-4a49-b18e-79b3231d8d89",
    "tags": [],
    "executionInfo": {
     "status": "ok",
     "timestamp": 1700522545749,
     "user_tz": 300,
     "elapsed": 8544,
     "user": {
      "displayName": "Stepan Tytarenko · s",
      "userId": "05452541728631834731"
     }
    }
   },
   "source": [
    "val_loss, val_preds, val_labels = eval_epoch(space_model, val_dataloader)"
   ],
   "outputs": []
  },
  {
   "cell_type": "code",
   "execution_count": 51,
   "metadata": {
    "id": "BlILC2j3L30y",
    "tags": [],
    "executionInfo": {
     "status": "ok",
     "timestamp": 1700522546646,
     "user_tz": 300,
     "elapsed": 5,
     "user": {
      "displayName": "Stepan Tytarenko · s",
      "userId": "05452541728631834731"
     }
    }
   },
   "source": [
    "val_acc = accuracy_score(val_labels, val_preds)\n",
    "val_f1 = f1_score(val_labels, val_preds, average='macro')\n",
    "val_precision = precision_score(val_labels, val_preds)\n",
    "val_recall = recall_score(val_labels, val_preds)"
   ],
   "outputs": []
  },
  {
   "cell_type": "code",
   "execution_count": 52,
   "metadata": {
    "colab": {
     "base_uri": "https://localhost:8080/"
    },
    "id": "KeVaz9nAJQu3",
    "outputId": "b0e82530-4b14-4cea-a39e-8106d508710d",
    "tags": [],
    "executionInfo": {
     "status": "ok",
     "timestamp": 1700522547854,
     "user_tz": 300,
     "elapsed": 173,
     "user": {
      "displayName": "Stepan Tytarenko · s",
      "userId": "05452541728631834731"
     }
    }
   },
   "source": [
    "print(f'Val loss: {val_loss / len(val_dataloader)}')\n",
    "print(f'Val acc: {val_acc}')\n",
    "print(f'Val f1: {val_f1}')\n",
    "print(f'Val precision: {val_precision}')\n",
    "print(f'Val recall: {val_recall}')"
   ],
   "outputs": []
  },
  {
   "cell_type": "code",
   "execution_count": null,
   "metadata": {
    "id": "U0hz4xrnbtX8",
    "tags": [],
    "outputId": "6aefd41a-a3d5-4eb1-dcff-f67083dc6812"
   },
   "source": [
    "torch.save(space_model.state_dict(), f'{MODELS_PATH}/{DATASET_NAME}_space-{MODEL_NAME}_{NUM_EPOCHS}.bin')"
   ],
   "outputs": []
  },
  {
   "cell_type": "markdown",
   "metadata": {
    "id": "hIcv6VgQbtX8"
   },
   "source": [
    "### Interpretation"
   ]
  },
  {
   "cell_type": "code",
   "execution_count": null,
   "metadata": {
    "id": "gTfxyoGEJQu2",
    "tags": []
   },
   "source": [
    "test_dataset = tokenized_dataset['unsupervised']"
   ],
   "outputs": []
  },
  {
   "cell_type": "code",
   "execution_count": null,
   "metadata": {
    "colab": {
     "base_uri": "https://localhost:8080/"
    },
    "id": "T_m4HYdjJbj3",
    "outputId": "add06483-722e-4ed1-d0f0-b45223bfd36a",
    "tags": []
   },
   "source": [
    "# examples with less than 16 words are easier to visualize, so focus on them\n",
    "examples_ids = []\n",
    "for i, v in enumerate(list(test_dataset['input_ids'])):\n",
    "    s = [t for t in v.cpu() if t != tokenizer.pad_token_id]\n",
    "    if len(s) <= 16:\n",
    "        examples_ids.append(i)\n",
    "print(examples_ids)"
   ],
   "outputs": []
  },
  {
   "cell_type": "code",
   "execution_count": null,
   "metadata": {
    "colab": {
     "base_uri": "https://localhost:8080/"
    },
    "id": "6Q943tIFJmgr",
    "outputId": "bdbcec92-523f-498c-da76-fada8c01f632",
    "tags": []
   },
   "source": [
    "scatters = []\n",
    "colors = ['blue', 'red']\n",
    "for sample_index in examples_ids:\n",
    "    # extract example, decode to tokens and get the sequence length (ingoring padding)\n",
    "    test_tokenized_batch = test_dataset[sample_index]\n",
    "    tokens = [tokenizer.decode(t) for t in test_tokenized_batch['input_ids'] if t != tokenizer.pad_token_id]\n",
    "    seq_len = len(tokens)\n",
    "\n",
    "    input_ids = test_tokenized_batch['input_ids'].to(device).unsqueeze(0)\n",
    "    attention_mask = test_tokenized_batch['attention_mask'].to(device).unsqueeze(0)\n",
    "\n",
    "    base_embed = space_model.base_model(input_ids, attention_mask).last_hidden_state\n",
    "\n",
    "    concept_spaces = space_model.space_model(base_embed).concept_spaces\n",
    "\n",
    "    print()\n",
    "\n",
    "    for c, embed in enumerate(concept_spaces):\n",
    "        x, y, z = embed[0, :seq_len, 0].detach().cpu().numpy(), embed[0, :seq_len, 1].detach().cpu().numpy(), embed[0, :seq_len, 2].detach().cpu().numpy()\n",
    "\n",
    "        scatters.append(go.Scatter3d(\n",
    "            x=x, y=y, z=z, mode='markers+text',\n",
    "            name=f'Example: {sample_index} ({c})',\n",
    "            text=tokens,\n",
    "            marker=dict(color=colors[c]),\n",
    "            # hovertext=[]\n",
    "        ))"
   ],
   "outputs": []
  },
  {
   "cell_type": "code",
   "execution_count": null,
   "metadata": {
    "colab": {
     "base_uri": "https://localhost:8080/",
     "height": 542
    },
    "id": "yqojVYN0JogZ",
    "outputId": "d9e92fdf-def5-4a6f-9911-04acd0445867",
    "tags": []
   },
   "source": [
    "fig = go.Figure(\n",
    "    data=scatters,\n",
    "    layout=go.Layout(\n",
    "        title=go.layout.Title(text='Space Embeddings')\n",
    "    ))\n",
    "fig.show()"
   ],
   "outputs": []
  },
  {
   "cell_type": "code",
   "execution_count": null,
   "metadata": {
    "id": "_WCjolXJJQu3",
    "tags": []
   },
   "source": [
    "fig.write_html(f'plots/{DATASET_NAME}_space-{MODEL_NAME}_{NUM_EPOCHS}.html')"
   ],
   "outputs": []
  },
  {
   "cell_type": "code",
   "execution_count": null,
   "metadata": {
    "id": "fLRRQIDtJQu3",
    "tags": []
   },
   "source": [
    "# space_bert = SpaceBertForSequenceClassification(bert, n_embed=768, n_latent=3, n_concept_spaces=2, l1=0, l2=0).to(device)\n",
    "# space_bert.load_state_dict(torch.load(f'{MODELS_PATH}/ce_loss_2_epochs.bin'))\n",
    "# space_bert"
   ],
   "outputs": []
  },
  {
   "cell_type": "code",
   "execution_count": null,
   "metadata": {
    "id": "fwNKTiMmJQu3"
   },
   "source": [],
   "outputs": []
  }
 ],
 "metadata": {
  "accelerator": "GPU",
  "colab": {
   "gpuType": "T4",
   "provenance": []
  },
  "kernelspec": {
   "display_name": "Python 3",
   "language": "python",
   "name": "python3"
  },
  "language_info": {
   "codemirror_mode": {
    "name": "ipython",
    "version": 3
   },
   "file_extension": ".py",
   "mimetype": "text/x-python",
   "name": "python",
   "nbconvert_exporter": "python",
   "pygments_lexer": "ipython3",
   "version": "3.8.10"
  },
  "widgets": {
   "application/vnd.jupyter.widget-state+json": {
    "f50a2a0b28994bceb51ce178102a99cd": {
     "model_module": "@jupyter-widgets/controls",
     "model_name": "HBoxModel",
     "model_module_version": "1.5.0",
     "state": {
      "_dom_classes": [],
      "_model_module": "@jupyter-widgets/controls",
      "_model_module_version": "1.5.0",
      "_model_name": "HBoxModel",
      "_view_count": null,
      "_view_module": "@jupyter-widgets/controls",
      "_view_module_version": "1.5.0",
      "_view_name": "HBoxView",
      "box_style": "",
      "children": [
       "IPY_MODEL_0d86a0e3874643599ddc51b59fab40e7",
       "IPY_MODEL_1c15cae001f041e0ad445118065d8e7e",
       "IPY_MODEL_e679ed7fd2104b89862c768c7eaec3f5"
      ],
      "layout": "IPY_MODEL_e67e3566140b4c58b0eacbf90efc03bd"
     }
    },
    "0d86a0e3874643599ddc51b59fab40e7": {
     "model_module": "@jupyter-widgets/controls",
     "model_name": "HTMLModel",
     "model_module_version": "1.5.0",
     "state": {
      "_dom_classes": [],
      "_model_module": "@jupyter-widgets/controls",
      "_model_module_version": "1.5.0",
      "_model_name": "HTMLModel",
      "_view_count": null,
      "_view_module": "@jupyter-widgets/controls",
      "_view_module_version": "1.5.0",
      "_view_name": "HTMLView",
      "description": "",
      "description_tooltip": null,
      "layout": "IPY_MODEL_dae0f963c8aa43b69a88f95c3a884aaf",
      "placeholder": "​",
      "style": "IPY_MODEL_46aec27040a94bc6b5e0f15d47391c93",
      "value": "Map: 100%"
     }
    },
    "1c15cae001f041e0ad445118065d8e7e": {
     "model_module": "@jupyter-widgets/controls",
     "model_name": "FloatProgressModel",
     "model_module_version": "1.5.0",
     "state": {
      "_dom_classes": [],
      "_model_module": "@jupyter-widgets/controls",
      "_model_module_version": "1.5.0",
      "_model_name": "FloatProgressModel",
      "_view_count": null,
      "_view_module": "@jupyter-widgets/controls",
      "_view_module_version": "1.5.0",
      "_view_name": "ProgressView",
      "bar_style": "success",
      "description": "",
      "description_tooltip": null,
      "layout": "IPY_MODEL_dab3164e81194881958f2fe138be96bf",
      "max": 4499,
      "min": 0,
      "orientation": "horizontal",
      "style": "IPY_MODEL_351b18f093c94edea7c0a580b3c7283e",
      "value": 4499
     }
    },
    "e679ed7fd2104b89862c768c7eaec3f5": {
     "model_module": "@jupyter-widgets/controls",
     "model_name": "HTMLModel",
     "model_module_version": "1.5.0",
     "state": {
      "_dom_classes": [],
      "_model_module": "@jupyter-widgets/controls",
      "_model_module_version": "1.5.0",
      "_model_name": "HTMLModel",
      "_view_count": null,
      "_view_module": "@jupyter-widgets/controls",
      "_view_module_version": "1.5.0",
      "_view_name": "HTMLView",
      "description": "",
      "description_tooltip": null,
      "layout": "IPY_MODEL_e2635c4b1e4943c4b4a26dee3f8ad825",
      "placeholder": "​",
      "style": "IPY_MODEL_7ef543a5527b40e1a9decf9813bece22",
      "value": " 4499/4499 [00:01&lt;00:00, 2976.80 examples/s]"
     }
    },
    "e67e3566140b4c58b0eacbf90efc03bd": {
     "model_module": "@jupyter-widgets/base",
     "model_name": "LayoutModel",
     "model_module_version": "1.2.0",
     "state": {
      "_model_module": "@jupyter-widgets/base",
      "_model_module_version": "1.2.0",
      "_model_name": "LayoutModel",
      "_view_count": null,
      "_view_module": "@jupyter-widgets/base",
      "_view_module_version": "1.2.0",
      "_view_name": "LayoutView",
      "align_content": null,
      "align_items": null,
      "align_self": null,
      "border": null,
      "bottom": null,
      "display": null,
      "flex": null,
      "flex_flow": null,
      "grid_area": null,
      "grid_auto_columns": null,
      "grid_auto_flow": null,
      "grid_auto_rows": null,
      "grid_column": null,
      "grid_gap": null,
      "grid_row": null,
      "grid_template_areas": null,
      "grid_template_columns": null,
      "grid_template_rows": null,
      "height": null,
      "justify_content": null,
      "justify_items": null,
      "left": null,
      "margin": null,
      "max_height": null,
      "max_width": null,
      "min_height": null,
      "min_width": null,
      "object_fit": null,
      "object_position": null,
      "order": null,
      "overflow": null,
      "overflow_x": null,
      "overflow_y": null,
      "padding": null,
      "right": null,
      "top": null,
      "visibility": null,
      "width": null
     }
    },
    "dae0f963c8aa43b69a88f95c3a884aaf": {
     "model_module": "@jupyter-widgets/base",
     "model_name": "LayoutModel",
     "model_module_version": "1.2.0",
     "state": {
      "_model_module": "@jupyter-widgets/base",
      "_model_module_version": "1.2.0",
      "_model_name": "LayoutModel",
      "_view_count": null,
      "_view_module": "@jupyter-widgets/base",
      "_view_module_version": "1.2.0",
      "_view_name": "LayoutView",
      "align_content": null,
      "align_items": null,
      "align_self": null,
      "border": null,
      "bottom": null,
      "display": null,
      "flex": null,
      "flex_flow": null,
      "grid_area": null,
      "grid_auto_columns": null,
      "grid_auto_flow": null,
      "grid_auto_rows": null,
      "grid_column": null,
      "grid_gap": null,
      "grid_row": null,
      "grid_template_areas": null,
      "grid_template_columns": null,
      "grid_template_rows": null,
      "height": null,
      "justify_content": null,
      "justify_items": null,
      "left": null,
      "margin": null,
      "max_height": null,
      "max_width": null,
      "min_height": null,
      "min_width": null,
      "object_fit": null,
      "object_position": null,
      "order": null,
      "overflow": null,
      "overflow_x": null,
      "overflow_y": null,
      "padding": null,
      "right": null,
      "top": null,
      "visibility": null,
      "width": null
     }
    },
    "46aec27040a94bc6b5e0f15d47391c93": {
     "model_module": "@jupyter-widgets/controls",
     "model_name": "DescriptionStyleModel",
     "model_module_version": "1.5.0",
     "state": {
      "_model_module": "@jupyter-widgets/controls",
      "_model_module_version": "1.5.0",
      "_model_name": "DescriptionStyleModel",
      "_view_count": null,
      "_view_module": "@jupyter-widgets/base",
      "_view_module_version": "1.2.0",
      "_view_name": "StyleView",
      "description_width": ""
     }
    },
    "dab3164e81194881958f2fe138be96bf": {
     "model_module": "@jupyter-widgets/base",
     "model_name": "LayoutModel",
     "model_module_version": "1.2.0",
     "state": {
      "_model_module": "@jupyter-widgets/base",
      "_model_module_version": "1.2.0",
      "_model_name": "LayoutModel",
      "_view_count": null,
      "_view_module": "@jupyter-widgets/base",
      "_view_module_version": "1.2.0",
      "_view_name": "LayoutView",
      "align_content": null,
      "align_items": null,
      "align_self": null,
      "border": null,
      "bottom": null,
      "display": null,
      "flex": null,
      "flex_flow": null,
      "grid_area": null,
      "grid_auto_columns": null,
      "grid_auto_flow": null,
      "grid_auto_rows": null,
      "grid_column": null,
      "grid_gap": null,
      "grid_row": null,
      "grid_template_areas": null,
      "grid_template_columns": null,
      "grid_template_rows": null,
      "height": null,
      "justify_content": null,
      "justify_items": null,
      "left": null,
      "margin": null,
      "max_height": null,
      "max_width": null,
      "min_height": null,
      "min_width": null,
      "object_fit": null,
      "object_position": null,
      "order": null,
      "overflow": null,
      "overflow_x": null,
      "overflow_y": null,
      "padding": null,
      "right": null,
      "top": null,
      "visibility": null,
      "width": null
     }
    },
    "351b18f093c94edea7c0a580b3c7283e": {
     "model_module": "@jupyter-widgets/controls",
     "model_name": "ProgressStyleModel",
     "model_module_version": "1.5.0",
     "state": {
      "_model_module": "@jupyter-widgets/controls",
      "_model_module_version": "1.5.0",
      "_model_name": "ProgressStyleModel",
      "_view_count": null,
      "_view_module": "@jupyter-widgets/base",
      "_view_module_version": "1.2.0",
      "_view_name": "StyleView",
      "bar_color": null,
      "description_width": ""
     }
    },
    "e2635c4b1e4943c4b4a26dee3f8ad825": {
     "model_module": "@jupyter-widgets/base",
     "model_name": "LayoutModel",
     "model_module_version": "1.2.0",
     "state": {
      "_model_module": "@jupyter-widgets/base",
      "_model_module_version": "1.2.0",
      "_model_name": "LayoutModel",
      "_view_count": null,
      "_view_module": "@jupyter-widgets/base",
      "_view_module_version": "1.2.0",
      "_view_name": "LayoutView",
      "align_content": null,
      "align_items": null,
      "align_self": null,
      "border": null,
      "bottom": null,
      "display": null,
      "flex": null,
      "flex_flow": null,
      "grid_area": null,
      "grid_auto_columns": null,
      "grid_auto_flow": null,
      "grid_auto_rows": null,
      "grid_column": null,
      "grid_gap": null,
      "grid_row": null,
      "grid_template_areas": null,
      "grid_template_columns": null,
      "grid_template_rows": null,
      "height": null,
      "justify_content": null,
      "justify_items": null,
      "left": null,
      "margin": null,
      "max_height": null,
      "max_width": null,
      "min_height": null,
      "min_width": null,
      "object_fit": null,
      "object_position": null,
      "order": null,
      "overflow": null,
      "overflow_x": null,
      "overflow_y": null,
      "padding": null,
      "right": null,
      "top": null,
      "visibility": null,
      "width": null
     }
    },
    "7ef543a5527b40e1a9decf9813bece22": {
     "model_module": "@jupyter-widgets/controls",
     "model_name": "DescriptionStyleModel",
     "model_module_version": "1.5.0",
     "state": {
      "_model_module": "@jupyter-widgets/controls",
      "_model_module_version": "1.5.0",
      "_model_name": "DescriptionStyleModel",
      "_view_count": null,
      "_view_module": "@jupyter-widgets/base",
      "_view_module_version": "1.2.0",
      "_view_name": "StyleView",
      "description_width": ""
     }
    },
    "848c090ab7d84fcdb47eb22f4d63c605": {
     "model_module": "@jupyter-widgets/controls",
     "model_name": "HBoxModel",
     "model_module_version": "1.5.0",
     "state": {
      "_dom_classes": [],
      "_model_module": "@jupyter-widgets/controls",
      "_model_module_version": "1.5.0",
      "_model_name": "HBoxModel",
      "_view_count": null,
      "_view_module": "@jupyter-widgets/controls",
      "_view_module_version": "1.5.0",
      "_view_name": "HBoxView",
      "box_style": "",
      "children": [
       "IPY_MODEL_b2a751f7b2d64cf58be2080647882d82",
       "IPY_MODEL_223c9721b2f34c139b37f5078a7f2723",
       "IPY_MODEL_def653e66d744588b88e5c575ec9790e"
      ],
      "layout": "IPY_MODEL_709b1c5cf72c458db3efded778ef2227"
     }
    },
    "b2a751f7b2d64cf58be2080647882d82": {
     "model_module": "@jupyter-widgets/controls",
     "model_name": "HTMLModel",
     "model_module_version": "1.5.0",
     "state": {
      "_dom_classes": [],
      "_model_module": "@jupyter-widgets/controls",
      "_model_module_version": "1.5.0",
      "_model_name": "HTMLModel",
      "_view_count": null,
      "_view_module": "@jupyter-widgets/controls",
      "_view_module_version": "1.5.0",
      "_view_name": "HTMLView",
      "description": "",
      "description_tooltip": null,
      "layout": "IPY_MODEL_afa10c1880ea4a4da3f52a5337ef8ce0",
      "placeholder": "​",
      "style": "IPY_MODEL_60ce7fedf84447ffa9c1b458f1bc80ba",
      "value": "Map: 100%"
     }
    },
    "223c9721b2f34c139b37f5078a7f2723": {
     "model_module": "@jupyter-widgets/controls",
     "model_name": "FloatProgressModel",
     "model_module_version": "1.5.0",
     "state": {
      "_dom_classes": [],
      "_model_module": "@jupyter-widgets/controls",
      "_model_module_version": "1.5.0",
      "_model_name": "FloatProgressModel",
      "_view_count": null,
      "_view_module": "@jupyter-widgets/controls",
      "_view_module_version": "1.5.0",
      "_view_name": "ProgressView",
      "bar_style": "success",
      "description": "",
      "description_tooltip": null,
      "layout": "IPY_MODEL_173d7c79cb0542c8945002aca7ae91b7",
      "max": 562,
      "min": 0,
      "orientation": "horizontal",
      "style": "IPY_MODEL_7e15bb2729284bf7a741a5ecbb13144a",
      "value": 562
     }
    },
    "def653e66d744588b88e5c575ec9790e": {
     "model_module": "@jupyter-widgets/controls",
     "model_name": "HTMLModel",
     "model_module_version": "1.5.0",
     "state": {
      "_dom_classes": [],
      "_model_module": "@jupyter-widgets/controls",
      "_model_module_version": "1.5.0",
      "_model_name": "HTMLModel",
      "_view_count": null,
      "_view_module": "@jupyter-widgets/controls",
      "_view_module_version": "1.5.0",
      "_view_name": "HTMLView",
      "description": "",
      "description_tooltip": null,
      "layout": "IPY_MODEL_317ada2f86cf4705ad3d37a2e69885f9",
      "placeholder": "​",
      "style": "IPY_MODEL_c9fd0c78f4c046ff9c4f0f34c7877d75",
      "value": " 562/562 [00:00&lt;00:00, 3236.27 examples/s]"
     }
    },
    "709b1c5cf72c458db3efded778ef2227": {
     "model_module": "@jupyter-widgets/base",
     "model_name": "LayoutModel",
     "model_module_version": "1.2.0",
     "state": {
      "_model_module": "@jupyter-widgets/base",
      "_model_module_version": "1.2.0",
      "_model_name": "LayoutModel",
      "_view_count": null,
      "_view_module": "@jupyter-widgets/base",
      "_view_module_version": "1.2.0",
      "_view_name": "LayoutView",
      "align_content": null,
      "align_items": null,
      "align_self": null,
      "border": null,
      "bottom": null,
      "display": null,
      "flex": null,
      "flex_flow": null,
      "grid_area": null,
      "grid_auto_columns": null,
      "grid_auto_flow": null,
      "grid_auto_rows": null,
      "grid_column": null,
      "grid_gap": null,
      "grid_row": null,
      "grid_template_areas": null,
      "grid_template_columns": null,
      "grid_template_rows": null,
      "height": null,
      "justify_content": null,
      "justify_items": null,
      "left": null,
      "margin": null,
      "max_height": null,
      "max_width": null,
      "min_height": null,
      "min_width": null,
      "object_fit": null,
      "object_position": null,
      "order": null,
      "overflow": null,
      "overflow_x": null,
      "overflow_y": null,
      "padding": null,
      "right": null,
      "top": null,
      "visibility": null,
      "width": null
     }
    },
    "afa10c1880ea4a4da3f52a5337ef8ce0": {
     "model_module": "@jupyter-widgets/base",
     "model_name": "LayoutModel",
     "model_module_version": "1.2.0",
     "state": {
      "_model_module": "@jupyter-widgets/base",
      "_model_module_version": "1.2.0",
      "_model_name": "LayoutModel",
      "_view_count": null,
      "_view_module": "@jupyter-widgets/base",
      "_view_module_version": "1.2.0",
      "_view_name": "LayoutView",
      "align_content": null,
      "align_items": null,
      "align_self": null,
      "border": null,
      "bottom": null,
      "display": null,
      "flex": null,
      "flex_flow": null,
      "grid_area": null,
      "grid_auto_columns": null,
      "grid_auto_flow": null,
      "grid_auto_rows": null,
      "grid_column": null,
      "grid_gap": null,
      "grid_row": null,
      "grid_template_areas": null,
      "grid_template_columns": null,
      "grid_template_rows": null,
      "height": null,
      "justify_content": null,
      "justify_items": null,
      "left": null,
      "margin": null,
      "max_height": null,
      "max_width": null,
      "min_height": null,
      "min_width": null,
      "object_fit": null,
      "object_position": null,
      "order": null,
      "overflow": null,
      "overflow_x": null,
      "overflow_y": null,
      "padding": null,
      "right": null,
      "top": null,
      "visibility": null,
      "width": null
     }
    },
    "60ce7fedf84447ffa9c1b458f1bc80ba": {
     "model_module": "@jupyter-widgets/controls",
     "model_name": "DescriptionStyleModel",
     "model_module_version": "1.5.0",
     "state": {
      "_model_module": "@jupyter-widgets/controls",
      "_model_module_version": "1.5.0",
      "_model_name": "DescriptionStyleModel",
      "_view_count": null,
      "_view_module": "@jupyter-widgets/base",
      "_view_module_version": "1.2.0",
      "_view_name": "StyleView",
      "description_width": ""
     }
    },
    "173d7c79cb0542c8945002aca7ae91b7": {
     "model_module": "@jupyter-widgets/base",
     "model_name": "LayoutModel",
     "model_module_version": "1.2.0",
     "state": {
      "_model_module": "@jupyter-widgets/base",
      "_model_module_version": "1.2.0",
      "_model_name": "LayoutModel",
      "_view_count": null,
      "_view_module": "@jupyter-widgets/base",
      "_view_module_version": "1.2.0",
      "_view_name": "LayoutView",
      "align_content": null,
      "align_items": null,
      "align_self": null,
      "border": null,
      "bottom": null,
      "display": null,
      "flex": null,
      "flex_flow": null,
      "grid_area": null,
      "grid_auto_columns": null,
      "grid_auto_flow": null,
      "grid_auto_rows": null,
      "grid_column": null,
      "grid_gap": null,
      "grid_row": null,
      "grid_template_areas": null,
      "grid_template_columns": null,
      "grid_template_rows": null,
      "height": null,
      "justify_content": null,
      "justify_items": null,
      "left": null,
      "margin": null,
      "max_height": null,
      "max_width": null,
      "min_height": null,
      "min_width": null,
      "object_fit": null,
      "object_position": null,
      "order": null,
      "overflow": null,
      "overflow_x": null,
      "overflow_y": null,
      "padding": null,
      "right": null,
      "top": null,
      "visibility": null,
      "width": null
     }
    },
    "7e15bb2729284bf7a741a5ecbb13144a": {
     "model_module": "@jupyter-widgets/controls",
     "model_name": "ProgressStyleModel",
     "model_module_version": "1.5.0",
     "state": {
      "_model_module": "@jupyter-widgets/controls",
      "_model_module_version": "1.5.0",
      "_model_name": "ProgressStyleModel",
      "_view_count": null,
      "_view_module": "@jupyter-widgets/base",
      "_view_module_version": "1.2.0",
      "_view_name": "StyleView",
      "bar_color": null,
      "description_width": ""
     }
    },
    "317ada2f86cf4705ad3d37a2e69885f9": {
     "model_module": "@jupyter-widgets/base",
     "model_name": "LayoutModel",
     "model_module_version": "1.2.0",
     "state": {
      "_model_module": "@jupyter-widgets/base",
      "_model_module_version": "1.2.0",
      "_model_name": "LayoutModel",
      "_view_count": null,
      "_view_module": "@jupyter-widgets/base",
      "_view_module_version": "1.2.0",
      "_view_name": "LayoutView",
      "align_content": null,
      "align_items": null,
      "align_self": null,
      "border": null,
      "bottom": null,
      "display": null,
      "flex": null,
      "flex_flow": null,
      "grid_area": null,
      "grid_auto_columns": null,
      "grid_auto_flow": null,
      "grid_auto_rows": null,
      "grid_column": null,
      "grid_gap": null,
      "grid_row": null,
      "grid_template_areas": null,
      "grid_template_columns": null,
      "grid_template_rows": null,
      "height": null,
      "justify_content": null,
      "justify_items": null,
      "left": null,
      "margin": null,
      "max_height": null,
      "max_width": null,
      "min_height": null,
      "min_width": null,
      "object_fit": null,
      "object_position": null,
      "order": null,
      "overflow": null,
      "overflow_x": null,
      "overflow_y": null,
      "padding": null,
      "right": null,
      "top": null,
      "visibility": null,
      "width": null
     }
    },
    "c9fd0c78f4c046ff9c4f0f34c7877d75": {
     "model_module": "@jupyter-widgets/controls",
     "model_name": "DescriptionStyleModel",
     "model_module_version": "1.5.0",
     "state": {
      "_model_module": "@jupyter-widgets/controls",
      "_model_module_version": "1.5.0",
      "_model_name": "DescriptionStyleModel",
      "_view_count": null,
      "_view_module": "@jupyter-widgets/base",
      "_view_module_version": "1.2.0",
      "_view_name": "StyleView",
      "description_width": ""
     }
    },
    "a9e2513fc6844a28a17614dc5f5322fb": {
     "model_module": "@jupyter-widgets/controls",
     "model_name": "HBoxModel",
     "model_module_version": "1.5.0",
     "state": {
      "_dom_classes": [],
      "_model_module": "@jupyter-widgets/controls",
      "_model_module_version": "1.5.0",
      "_model_name": "HBoxModel",
      "_view_count": null,
      "_view_module": "@jupyter-widgets/controls",
      "_view_module_version": "1.5.0",
      "_view_name": "HBoxView",
      "box_style": "",
      "children": [
       "IPY_MODEL_3e2c38764ee149949bf1d1a9e5a5dfea",
       "IPY_MODEL_efc4b04bf35b4b37850b321e4439e207",
       "IPY_MODEL_efceaf96bc9246cfae7ecb9491b7b679"
      ],
      "layout": "IPY_MODEL_2af3324e63a541d89356b8097e9be35a"
     }
    },
    "3e2c38764ee149949bf1d1a9e5a5dfea": {
     "model_module": "@jupyter-widgets/controls",
     "model_name": "HTMLModel",
     "model_module_version": "1.5.0",
     "state": {
      "_dom_classes": [],
      "_model_module": "@jupyter-widgets/controls",
      "_model_module_version": "1.5.0",
      "_model_name": "HTMLModel",
      "_view_count": null,
      "_view_module": "@jupyter-widgets/controls",
      "_view_module_version": "1.5.0",
      "_view_name": "HTMLView",
      "description": "",
      "description_tooltip": null,
      "layout": "IPY_MODEL_c5a9c67c946b41a98e0709bbe94fa807",
      "placeholder": "​",
      "style": "IPY_MODEL_b5f1225053cc45e393cf85ac722058bd",
      "value": "Map: 100%"
     }
    },
    "efc4b04bf35b4b37850b321e4439e207": {
     "model_module": "@jupyter-widgets/controls",
     "model_name": "FloatProgressModel",
     "model_module_version": "1.5.0",
     "state": {
      "_dom_classes": [],
      "_model_module": "@jupyter-widgets/controls",
      "_model_module_version": "1.5.0",
      "_model_name": "FloatProgressModel",
      "_view_count": null,
      "_view_module": "@jupyter-widgets/controls",
      "_view_module_version": "1.5.0",
      "_view_name": "ProgressView",
      "bar_style": "success",
      "description": "",
      "description_tooltip": null,
      "layout": "IPY_MODEL_927fc5ac47f24a8eaadb210ddaf79617",
      "max": 563,
      "min": 0,
      "orientation": "horizontal",
      "style": "IPY_MODEL_d45443e649a54d92bc974c2be2ece592",
      "value": 563
     }
    },
    "efceaf96bc9246cfae7ecb9491b7b679": {
     "model_module": "@jupyter-widgets/controls",
     "model_name": "HTMLModel",
     "model_module_version": "1.5.0",
     "state": {
      "_dom_classes": [],
      "_model_module": "@jupyter-widgets/controls",
      "_model_module_version": "1.5.0",
      "_model_name": "HTMLModel",
      "_view_count": null,
      "_view_module": "@jupyter-widgets/controls",
      "_view_module_version": "1.5.0",
      "_view_name": "HTMLView",
      "description": "",
      "description_tooltip": null,
      "layout": "IPY_MODEL_594a2b9b550d4111912c9e6a7306af12",
      "placeholder": "​",
      "style": "IPY_MODEL_16dbce5e65f346dbb3fca5036d236b2b",
      "value": " 563/563 [00:00&lt;00:00, 3183.53 examples/s]"
     }
    },
    "2af3324e63a541d89356b8097e9be35a": {
     "model_module": "@jupyter-widgets/base",
     "model_name": "LayoutModel",
     "model_module_version": "1.2.0",
     "state": {
      "_model_module": "@jupyter-widgets/base",
      "_model_module_version": "1.2.0",
      "_model_name": "LayoutModel",
      "_view_count": null,
      "_view_module": "@jupyter-widgets/base",
      "_view_module_version": "1.2.0",
      "_view_name": "LayoutView",
      "align_content": null,
      "align_items": null,
      "align_self": null,
      "border": null,
      "bottom": null,
      "display": null,
      "flex": null,
      "flex_flow": null,
      "grid_area": null,
      "grid_auto_columns": null,
      "grid_auto_flow": null,
      "grid_auto_rows": null,
      "grid_column": null,
      "grid_gap": null,
      "grid_row": null,
      "grid_template_areas": null,
      "grid_template_columns": null,
      "grid_template_rows": null,
      "height": null,
      "justify_content": null,
      "justify_items": null,
      "left": null,
      "margin": null,
      "max_height": null,
      "max_width": null,
      "min_height": null,
      "min_width": null,
      "object_fit": null,
      "object_position": null,
      "order": null,
      "overflow": null,
      "overflow_x": null,
      "overflow_y": null,
      "padding": null,
      "right": null,
      "top": null,
      "visibility": null,
      "width": null
     }
    },
    "c5a9c67c946b41a98e0709bbe94fa807": {
     "model_module": "@jupyter-widgets/base",
     "model_name": "LayoutModel",
     "model_module_version": "1.2.0",
     "state": {
      "_model_module": "@jupyter-widgets/base",
      "_model_module_version": "1.2.0",
      "_model_name": "LayoutModel",
      "_view_count": null,
      "_view_module": "@jupyter-widgets/base",
      "_view_module_version": "1.2.0",
      "_view_name": "LayoutView",
      "align_content": null,
      "align_items": null,
      "align_self": null,
      "border": null,
      "bottom": null,
      "display": null,
      "flex": null,
      "flex_flow": null,
      "grid_area": null,
      "grid_auto_columns": null,
      "grid_auto_flow": null,
      "grid_auto_rows": null,
      "grid_column": null,
      "grid_gap": null,
      "grid_row": null,
      "grid_template_areas": null,
      "grid_template_columns": null,
      "grid_template_rows": null,
      "height": null,
      "justify_content": null,
      "justify_items": null,
      "left": null,
      "margin": null,
      "max_height": null,
      "max_width": null,
      "min_height": null,
      "min_width": null,
      "object_fit": null,
      "object_position": null,
      "order": null,
      "overflow": null,
      "overflow_x": null,
      "overflow_y": null,
      "padding": null,
      "right": null,
      "top": null,
      "visibility": null,
      "width": null
     }
    },
    "b5f1225053cc45e393cf85ac722058bd": {
     "model_module": "@jupyter-widgets/controls",
     "model_name": "DescriptionStyleModel",
     "model_module_version": "1.5.0",
     "state": {
      "_model_module": "@jupyter-widgets/controls",
      "_model_module_version": "1.5.0",
      "_model_name": "DescriptionStyleModel",
      "_view_count": null,
      "_view_module": "@jupyter-widgets/base",
      "_view_module_version": "1.2.0",
      "_view_name": "StyleView",
      "description_width": ""
     }
    },
    "927fc5ac47f24a8eaadb210ddaf79617": {
     "model_module": "@jupyter-widgets/base",
     "model_name": "LayoutModel",
     "model_module_version": "1.2.0",
     "state": {
      "_model_module": "@jupyter-widgets/base",
      "_model_module_version": "1.2.0",
      "_model_name": "LayoutModel",
      "_view_count": null,
      "_view_module": "@jupyter-widgets/base",
      "_view_module_version": "1.2.0",
      "_view_name": "LayoutView",
      "align_content": null,
      "align_items": null,
      "align_self": null,
      "border": null,
      "bottom": null,
      "display": null,
      "flex": null,
      "flex_flow": null,
      "grid_area": null,
      "grid_auto_columns": null,
      "grid_auto_flow": null,
      "grid_auto_rows": null,
      "grid_column": null,
      "grid_gap": null,
      "grid_row": null,
      "grid_template_areas": null,
      "grid_template_columns": null,
      "grid_template_rows": null,
      "height": null,
      "justify_content": null,
      "justify_items": null,
      "left": null,
      "margin": null,
      "max_height": null,
      "max_width": null,
      "min_height": null,
      "min_width": null,
      "object_fit": null,
      "object_position": null,
      "order": null,
      "overflow": null,
      "overflow_x": null,
      "overflow_y": null,
      "padding": null,
      "right": null,
      "top": null,
      "visibility": null,
      "width": null
     }
    },
    "d45443e649a54d92bc974c2be2ece592": {
     "model_module": "@jupyter-widgets/controls",
     "model_name": "ProgressStyleModel",
     "model_module_version": "1.5.0",
     "state": {
      "_model_module": "@jupyter-widgets/controls",
      "_model_module_version": "1.5.0",
      "_model_name": "ProgressStyleModel",
      "_view_count": null,
      "_view_module": "@jupyter-widgets/base",
      "_view_module_version": "1.2.0",
      "_view_name": "StyleView",
      "bar_color": null,
      "description_width": ""
     }
    },
    "594a2b9b550d4111912c9e6a7306af12": {
     "model_module": "@jupyter-widgets/base",
     "model_name": "LayoutModel",
     "model_module_version": "1.2.0",
     "state": {
      "_model_module": "@jupyter-widgets/base",
      "_model_module_version": "1.2.0",
      "_model_name": "LayoutModel",
      "_view_count": null,
      "_view_module": "@jupyter-widgets/base",
      "_view_module_version": "1.2.0",
      "_view_name": "LayoutView",
      "align_content": null,
      "align_items": null,
      "align_self": null,
      "border": null,
      "bottom": null,
      "display": null,
      "flex": null,
      "flex_flow": null,
      "grid_area": null,
      "grid_auto_columns": null,
      "grid_auto_flow": null,
      "grid_auto_rows": null,
      "grid_column": null,
      "grid_gap": null,
      "grid_row": null,
      "grid_template_areas": null,
      "grid_template_columns": null,
      "grid_template_rows": null,
      "height": null,
      "justify_content": null,
      "justify_items": null,
      "left": null,
      "margin": null,
      "max_height": null,
      "max_width": null,
      "min_height": null,
      "min_width": null,
      "object_fit": null,
      "object_position": null,
      "order": null,
      "overflow": null,
      "overflow_x": null,
      "overflow_y": null,
      "padding": null,
      "right": null,
      "top": null,
      "visibility": null,
      "width": null
     }
    },
    "16dbce5e65f346dbb3fca5036d236b2b": {
     "model_module": "@jupyter-widgets/controls",
     "model_name": "DescriptionStyleModel",
     "model_module_version": "1.5.0",
     "state": {
      "_model_module": "@jupyter-widgets/controls",
      "_model_module_version": "1.5.0",
      "_model_name": "DescriptionStyleModel",
      "_view_count": null,
      "_view_module": "@jupyter-widgets/base",
      "_view_module_version": "1.2.0",
      "_view_name": "StyleView",
      "description_width": ""
     }
    }
   }
  }
 },
 "nbformat": 4,
 "nbformat_minor": 0
}
